{
  "nbformat": 4,
  "nbformat_minor": 0,
  "metadata": {
    "colab": {
      "provenance": [],
      "toc_visible": true,
      "include_colab_link": true
    },
    "kernelspec": {
      "name": "python3",
      "display_name": "Python 3"
    },
    "language_info": {
      "name": "python"
    },
    "widgets": {
      "application/vnd.jupyter.widget-state+json": {
        "acccf4f2e3a14e688df63cbaf2907509": {
          "model_module": "@jupyter-widgets/controls",
          "model_name": "HBoxModel",
          "state": {
            "_view_name": "HBoxView",
            "_dom_classes": [],
            "_model_name": "HBoxModel",
            "_view_module": "@jupyter-widgets/controls",
            "_model_module_version": "1.5.0",
            "_view_count": null,
            "_view_module_version": "1.5.0",
            "box_style": "",
            "layout": "IPY_MODEL_6ba2727648044267a507b25f4e7ba3b1",
            "_model_module": "@jupyter-widgets/controls",
            "children": [
              "IPY_MODEL_baf11b6a127a45b7aefcdebe6998d46d",
              "IPY_MODEL_3a4ee30735184215885669457bda1e55"
            ]
          },
          "model_module_version": "1.5.0"
        },
        "6ba2727648044267a507b25f4e7ba3b1": {
          "model_module": "@jupyter-widgets/base",
          "model_name": "LayoutModel",
          "state": {
            "_view_name": "LayoutView",
            "grid_template_rows": null,
            "right": null,
            "justify_content": null,
            "_view_module": "@jupyter-widgets/base",
            "overflow": null,
            "_model_module_version": "1.2.0",
            "_view_count": null,
            "flex_flow": null,
            "width": null,
            "min_width": null,
            "border": null,
            "align_items": null,
            "bottom": null,
            "_model_module": "@jupyter-widgets/base",
            "top": null,
            "grid_column": null,
            "overflow_y": null,
            "overflow_x": null,
            "grid_auto_flow": null,
            "grid_area": null,
            "grid_template_columns": null,
            "flex": null,
            "_model_name": "LayoutModel",
            "justify_items": null,
            "grid_row": null,
            "max_height": null,
            "align_content": null,
            "visibility": null,
            "align_self": null,
            "height": null,
            "min_height": null,
            "padding": null,
            "grid_auto_rows": null,
            "grid_gap": null,
            "max_width": null,
            "order": null,
            "_view_module_version": "1.2.0",
            "grid_template_areas": null,
            "object_position": null,
            "object_fit": null,
            "grid_auto_columns": null,
            "margin": null,
            "display": null,
            "left": null
          },
          "model_module_version": "1.2.0"
        },
        "baf11b6a127a45b7aefcdebe6998d46d": {
          "model_module": "@jupyter-widgets/controls",
          "model_name": "FloatProgressModel",
          "state": {
            "_view_name": "ProgressView",
            "style": "IPY_MODEL_af3fa3d826ac46f59a7ba6a7b336605d",
            "_dom_classes": [],
            "description": "100%",
            "_model_name": "FloatProgressModel",
            "bar_style": "success",
            "max": 700,
            "_view_module": "@jupyter-widgets/controls",
            "_model_module_version": "1.5.0",
            "value": 700,
            "_view_count": null,
            "_view_module_version": "1.5.0",
            "orientation": "horizontal",
            "min": 0,
            "description_tooltip": null,
            "_model_module": "@jupyter-widgets/controls",
            "layout": "IPY_MODEL_88ec64c7cc274778b54d05efd2c2791e"
          },
          "model_module_version": "1.5.0"
        },
        "3a4ee30735184215885669457bda1e55": {
          "model_module": "@jupyter-widgets/controls",
          "model_name": "HTMLModel",
          "state": {
            "_view_name": "HTMLView",
            "style": "IPY_MODEL_025ce31fa3c3493090f0fe9698fdb7c7",
            "_dom_classes": [],
            "description": "",
            "_model_name": "HTMLModel",
            "placeholder": "​",
            "_view_module": "@jupyter-widgets/controls",
            "_model_module_version": "1.5.0",
            "value": " 700/700 [05:39&lt;00:00,  2.06it/s]",
            "_view_count": null,
            "_view_module_version": "1.5.0",
            "description_tooltip": null,
            "_model_module": "@jupyter-widgets/controls",
            "layout": "IPY_MODEL_8ce962a198bd40448a4ef0720b444364"
          },
          "model_module_version": "1.5.0"
        },
        "af3fa3d826ac46f59a7ba6a7b336605d": {
          "model_module": "@jupyter-widgets/controls",
          "model_name": "ProgressStyleModel",
          "state": {
            "_view_name": "StyleView",
            "_model_name": "ProgressStyleModel",
            "description_width": "initial",
            "_view_module": "@jupyter-widgets/base",
            "_model_module_version": "1.5.0",
            "_view_count": null,
            "_view_module_version": "1.2.0",
            "bar_color": null,
            "_model_module": "@jupyter-widgets/controls"
          },
          "model_module_version": "1.5.0"
        },
        "88ec64c7cc274778b54d05efd2c2791e": {
          "model_module": "@jupyter-widgets/base",
          "model_name": "LayoutModel",
          "state": {
            "_view_name": "LayoutView",
            "grid_template_rows": null,
            "right": null,
            "justify_content": null,
            "_view_module": "@jupyter-widgets/base",
            "overflow": null,
            "_model_module_version": "1.2.0",
            "_view_count": null,
            "flex_flow": null,
            "width": null,
            "min_width": null,
            "border": null,
            "align_items": null,
            "bottom": null,
            "_model_module": "@jupyter-widgets/base",
            "top": null,
            "grid_column": null,
            "overflow_y": null,
            "overflow_x": null,
            "grid_auto_flow": null,
            "grid_area": null,
            "grid_template_columns": null,
            "flex": null,
            "_model_name": "LayoutModel",
            "justify_items": null,
            "grid_row": null,
            "max_height": null,
            "align_content": null,
            "visibility": null,
            "align_self": null,
            "height": null,
            "min_height": null,
            "padding": null,
            "grid_auto_rows": null,
            "grid_gap": null,
            "max_width": null,
            "order": null,
            "_view_module_version": "1.2.0",
            "grid_template_areas": null,
            "object_position": null,
            "object_fit": null,
            "grid_auto_columns": null,
            "margin": null,
            "display": null,
            "left": null
          },
          "model_module_version": "1.2.0"
        },
        "025ce31fa3c3493090f0fe9698fdb7c7": {
          "model_module": "@jupyter-widgets/controls",
          "model_name": "DescriptionStyleModel",
          "state": {
            "_view_name": "StyleView",
            "_model_name": "DescriptionStyleModel",
            "description_width": "",
            "_view_module": "@jupyter-widgets/base",
            "_model_module_version": "1.5.0",
            "_view_count": null,
            "_view_module_version": "1.2.0",
            "_model_module": "@jupyter-widgets/controls"
          },
          "model_module_version": "1.5.0"
        },
        "8ce962a198bd40448a4ef0720b444364": {
          "model_module": "@jupyter-widgets/base",
          "model_name": "LayoutModel",
          "state": {
            "_view_name": "LayoutView",
            "grid_template_rows": null,
            "right": null,
            "justify_content": null,
            "_view_module": "@jupyter-widgets/base",
            "overflow": null,
            "_model_module_version": "1.2.0",
            "_view_count": null,
            "flex_flow": null,
            "width": null,
            "min_width": null,
            "border": null,
            "align_items": null,
            "bottom": null,
            "_model_module": "@jupyter-widgets/base",
            "top": null,
            "grid_column": null,
            "overflow_y": null,
            "overflow_x": null,
            "grid_auto_flow": null,
            "grid_area": null,
            "grid_template_columns": null,
            "flex": null,
            "_model_name": "LayoutModel",
            "justify_items": null,
            "grid_row": null,
            "max_height": null,
            "align_content": null,
            "visibility": null,
            "align_self": null,
            "height": null,
            "min_height": null,
            "padding": null,
            "grid_auto_rows": null,
            "grid_gap": null,
            "max_width": null,
            "order": null,
            "_view_module_version": "1.2.0",
            "grid_template_areas": null,
            "object_position": null,
            "object_fit": null,
            "grid_auto_columns": null,
            "margin": null,
            "display": null,
            "left": null
          },
          "model_module_version": "1.2.0"
        },
        "1b5894151cc14b87b3e2dba4124d1848": {
          "model_module": "@jupyter-widgets/controls",
          "model_name": "HBoxModel",
          "state": {
            "_view_name": "HBoxView",
            "_dom_classes": [],
            "_model_name": "HBoxModel",
            "_view_module": "@jupyter-widgets/controls",
            "_model_module_version": "1.5.0",
            "_view_count": null,
            "_view_module_version": "1.5.0",
            "box_style": "",
            "layout": "IPY_MODEL_7522b4ed67ab4013afe84353e639d671",
            "_model_module": "@jupyter-widgets/controls",
            "children": [
              "IPY_MODEL_50c70a89def449c88d3c8bfa90edb299",
              "IPY_MODEL_f771c76e53fc47758d550add5288cb26"
            ]
          },
          "model_module_version": "1.5.0"
        },
        "7522b4ed67ab4013afe84353e639d671": {
          "model_module": "@jupyter-widgets/base",
          "model_name": "LayoutModel",
          "state": {
            "_view_name": "LayoutView",
            "grid_template_rows": null,
            "right": null,
            "justify_content": null,
            "_view_module": "@jupyter-widgets/base",
            "overflow": null,
            "_model_module_version": "1.2.0",
            "_view_count": null,
            "flex_flow": null,
            "width": null,
            "min_width": null,
            "border": null,
            "align_items": null,
            "bottom": null,
            "_model_module": "@jupyter-widgets/base",
            "top": null,
            "grid_column": null,
            "overflow_y": null,
            "overflow_x": null,
            "grid_auto_flow": null,
            "grid_area": null,
            "grid_template_columns": null,
            "flex": null,
            "_model_name": "LayoutModel",
            "justify_items": null,
            "grid_row": null,
            "max_height": null,
            "align_content": null,
            "visibility": null,
            "align_self": null,
            "height": null,
            "min_height": null,
            "padding": null,
            "grid_auto_rows": null,
            "grid_gap": null,
            "max_width": null,
            "order": null,
            "_view_module_version": "1.2.0",
            "grid_template_areas": null,
            "object_position": null,
            "object_fit": null,
            "grid_auto_columns": null,
            "margin": null,
            "display": null,
            "left": null
          },
          "model_module_version": "1.2.0"
        },
        "50c70a89def449c88d3c8bfa90edb299": {
          "model_module": "@jupyter-widgets/controls",
          "model_name": "FloatProgressModel",
          "state": {
            "_view_name": "ProgressView",
            "style": "IPY_MODEL_43a46c71aa544713acad457871663d5f",
            "_dom_classes": [],
            "description": "100%",
            "_model_name": "FloatProgressModel",
            "bar_style": "success",
            "max": 700,
            "_view_module": "@jupyter-widgets/controls",
            "_model_module_version": "1.5.0",
            "value": 700,
            "_view_count": null,
            "_view_module_version": "1.5.0",
            "orientation": "horizontal",
            "min": 0,
            "description_tooltip": null,
            "_model_module": "@jupyter-widgets/controls",
            "layout": "IPY_MODEL_3399d48637ed45c7ab02a1b022f40ee8"
          },
          "model_module_version": "1.5.0"
        },
        "f771c76e53fc47758d550add5288cb26": {
          "model_module": "@jupyter-widgets/controls",
          "model_name": "HTMLModel",
          "state": {
            "_view_name": "HTMLView",
            "style": "IPY_MODEL_eaf126ce59924ea68c79fe5440cfd0f5",
            "_dom_classes": [],
            "description": "",
            "_model_name": "HTMLModel",
            "placeholder": "​",
            "_view_module": "@jupyter-widgets/controls",
            "_model_module_version": "1.5.0",
            "value": " 700/700 [1:16:26&lt;00:00,  6.55s/it]",
            "_view_count": null,
            "_view_module_version": "1.5.0",
            "description_tooltip": null,
            "_model_module": "@jupyter-widgets/controls",
            "layout": "IPY_MODEL_9fe98e23766a4798a25c85047bf22c8c"
          },
          "model_module_version": "1.5.0"
        },
        "43a46c71aa544713acad457871663d5f": {
          "model_module": "@jupyter-widgets/controls",
          "model_name": "ProgressStyleModel",
          "state": {
            "_view_name": "StyleView",
            "_model_name": "ProgressStyleModel",
            "description_width": "initial",
            "_view_module": "@jupyter-widgets/base",
            "_model_module_version": "1.5.0",
            "_view_count": null,
            "_view_module_version": "1.2.0",
            "bar_color": null,
            "_model_module": "@jupyter-widgets/controls"
          },
          "model_module_version": "1.5.0"
        },
        "3399d48637ed45c7ab02a1b022f40ee8": {
          "model_module": "@jupyter-widgets/base",
          "model_name": "LayoutModel",
          "state": {
            "_view_name": "LayoutView",
            "grid_template_rows": null,
            "right": null,
            "justify_content": null,
            "_view_module": "@jupyter-widgets/base",
            "overflow": null,
            "_model_module_version": "1.2.0",
            "_view_count": null,
            "flex_flow": null,
            "width": null,
            "min_width": null,
            "border": null,
            "align_items": null,
            "bottom": null,
            "_model_module": "@jupyter-widgets/base",
            "top": null,
            "grid_column": null,
            "overflow_y": null,
            "overflow_x": null,
            "grid_auto_flow": null,
            "grid_area": null,
            "grid_template_columns": null,
            "flex": null,
            "_model_name": "LayoutModel",
            "justify_items": null,
            "grid_row": null,
            "max_height": null,
            "align_content": null,
            "visibility": null,
            "align_self": null,
            "height": null,
            "min_height": null,
            "padding": null,
            "grid_auto_rows": null,
            "grid_gap": null,
            "max_width": null,
            "order": null,
            "_view_module_version": "1.2.0",
            "grid_template_areas": null,
            "object_position": null,
            "object_fit": null,
            "grid_auto_columns": null,
            "margin": null,
            "display": null,
            "left": null
          },
          "model_module_version": "1.2.0"
        },
        "eaf126ce59924ea68c79fe5440cfd0f5": {
          "model_module": "@jupyter-widgets/controls",
          "model_name": "DescriptionStyleModel",
          "state": {
            "_view_name": "StyleView",
            "_model_name": "DescriptionStyleModel",
            "description_width": "",
            "_view_module": "@jupyter-widgets/base",
            "_model_module_version": "1.5.0",
            "_view_count": null,
            "_view_module_version": "1.2.0",
            "_model_module": "@jupyter-widgets/controls"
          },
          "model_module_version": "1.5.0"
        },
        "9fe98e23766a4798a25c85047bf22c8c": {
          "model_module": "@jupyter-widgets/base",
          "model_name": "LayoutModel",
          "state": {
            "_view_name": "LayoutView",
            "grid_template_rows": null,
            "right": null,
            "justify_content": null,
            "_view_module": "@jupyter-widgets/base",
            "overflow": null,
            "_model_module_version": "1.2.0",
            "_view_count": null,
            "flex_flow": null,
            "width": null,
            "min_width": null,
            "border": null,
            "align_items": null,
            "bottom": null,
            "_model_module": "@jupyter-widgets/base",
            "top": null,
            "grid_column": null,
            "overflow_y": null,
            "overflow_x": null,
            "grid_auto_flow": null,
            "grid_area": null,
            "grid_template_columns": null,
            "flex": null,
            "_model_name": "LayoutModel",
            "justify_items": null,
            "grid_row": null,
            "max_height": null,
            "align_content": null,
            "visibility": null,
            "align_self": null,
            "height": null,
            "min_height": null,
            "padding": null,
            "grid_auto_rows": null,
            "grid_gap": null,
            "max_width": null,
            "order": null,
            "_view_module_version": "1.2.0",
            "grid_template_areas": null,
            "object_position": null,
            "object_fit": null,
            "grid_auto_columns": null,
            "margin": null,
            "display": null,
            "left": null
          },
          "model_module_version": "1.2.0"
        },
        "bb1e8d3dce054d468d56a5824d491350": {
          "model_module": "@jupyter-widgets/controls",
          "model_name": "HBoxModel",
          "state": {
            "_view_name": "HBoxView",
            "_dom_classes": [],
            "_model_name": "HBoxModel",
            "_view_module": "@jupyter-widgets/controls",
            "_model_module_version": "1.5.0",
            "_view_count": null,
            "_view_module_version": "1.5.0",
            "box_style": "",
            "layout": "IPY_MODEL_d531c8db91054d899fa4d85a6807dea2",
            "_model_module": "@jupyter-widgets/controls",
            "children": [
              "IPY_MODEL_2a89737e5e4747daaa05af753ce211aa",
              "IPY_MODEL_8f08db1f7f37441a81f81ffefa805c9e"
            ]
          },
          "model_module_version": "1.5.0"
        },
        "d531c8db91054d899fa4d85a6807dea2": {
          "model_module": "@jupyter-widgets/base",
          "model_name": "LayoutModel",
          "state": {
            "_view_name": "LayoutView",
            "grid_template_rows": null,
            "right": null,
            "justify_content": null,
            "_view_module": "@jupyter-widgets/base",
            "overflow": null,
            "_model_module_version": "1.2.0",
            "_view_count": null,
            "flex_flow": null,
            "width": null,
            "min_width": null,
            "border": null,
            "align_items": null,
            "bottom": null,
            "_model_module": "@jupyter-widgets/base",
            "top": null,
            "grid_column": null,
            "overflow_y": null,
            "overflow_x": null,
            "grid_auto_flow": null,
            "grid_area": null,
            "grid_template_columns": null,
            "flex": null,
            "_model_name": "LayoutModel",
            "justify_items": null,
            "grid_row": null,
            "max_height": null,
            "align_content": null,
            "visibility": null,
            "align_self": null,
            "height": null,
            "min_height": null,
            "padding": null,
            "grid_auto_rows": null,
            "grid_gap": null,
            "max_width": null,
            "order": null,
            "_view_module_version": "1.2.0",
            "grid_template_areas": null,
            "object_position": null,
            "object_fit": null,
            "grid_auto_columns": null,
            "margin": null,
            "display": null,
            "left": null
          },
          "model_module_version": "1.2.0"
        },
        "2a89737e5e4747daaa05af753ce211aa": {
          "model_module": "@jupyter-widgets/controls",
          "model_name": "FloatProgressModel",
          "state": {
            "_view_name": "ProgressView",
            "style": "IPY_MODEL_eb8cfccd978a4ee79431843ba877a5a6",
            "_dom_classes": [],
            "description": "100%",
            "_model_name": "FloatProgressModel",
            "bar_style": "success",
            "max": 12,
            "_view_module": "@jupyter-widgets/controls",
            "_model_module_version": "1.5.0",
            "value": 12,
            "_view_count": null,
            "_view_module_version": "1.5.0",
            "orientation": "horizontal",
            "min": 0,
            "description_tooltip": null,
            "_model_module": "@jupyter-widgets/controls",
            "layout": "IPY_MODEL_edb292980b3547b3baca48e481858878"
          },
          "model_module_version": "1.5.0"
        },
        "8f08db1f7f37441a81f81ffefa805c9e": {
          "model_module": "@jupyter-widgets/controls",
          "model_name": "HTMLModel",
          "state": {
            "_view_name": "HTMLView",
            "style": "IPY_MODEL_36f34347644b405da768dc5386687922",
            "_dom_classes": [],
            "description": "",
            "_model_name": "HTMLModel",
            "placeholder": "​",
            "_view_module": "@jupyter-widgets/controls",
            "_model_module_version": "1.5.0",
            "value": " 12/12 [00:36&lt;00:00,  3.08s/it]",
            "_view_count": null,
            "_view_module_version": "1.5.0",
            "description_tooltip": null,
            "_model_module": "@jupyter-widgets/controls",
            "layout": "IPY_MODEL_c4d82ff52f28494297be5cb0e44d869b"
          },
          "model_module_version": "1.5.0"
        },
        "eb8cfccd978a4ee79431843ba877a5a6": {
          "model_module": "@jupyter-widgets/controls",
          "model_name": "ProgressStyleModel",
          "state": {
            "_view_name": "StyleView",
            "_model_name": "ProgressStyleModel",
            "description_width": "initial",
            "_view_module": "@jupyter-widgets/base",
            "_model_module_version": "1.5.0",
            "_view_count": null,
            "_view_module_version": "1.2.0",
            "bar_color": null,
            "_model_module": "@jupyter-widgets/controls"
          },
          "model_module_version": "1.5.0"
        },
        "edb292980b3547b3baca48e481858878": {
          "model_module": "@jupyter-widgets/base",
          "model_name": "LayoutModel",
          "state": {
            "_view_name": "LayoutView",
            "grid_template_rows": null,
            "right": null,
            "justify_content": null,
            "_view_module": "@jupyter-widgets/base",
            "overflow": null,
            "_model_module_version": "1.2.0",
            "_view_count": null,
            "flex_flow": null,
            "width": null,
            "min_width": null,
            "border": null,
            "align_items": null,
            "bottom": null,
            "_model_module": "@jupyter-widgets/base",
            "top": null,
            "grid_column": null,
            "overflow_y": null,
            "overflow_x": null,
            "grid_auto_flow": null,
            "grid_area": null,
            "grid_template_columns": null,
            "flex": null,
            "_model_name": "LayoutModel",
            "justify_items": null,
            "grid_row": null,
            "max_height": null,
            "align_content": null,
            "visibility": null,
            "align_self": null,
            "height": null,
            "min_height": null,
            "padding": null,
            "grid_auto_rows": null,
            "grid_gap": null,
            "max_width": null,
            "order": null,
            "_view_module_version": "1.2.0",
            "grid_template_areas": null,
            "object_position": null,
            "object_fit": null,
            "grid_auto_columns": null,
            "margin": null,
            "display": null,
            "left": null
          },
          "model_module_version": "1.2.0"
        },
        "36f34347644b405da768dc5386687922": {
          "model_module": "@jupyter-widgets/controls",
          "model_name": "DescriptionStyleModel",
          "state": {
            "_view_name": "StyleView",
            "_model_name": "DescriptionStyleModel",
            "description_width": "",
            "_view_module": "@jupyter-widgets/base",
            "_model_module_version": "1.5.0",
            "_view_count": null,
            "_view_module_version": "1.2.0",
            "_model_module": "@jupyter-widgets/controls"
          },
          "model_module_version": "1.5.0"
        },
        "c4d82ff52f28494297be5cb0e44d869b": {
          "model_module": "@jupyter-widgets/base",
          "model_name": "LayoutModel",
          "state": {
            "_view_name": "LayoutView",
            "grid_template_rows": null,
            "right": null,
            "justify_content": null,
            "_view_module": "@jupyter-widgets/base",
            "overflow": null,
            "_model_module_version": "1.2.0",
            "_view_count": null,
            "flex_flow": null,
            "width": null,
            "min_width": null,
            "border": null,
            "align_items": null,
            "bottom": null,
            "_model_module": "@jupyter-widgets/base",
            "top": null,
            "grid_column": null,
            "overflow_y": null,
            "overflow_x": null,
            "grid_auto_flow": null,
            "grid_area": null,
            "grid_template_columns": null,
            "flex": null,
            "_model_name": "LayoutModel",
            "justify_items": null,
            "grid_row": null,
            "max_height": null,
            "align_content": null,
            "visibility": null,
            "align_self": null,
            "height": null,
            "min_height": null,
            "padding": null,
            "grid_auto_rows": null,
            "grid_gap": null,
            "max_width": null,
            "order": null,
            "_view_module_version": "1.2.0",
            "grid_template_areas": null,
            "object_position": null,
            "object_fit": null,
            "grid_auto_columns": null,
            "margin": null,
            "display": null,
            "left": null
          },
          "model_module_version": "1.2.0"
        }
      }
    }
  },
  "cells": [
    {
      "cell_type": "markdown",
      "metadata": {
        "id": "view-in-github",
        "colab_type": "text"
      },
      "source": [
        "<a href=\"https://colab.research.google.com/github/CFVV/MSc-assignments/blob/main/T2_Automatic_gender_recognition_(male-female).ipynb\" target=\"_parent\"><img src=\"https://colab.research.google.com/assets/colab-badge.svg\" alt=\"Open In Colab\"/></a>"
      ]
    },
    {
      "cell_type": "markdown",
      "metadata": {
        "id": "LgiOqfwYFDj1"
      },
      "source": [
        "\n",
        "# Tarea 02: Reconocedor de Género\n",
        "## Curso Reconocimiento de Patrones\n",
        "\n",
        "Departamento de Ciencia de la Computación\n",
        "\n",
        "Pontificia Universidad Católica de Chile\n",
        "\n",
        "Camila F. Vera Villa\n"
      ]
    },
    {
      "cell_type": "markdown",
      "metadata": {
        "id": "b3zqOFplGGga"
      },
      "source": [
        "#Descripción\n",
        "El objetivo de esta tarea es diseñar un reconocedor automático de género (hombre/mujer) usando extracción de características (por ejemplo textura, geometría, etc.), seleccionador de caracteristicas y clasificador KNN.\n",
        "\n",
        "\n",
        "# Objetivo\n",
        "\n",
        "Se debe disenar un clasificador que funcione con un **máximo de 12 caracerísticas**, para esto se deben sacar al menos 200 características y a partir de técnicas se selección y/o transformación de características se le debe proporcionar al clasificador un máximo de 12 características. Está permitido por ejemplo una estrategia que:\n",
        "\n",
        "a) extraiga 1000 características\n",
        "\n",
        "b) seleccione 100\n",
        "\n",
        "c) realice una transformación (tipo PCA, PLSR, etc.) de esas 100 para obtener 12\n",
        "\n",
        "d) se clasifique con las 12 características obtenidas en c).\n",
        "\n",
        "\n",
        "Todas las combinaciones de transformación y selección, en cualquier orden están permitidas... la restricción es que el clasificador debe recibir como máximo 12 características.\n",
        "\n",
        "El clasificador a emplear es un KNN de 3 vecinos.\n",
        "\n",
        "La base de datos tiene 1400 imágenes y el protocolo de pruebas es el siguiente:\n",
        "* se usarán las primeras 630 imágenes por clase para training (nnnn={0001, 0002, ... 630})\n",
        "* las últimas 70 imágenes para testing (nnnn={0631, 0632, ... 700}).\n"
      ]
    },
    {
      "cell_type": "markdown",
      "metadata": {
        "id": "30iF5CvcJQAl"
      },
      "source": [
        "# 0. Setup Inicial\n"
      ]
    },
    {
      "cell_type": "markdown",
      "metadata": {
        "id": "vz2yhmn8Q2GQ"
      },
      "source": [
        "## Instalación de librerías necesarias"
      ]
    },
    {
      "cell_type": "code",
      "metadata": {
        "colab": {
          "base_uri": "https://localhost:8080/"
        },
        "id": "AYYFF1z4Qwei",
        "outputId": "089724c7-7233-4390-cdd5-c3efc064c75c"
      },
      "source": [
        "from IPython.display import clear_output\n",
        "!pip install opencv-python\n",
        "#!pip install scipy==1.2\n",
        "!pip install scipy==1.1.0\n",
        "!pip3 install pybalu==0.2.5\n",
        "clear_output()\n",
        "print('Librerías instaladas.')"
      ],
      "execution_count": null,
      "outputs": [
        {
          "output_type": "stream",
          "text": [
            "Librerías instaladas.\n"
          ],
          "name": "stdout"
        }
      ]
    },
    {
      "cell_type": "markdown",
      "metadata": {
        "id": "l64hcYt1Qy6Q"
      },
      "source": [
        "## Importación de librerías necesarias"
      ]
    },
    {
      "cell_type": "code",
      "metadata": {
        "id": "m2YyXS0mJNRq",
        "colab": {
          "base_uri": "https://localhost:8080/"
        },
        "outputId": "97bd5e14-f0cc-4b3d-a6ae-cf3ea6218acd"
      },
      "source": [
        "import numpy as np\n",
        "import pandas as pd\n",
        "import cv2\n",
        "import PIL\n",
        "import scipy\n",
        "import matplotlib.pyplot as plt\n",
        "import seaborn as sns\n",
        "from google.colab.patches import cv2_imshow\n",
        "from scipy.ndimage.morphology import binary_fill_holes\n",
        "from sklearn.metrics import confusion_matrix, accuracy_score\n",
        "from sklearn.neighbors import KNeighborsClassifier\n",
        "from tqdm.auto import tqdm\n",
        "from pybalu.feature_extraction import lbp_features, haralick_features, gabor_features,hog_features\n",
        "from pybalu.feature_transformation import normalize, pca\n",
        "from pybalu.feature_selection import sfs,clean\n",
        "from pybalu.feature_analysis import jfisher\n",
        "from pybalu.feature_extraction import fourier_des_features, hugeo_features, flusser_features, gupta_features,basic_geo_features\n",
        "from mlxtend.feature_selection import SequentialFeatureSelector as mlxsfs\n",
        "from sklearn.cross_decomposition import PLSRegression\n",
        "print('Librerías cargadas.')\n"
      ],
      "execution_count": null,
      "outputs": [
        {
          "output_type": "stream",
          "text": [
            "Librerías cargadas.\n"
          ],
          "name": "stdout"
        },
        {
          "output_type": "stream",
          "text": [
            "/usr/local/lib/python3.7/dist-packages/sklearn/externals/joblib/__init__.py:15: FutureWarning: sklearn.externals.joblib is deprecated in 0.21 and will be removed in 0.23. Please import this functionality directly from joblib, which can be installed with: pip install joblib. If this warning is raised when loading pickled models, you may need to re-serialize those models with scikit-learn 0.21+.\n",
            "  warnings.warn(msg, category=FutureWarning)\n"
          ],
          "name": "stderr"
        }
      ]
    },
    {
      "cell_type": "markdown",
      "metadata": {
        "id": "MPqMlvTiJoED"
      },
      "source": [
        "# 1. Carga de datos\n",
        "Se cuenta con una base de datos de 1400 imágenes de caras en tonos de gris de 165x120 pixeles, correspondientes fotos de hombres y fotos de mujeres, distribuidas 50-50%, es decir 700 imágenes pertencientes a la clase 0 (hombres), y 700 imágenes pertenecientes a la clase 1 (mujeres).\n",
        "\n",
        "El formato del nombre de la imagen es face_00x_nnnn.png donde x es 1 para hombres y 2 para mujeres, y nnnn es el número de la imagen por clase, es decir 0001, 0002, ... 0700.\n"
      ]
    },
    {
      "cell_type": "code",
      "metadata": {
        "id": "rpn74wtZEkI-",
        "colab": {
          "base_uri": "https://localhost:8080/"
        },
        "outputId": "ae95a5b0-df51-49fe-cf17-c1e574bb01ec"
      },
      "source": [
        "# Descarga de la totalidad de las imágenes desde dropbox\n",
        "!wget https://www.dropbox.com/s/1xajq6knp1mm34h/argender.zip\n",
        "clear_output()\n",
        "print('Imágenes descargadas.')"
      ],
      "execution_count": null,
      "outputs": [
        {
          "output_type": "stream",
          "text": [
            "Imágenes descargadas.\n"
          ],
          "name": "stdout"
        }
      ]
    },
    {
      "cell_type": "code",
      "metadata": {
        "id": "6ftuVGkfEkL-",
        "colab": {
          "base_uri": "https://localhost:8080/"
        },
        "outputId": "241aef6f-e759-48ec-ac9a-86ff9fb9e65d"
      },
      "source": [
        "# Descomprimir la carpeta de imágenes\n",
        "!unzip argender\n",
        "!rm argender.zip\n",
        "clear_output()\n",
        "print('Base de datos cargada.')"
      ],
      "execution_count": null,
      "outputs": [
        {
          "output_type": "stream",
          "text": [
            "Base de datos cargada.\n"
          ],
          "name": "stdout"
        }
      ]
    },
    {
      "cell_type": "markdown",
      "metadata": {
        "id": "ARjOTmnMIfRM"
      },
      "source": [
        "Funciones necesarias"
      ]
    },
    {
      "cell_type": "code",
      "metadata": {
        "id": "l8MB4R-3Og5R"
      },
      "source": [
        "# Funciones necesarias para que se pueda cargar una imagen individual\n",
        "\n",
        "def num2fixstr(x,d):\n",
        "  # example num2fixstr(2,5) returns '00002'\n",
        "  st = '%0*d' % (d,x)\n",
        "  return st\n",
        "\n",
        "def ImageLoadColor(prefix,num_char,num_img,echo='off'):\n",
        "  st   = prefix + num2fixstr(num_char,3) + '_' + num2fixstr(num_img,4) + '.png'\n",
        "  if echo == 'on':\n",
        "    print('loading image '+st+'...')\n",
        "  imgColor = cv2.cvtColor(cv2.imread(st), cv2.COLOR_BGR2RGB) #gray ->  COLOR_BGR2GRAY\n",
        "  return imgColor\n",
        "\n",
        "def ImageLoad(prefix,num_char,num_img,echo='off'):\n",
        "  st   = prefix + num2fixstr(num_char,3) + '_' + num2fixstr(num_img,4) + '.png'\n",
        "  if echo == 'on':\n",
        "    print('loading image '+st+'...')\n",
        "  img    = np.array(plt.imread(st), dtype = np.uint8)\n",
        "  return img"
      ],
      "execution_count": null,
      "outputs": []
    },
    {
      "cell_type": "markdown",
      "metadata": {
        "id": "BiFiwpbzcnP5"
      },
      "source": [
        "Visualización de una imagen por cada clase"
      ]
    },
    {
      "cell_type": "markdown",
      "metadata": {
        "id": "BpMn2iDFcv9L"
      },
      "source": [
        "* Lectura de una imagen de la clase 0: hombre"
      ]
    },
    {
      "cell_type": "code",
      "metadata": {
        "colab": {
          "base_uri": "https://localhost:8080/",
          "height": 286
        },
        "id": "uzH47ZUCAFNd",
        "outputId": "fea08e85-ef7c-4db4-ceb0-dbd97546989a"
      },
      "source": [
        "# Lectura de una imagen para hombre RGB\n",
        "fig    = plt.figure()\n",
        "ax     = fig.add_subplot(111)\n",
        "imgColor    = ImageLoadColor('argender/face_',1,1,echo='on')\n",
        "implot = plt.imshow(imgColor)"
      ],
      "execution_count": null,
      "outputs": [
        {
          "output_type": "stream",
          "text": [
            "loading image argender/face_001_0001.png...\n"
          ],
          "name": "stdout"
        },
        {
          "output_type": "display_data",
          "data": {
            "image/png": "[encoded data removed]",
            "text/plain": [
              "<Figure size 432x288 with 1 Axes>"
            ]
          },
          "metadata": {
            "tags": [],
            "needs_background": "light"
          }
        }
      ]
    },
    {
      "cell_type": "code",
      "metadata": {
        "colab": {
          "base_uri": "https://localhost:8080/",
          "height": 286
        },
        "id": "8GAVoa0pOg2i",
        "outputId": "2d81bf7c-976a-4694-a85e-95f2b1341faf"
      },
      "source": [
        "# Lectura de una imagen para hombre 2D Array\n",
        "fig    = plt.figure()\n",
        "ax     = fig.add_subplot(111)\n",
        "img    = ImageLoad('argender/face_',1,1,echo='on')\n",
        "implot = plt.imshow(img )\n"
      ],
      "execution_count": null,
      "outputs": [
        {
          "output_type": "stream",
          "text": [
            "loading image argender/face_001_0001.png...\n"
          ],
          "name": "stdout"
        },
        {
          "output_type": "display_data",
          "data": {
            "image/png": "[encoded data removed]",
            "text/plain": [
              "<Figure size 432x288 with 1 Axes>"
            ]
          },
          "metadata": {
            "tags": [],
            "needs_background": "light"
          }
        }
      ]
    },
    {
      "cell_type": "markdown",
      "metadata": {
        "id": "OqjSrvIlczJn"
      },
      "source": [
        "* Lectura de una imagen de la clase 1: mujer"
      ]
    },
    {
      "cell_type": "code",
      "metadata": {
        "colab": {
          "base_uri": "https://localhost:8080/",
          "height": 286
        },
        "id": "j5KwziYqATKs",
        "outputId": "bf0730ef-d80d-4b50-8239-243f9a7463a5"
      },
      "source": [
        "# Lectura de una imagen mujer RGB\n",
        "fig    = plt.figure()\n",
        "ax     = fig.add_subplot(111)\n",
        "imgColor    = ImageLoadColor('argender/face_',2,288,echo='on')\n",
        "implot = plt.imshow(imgColor) #,cmap='gray'"
      ],
      "execution_count": null,
      "outputs": [
        {
          "output_type": "stream",
          "text": [
            "loading image argender/face_002_0288.png...\n"
          ],
          "name": "stdout"
        },
        {
          "output_type": "display_data",
          "data": {
            "image/png": "[encoded data removed]",
            "text/plain": [
              "<Figure size 432x288 with 1 Axes>"
            ]
          },
          "metadata": {
            "tags": [],
            "needs_background": "light"
          }
        }
      ]
    },
    {
      "cell_type": "code",
      "metadata": {
        "colab": {
          "base_uri": "https://localhost:8080/",
          "height": 286
        },
        "id": "_cWWrkMVOgz0",
        "outputId": "12e887f6-b257-4eac-855d-aa5c05998f52"
      },
      "source": [
        "# Lectura de una imagen mujer 2D Array\n",
        "fig    = plt.figure()\n",
        "ax     = fig.add_subplot(111)\n",
        "img    = ImageLoad('argender/face_',2,288,echo='on')\n",
        "implot = plt.imshow(img) #,cmap='gray'\n"
      ],
      "execution_count": null,
      "outputs": [
        {
          "output_type": "stream",
          "text": [
            "loading image argender/face_002_0288.png...\n"
          ],
          "name": "stdout"
        },
        {
          "output_type": "display_data",
          "data": {
            "image/png": "[encoded data removed]",
            "text/plain": [
              "<Figure size 432x288 with 1 Axes>"
            ]
          },
          "metadata": {
            "tags": [],
            "needs_background": "light"
          }
        }
      ]
    },
    {
      "cell_type": "markdown",
      "metadata": {
        "id": "7yq_6xIucrdm"
      },
      "source": [
        "# 2. Definición de conjuntos de train y test.\n",
        "\n",
        "*   Training: primeras 630 imágenes de cada clase\n",
        "*   Testing: últimas 70 imágenes de cada clase"
      ]
    },
    {
      "cell_type": "code",
      "metadata": {
        "id": "bWxQixg60JOQ"
      },
      "source": [
        "# Separación entre training y testing\n",
        "def SplitTrainTest(X,y,n):\n",
        "\n",
        "  K      = np.max(y)+1              # número de clases\n",
        "  N      = np.int(X.shape[0]/K)     # numeros de muestras por clase\n",
        "  Ntrain = n*K                      # número de muestras para el training\n",
        "  Ntest  = K*N-Ntrain               # número de muestras para el testing\n",
        "  M      = X.shape[1]               # número de características por muestra\n",
        "  Xtrain = np.zeros((Ntrain,M))     # subset de training\n",
        "  ytrain = np.zeros((Ntrain),'int') # ground truth del training\n",
        "  Xtest  = np.zeros((Ntest,M))      # subset de testing\n",
        "  ytest  = np.zeros((Ntest),'int')  # ground truth del testing\n",
        "\n",
        "  # contadores\n",
        "  itrain = 0\n",
        "  itest  = 0\n",
        "  t      = 0\n",
        "\n",
        "  for j in range(K):     # para cada clase\n",
        "    for i in range(N):   # para cada imagen de la clase\n",
        "      if i<n: # training\n",
        "        Xtrain[itrain,:] = X[t,:]\n",
        "        ytrain[itrain] = y[t]\n",
        "        itrain = itrain+1\n",
        "      else:  # testing\n",
        "        Xtest[itest,:] = X[t,:]\n",
        "        ytest[itest] = y[t]\n",
        "        itest = itest+1\n",
        "      t = t+1\n",
        "\n",
        "  return Xtrain,ytrain,Xtest,ytest\n"
      ],
      "execution_count": null,
      "outputs": []
    },
    {
      "cell_type": "markdown",
      "metadata": {
        "id": "A8go7mIvMrZ2"
      },
      "source": [
        "Normalización MinMax: cada columna es normalizada para que tenga minimo 0 y máximo 1"
      ]
    },
    {
      "cell_type": "code",
      "metadata": {
        "id": "RBuYJ5jxMrz9"
      },
      "source": [
        "# Normalización MinMax: cada columna es normalizada para que tenga minimo 0 y máximo 1\n",
        "def minmax(X):\n",
        "    ma = X.max(0)\n",
        "    mi = X.min(0)\n",
        "    md    = ma-mi\n",
        "    a     = 1/ md\n",
        "    b     = -mi/md\n",
        "    return X * a + b, a, b"
      ],
      "execution_count": null,
      "outputs": []
    },
    {
      "cell_type": "markdown",
      "metadata": {
        "id": "4EH5aLCcij-y"
      },
      "source": [
        "# 2. RONDAS DE EXPERIMENTOS"
      ]
    },
    {
      "cell_type": "markdown",
      "metadata": {
        "id": "R2BompDXiQJP"
      },
      "source": [
        "# I. PRIMERA PARTE\n",
        "## RONDA DE EXPERIMENTOS PARA EXTRACCIÓN DE CARACTERÍSTICAS Y CLASIFICACIÓN"
      ]
    },
    {
      "cell_type": "markdown",
      "metadata": {
        "id": "U7tjgmMDYBss"
      },
      "source": [
        "## A. Extracción de características LBP, Haralick, Gabor y HoG\n",
        "**LBP**:\n",
        "\n",
        "Se divide la imagen img en a x b particiones y en cada una de ellas se extrae el descriptor LBP (vector de 59 elementos). En este caso f es un vector de 59*a*b elementos. En este caso se considerará a = b = 2, es decir dos particiones por imagen.\n",
        "\n",
        "\n",
        "```\n",
        "f = lbp_features(img, hdiv=a, vdiv=b, mapping='nri_uniform')\n",
        "```\n",
        "**Haralick**:\n",
        "\n",
        "\n",
        "Se extrae el vector Haralick para una distancia de `d` pixeles. En este caso `f` es un vector de 28 elementos (independiente de la distancia `d`). En este caso se considerará *d = 3.*\n",
        "\n",
        "`f = haralick_features(img, distance=d)`\n",
        "\n",
        "**Gabor**:\n",
        "\n",
        "Se extrae el vector Gabor para `r` rotaciones y `s` escalas. En este caso `f` es un vector de `r*s+3` elementos. En este caso se considerará  *r = s = 8*.\n",
        "\n",
        "\n",
        "`f = gabor_features(img, rotations=r, dilations=s)`\n",
        "\n",
        "**HoG**:\n",
        "\n",
        "se divide la imagen `img` en `a x b` particiones y en cada una de ellas se extrae el descriptor HoG (vector de `q` elementos, ya que el histograma es de `q` bins). En este caso `f` es un vector de `q*a*b` elementos. En este ejercicio trabajaremos con `a = 16, b = 10` y  `q = 9` bins en el histograma. Es decir 1440 features.\n",
        "\n",
        "`f = hog_features(img, v_windows=a, h_windows=b, n_bins=q)`\n",
        "\n",
        "\n"
      ]
    },
    {
      "cell_type": "code",
      "metadata": {
        "colab": {
          "base_uri": "https://localhost:8080/",
          "height": 1000,
          "referenced_widgets": [
            "acccf4f2e3a14e688df63cbaf2907509",
            "6ba2727648044267a507b25f4e7ba3b1",
            "baf11b6a127a45b7aefcdebe6998d46d",
            "3a4ee30735184215885669457bda1e55",
            "af3fa3d826ac46f59a7ba6a7b336605d",
            "88ec64c7cc274778b54d05efd2c2791e",
            "025ce31fa3c3493090f0fe9698fdb7c7",
            "8ce962a198bd40448a4ef0720b444364",
            "1b5894151cc14b87b3e2dba4124d1848",
            "7522b4ed67ab4013afe84353e639d671",
            "50c70a89def449c88d3c8bfa90edb299",
            "f771c76e53fc47758d550add5288cb26",
            "43a46c71aa544713acad457871663d5f",
            "3399d48637ed45c7ab02a1b022f40ee8",
            "eaf126ce59924ea68c79fe5440cfd0f5",
            "9fe98e23766a4798a25c85047bf22c8c"
          ]
        },
        "id": "y1u1pEfZ6eu0",
        "outputId": "1b31483a-8cd4-4d63-e374-0af2db5f4a60"
      },
      "source": [
        "K    = 2     # NUMERO DE CLASES\n",
        "N    = 700   # NUMERO DE IMAGENES POR CLASE\n",
        "\n",
        "\n",
        "hdiv = 2    # número de particiones horizontales\n",
        "vdiv = 2    # número de particiones verticales\n",
        "Mlbp = hdiv*vdiv*59    # número de características por imagen\n",
        "Mhar = 28    # NUMERO DE ELEMENTOS DEL VECTOR DE HARALICK\n",
        "Mgab = 67    # NUMERO DE ELEMENTOS DEL VECTOR DE GABOR\n",
        "Mhog = 1440     # NUMERO DE ELEMENTOS DEL VECTOR DE HOG\n",
        "\n",
        "Xlbp  = np.zeros((K*N,Mlbp))    # K*N muestras (filas), y Mlbp características (columnas)\n",
        "Xhar  = np.zeros((K*N,Mhar))    # K*N muestras (filas), y Mhar características (columnas)\n",
        "Xgab  = np.zeros((K*N,Mgab))    # K*N muestras (filas), y Mgab características (columnas)\n",
        "Xhog  = np.zeros((K*N,Mhog))    # K*N muestras (filas), y Mhog características (columnas)\n",
        "\n",
        "y     = np.zeros((K*N),'int')   # ground truth (clasificacion ideal)\n",
        "\n",
        "t = 0\n",
        "print('Cargando imagenes y extrayendo características...')\n",
        "for j in range(K):            # para cada clase\n",
        "  print('Extrayendo características: batch '+str(j+1)+'/'+str(K))\n",
        "  for i in tqdm(range(N)):                # para cada imagen de la clase\n",
        "    # Lectura de la imagen\n",
        "    img    = 255*ImageLoad('argender/face_',j+1,i+1,echo='on')+1e-3\n",
        "\n",
        "    # Extracción de características\n",
        "    # HoG\n",
        "    Xhog[t,:] = hog_features(img, v_windows=16, h_windows=10, n_bins=9)    # <=  EXTRAE HOG\n",
        "\n",
        "    # LBP  de 2x2 particiones\n",
        "    Xlbp[t,:] = lbp_features(img, hdiv=hdiv, vdiv=vdiv, mapping='nri_uniform') # <=  EXTRAE LBP\n",
        "    # Normalización LBP\n",
        "    Xlbp[t,:] = Xlbp[t,:]/np.linalg.norm(Xlbp[t,:])\n",
        "\n",
        "    # Haralick con d = 3 pixeles\n",
        "    Xhar[t,:] = haralick_features(img, distance=3)                       # <= EXTRAE HARALICK\n",
        "    #Xhar[t,:] = Xhar[t,:]/np.linalg.norm(Xhar[t,:])\n",
        "\n",
        "    # Gabor con 8 rotaciones y 8 escalas\n",
        "    Xgab[t,:] = gabor_features(img, rotations=8, dilations=8)            # <= EXTRAE GABOR\n",
        "\n",
        "    y[t] = j # la muestra t pertenece a la clase j\n",
        "    t = t+1"
      ],
      "execution_count": null,
      "outputs": [
        {
          "output_type": "stream",
          "text": [
            "Cargando imagenes y extrayendo características...\n",
            "Extrayendo características: batch 1/2\n"
          ],
          "name": "stdout"
        },
        {
          "output_type": "display_data",
          "data": {
            "application/vnd.jupyter.widget-view+json": {
              "model_id": "acccf4f2e3a14e688df63cbaf2907509",
              "version_minor": 0,
              "version_major": 2
            },
            "text/plain": [
              "HBox(children=(FloatProgress(value=0.0, max=700.0), HTML(value='')))"
            ]
          },
          "metadata": {
            "tags": []
          }
        },
        {
          "output_type": "stream",
          "text": [
            "loading image argender/face_001_0001.png...\n",
            "loading image argender/face_001_0002.png...\n",
            "loading image argender/face_001_0003.png...\n",
            "loading image argender/face_001_0004.png...\n",
            "loading image argender/face_001_0005.png...\n",
            "loading image argender/face_001_0006.png...\n",
            "loading image argender/face_001_0007.png...\n",
            "loading image argender/face_001_0008.png...\n",
            "loading image argender/face_001_0009.png...\n",
            "loading image argender/face_001_0010.png...\n",
            "loading image argender/face_001_0011.png...\n",
            "loading image argender/face_001_0012.png...\n",
            "loading image argender/face_001_0013.png...\n",
            "loading image argender/face_001_0014.png...\n",
            "loading image argender/face_001_0015.png...\n",
            "loading image argender/face_001_0016.png...\n",
            "loading image argender/face_001_0017.png...\n",
            "loading image argender/face_001_0018.png...\n",
            "loading image argender/face_001_0019.png...\n",
            "loading image argender/face_001_0020.png...\n",
            "loading image argender/face_001_0021.png...\n",
            "loading image argender/face_001_0022.png...\n",
            "loading image argender/face_001_0023.png...\n",
            "loading image argender/face_001_0024.png...\n",
            "loading image argender/face_001_0025.png...\n",
            "loading image argender/face_001_0026.png...\n",
            "loading image argender/face_001_0027.png...\n",
            "loading image argender/face_001_0028.png...\n",
            "loading image argender/face_001_0029.png...\n",
            "loading image argender/face_001_0030.png...\n",
            "loading image argender/face_001_0031.png...\n",
            "loading image argender/face_001_0032.png...\n",
            "loading image argender/face_001_0033.png...\n",
            "loading image argender/face_001_0034.png...\n",
            "loading image argender/face_001_0035.png...\n",
            "loading image argender/face_001_0036.png...\n",
            "loading image argender/face_001_0037.png...\n",
            "loading image argender/face_001_0038.png...\n",
            "loading image argender/face_001_0039.png...\n",
            "loading image argender/face_001_0040.png...\n",
            "loading image argender/face_001_0041.png...\n",
            "loading image argender/face_001_0042.png...\n",
            "loading image argender/face_001_0043.png...\n",
            "loading image argender/face_001_0044.png...\n",
            "loading image argender/face_001_0045.png...\n",
            "loading image argender/face_001_0046.png...\n",
            "loading image argender/face_001_0047.png...\n",
            "loading image argender/face_001_0048.png...\n",
            "loading image argender/face_001_0049.png...\n",
            "loading image argender/face_001_0050.png...\n",
            "loading image argender/face_001_0051.png...\n",
            "loading image argender/face_001_0052.png...\n",
            "loading image argender/face_001_0053.png...\n",
            "loading image argender/face_001_0054.png...\n",
            "loading image argender/face_001_0055.png...\n",
            "loading image argender/face_001_0056.png...\n",
            "loading image argender/face_001_0057.png...\n",
            "loading image argender/face_001_0058.png...\n",
            "loading image argender/face_001_0059.png...\n",
            "loading image argender/face_001_0060.png...\n",
            "loading image argender/face_001_0061.png...\n",
            "loading image argender/face_001_0062.png...\n",
            "loading image argender/face_001_0063.png...\n",
            "loading image argender/face_001_0064.png...\n",
            "loading image argender/face_001_0065.png...\n",
            "loading image argender/face_001_0066.png...\n",
            "loading image argender/face_001_0067.png...\n",
            "loading image argender/face_001_0068.png...\n",
            "loading image argender/face_001_0069.png...\n",
            "loading image argender/face_001_0070.png...\n",
            "loading image argender/face_001_0071.png...\n",
            "loading image argender/face_001_0072.png...\n",
            "loading image argender/face_001_0073.png...\n",
            "loading image argender/face_001_0074.png...\n",
            "loading image argender/face_001_0075.png...\n",
            "loading image argender/face_001_0076.png...\n",
            "loading image argender/face_001_0077.png...\n",
            "loading image argender/face_001_0078.png...\n",
            "loading image argender/face_001_0079.png...\n",
            "loading image argender/face_001_0080.png...\n",
            "loading image argender/face_001_0081.png...\n",
            "loading image argender/face_001_0082.png...\n",
            "loading image argender/face_001_0083.png...\n",
            "loading image argender/face_001_0084.png...\n",
            "loading image argender/face_001_0085.png...\n",
            "loading image argender/face_001_0086.png...\n",
            "loading image argender/face_001_0087.png...\n",
            "loading image argender/face_001_0088.png...\n",
            "loading image argender/face_001_0089.png...\n",
            "loading image argender/face_001_0090.png...\n",
            "loading image argender/face_001_0091.png...\n",
            "loading image argender/face_001_0092.png...\n",
            "loading image argender/face_001_0093.png...\n",
            "loading image argender/face_001_0094.png...\n",
            "loading image argender/face_001_0095.png...\n",
            "loading image argender/face_001_0096.png...\n",
            "loading image argender/face_001_0097.png...\n",
            "loading image argender/face_001_0098.png...\n",
            "loading image argender/face_001_0099.png...\n",
            "loading image argender/face_001_0100.png...\n",
            "loading image argender/face_001_0101.png...\n",
            "loading image argender/face_001_0102.png...\n",
            "loading image argender/face_001_0103.png...\n",
            "loading image argender/face_001_0104.png...\n",
            "loading image argender/face_001_0105.png...\n",
            "loading image argender/face_001_0106.png...\n",
            "loading image argender/face_001_0107.png...\n",
            "loading image argender/face_001_0108.png...\n",
            "loading image argender/face_001_0109.png...\n",
            "loading image argender/face_001_0110.png...\n",
            "loading image argender/face_001_0111.png...\n",
            "loading image argender/face_001_0112.png...\n",
            "loading image argender/face_001_0113.png...\n",
            "loading image argender/face_001_0114.png...\n",
            "loading image argender/face_001_0115.png...\n",
            "loading image argender/face_001_0116.png...\n",
            "loading image argender/face_001_0117.png...\n",
            "loading image argender/face_001_0118.png...\n",
            "loading image argender/face_001_0119.png...\n",
            "loading image argender/face_001_0120.png...\n",
            "loading image argender/face_001_0121.png...\n",
            "loading image argender/face_001_0122.png...\n",
            "loading image argender/face_001_0123.png...\n",
            "loading image argender/face_001_0124.png...\n",
            "loading image argender/face_001_0125.png...\n",
            "loading image argender/face_001_0126.png...\n",
            "loading image argender/face_001_0127.png...\n",
            "loading image argender/face_001_0128.png...\n",
            "loading image argender/face_001_0129.png...\n",
            "loading image argender/face_001_0130.png...\n",
            "loading image argender/face_001_0131.png...\n",
            "loading image argender/face_001_0132.png...\n",
            "loading image argender/face_001_0133.png...\n",
            "loading image argender/face_001_0134.png...\n",
            "loading image argender/face_001_0135.png...\n",
            "loading image argender/face_001_0136.png...\n",
            "loading image argender/face_001_0137.png...\n",
            "loading image argender/face_001_0138.png...\n",
            "loading image argender/face_001_0139.png...\n",
            "loading image argender/face_001_0140.png...\n",
            "loading image argender/face_001_0141.png...\n",
            "loading image argender/face_001_0142.png...\n",
            "loading image argender/face_001_0143.png...\n",
            "loading image argender/face_001_0144.png...\n",
            "loading image argender/face_001_0145.png...\n",
            "loading image argender/face_001_0146.png...\n",
            "loading image argender/face_001_0147.png...\n",
            "loading image argender/face_001_0148.png...\n",
            "loading image argender/face_001_0149.png...\n",
            "loading image argender/face_001_0150.png...\n",
            "loading image argender/face_001_0151.png...\n",
            "loading image argender/face_001_0152.png...\n",
            "loading image argender/face_001_0153.png...\n",
            "loading image argender/face_001_0154.png...\n",
            "loading image argender/face_001_0155.png...\n",
            "loading image argender/face_001_0156.png...\n",
            "loading image argender/face_001_0157.png...\n",
            "loading image argender/face_001_0158.png...\n",
            "loading image argender/face_001_0159.png...\n",
            "loading image argender/face_001_0160.png...\n",
            "loading image argender/face_001_0161.png...\n",
            "loading image argender/face_001_0162.png...\n",
            "loading image argender/face_001_0163.png...\n",
            "loading image argender/face_001_0164.png...\n",
            "loading image argender/face_001_0165.png...\n",
            "loading image argender/face_001_0166.png...\n",
            "loading image argender/face_001_0167.png...\n",
            "loading image argender/face_001_0168.png...\n",
            "loading image argender/face_001_0169.png...\n",
            "loading image argender/face_001_0170.png...\n",
            "loading image argender/face_001_0171.png...\n",
            "loading image argender/face_001_0172.png...\n",
            "loading image argender/face_001_0173.png...\n",
            "loading image argender/face_001_0174.png...\n",
            "loading image argender/face_001_0175.png...\n",
            "loading image argender/face_001_0176.png...\n",
            "loading image argender/face_001_0177.png...\n",
            "loading image argender/face_001_0178.png...\n",
            "loading image argender/face_001_0179.png...\n",
            "loading image argender/face_001_0180.png...\n",
            "loading image argender/face_001_0181.png...\n",
            "loading image argender/face_001_0182.png...\n",
            "loading image argender/face_001_0183.png...\n",
            "loading image argender/face_001_0184.png...\n",
            "loading image argender/face_001_0185.png...\n",
            "loading image argender/face_001_0186.png...\n",
            "loading image argender/face_001_0187.png...\n",
            "loading image argender/face_001_0188.png...\n",
            "loading image argender/face_001_0189.png...\n",
            "loading image argender/face_001_0190.png...\n",
            "loading image argender/face_001_0191.png...\n",
            "loading image argender/face_001_0192.png...\n",
            "loading image argender/face_001_0193.png...\n",
            "loading image argender/face_001_0194.png...\n",
            "loading image argender/face_001_0195.png...\n",
            "loading image argender/face_001_0196.png...\n",
            "loading image argender/face_001_0197.png...\n",
            "loading image argender/face_001_0198.png...\n",
            "loading image argender/face_001_0199.png...\n",
            "loading image argender/face_001_0200.png...\n",
            "loading image argender/face_001_0201.png...\n",
            "loading image argender/face_001_0202.png...\n",
            "loading image argender/face_001_0203.png...\n",
            "loading image argender/face_001_0204.png...\n",
            "loading image argender/face_001_0205.png...\n",
            "loading image argender/face_001_0206.png...\n",
            "loading image argender/face_001_0207.png...\n",
            "loading image argender/face_001_0208.png...\n",
            "loading image argender/face_001_0209.png...\n",
            "loading image argender/face_001_0210.png...\n",
            "loading image argender/face_001_0211.png...\n",
            "loading image argender/face_001_0212.png...\n",
            "loading image argender/face_001_0213.png...\n",
            "loading image argender/face_001_0214.png...\n",
            "loading image argender/face_001_0215.png...\n",
            "loading image argender/face_001_0216.png...\n",
            "loading image argender/face_001_0217.png...\n",
            "loading image argender/face_001_0218.png...\n",
            "loading image argender/face_001_0219.png...\n",
            "loading image argender/face_001_0220.png...\n",
            "loading image argender/face_001_0221.png...\n",
            "loading image argender/face_001_0222.png...\n",
            "loading image argender/face_001_0223.png...\n",
            "loading image argender/face_001_0224.png...\n",
            "loading image argender/face_001_0225.png...\n",
            "loading image argender/face_001_0226.png...\n",
            "loading image argender/face_001_0227.png...\n",
            "loading image argender/face_001_0228.png...\n",
            "loading image argender/face_001_0229.png...\n",
            "loading image argender/face_001_0230.png...\n",
            "loading image argender/face_001_0231.png...\n",
            "loading image argender/face_001_0232.png...\n",
            "loading image argender/face_001_0233.png...\n",
            "loading image argender/face_001_0234.png...\n",
            "loading image argender/face_001_0235.png...\n",
            "loading image argender/face_001_0236.png...\n",
            "loading image argender/face_001_0237.png...\n",
            "loading image argender/face_001_0238.png...\n",
            "loading image argender/face_001_0239.png...\n",
            "loading image argender/face_001_0240.png...\n",
            "loading image argender/face_001_0241.png...\n",
            "loading image argender/face_001_0242.png...\n",
            "loading image argender/face_001_0243.png...\n",
            "loading image argender/face_001_0244.png...\n",
            "loading image argender/face_001_0245.png...\n",
            "loading image argender/face_001_0246.png...\n",
            "loading image argender/face_001_0247.png...\n",
            "loading image argender/face_001_0248.png...\n",
            "loading image argender/face_001_0249.png...\n",
            "loading image argender/face_001_0250.png...\n",
            "loading image argender/face_001_0251.png...\n",
            "loading image argender/face_001_0252.png...\n",
            "loading image argender/face_001_0253.png...\n",
            "loading image argender/face_001_0254.png...\n",
            "loading image argender/face_001_0255.png...\n",
            "loading image argender/face_001_0256.png...\n",
            "loading image argender/face_001_0257.png...\n",
            "loading image argender/face_001_0258.png...\n",
            "loading image argender/face_001_0259.png...\n",
            "loading image argender/face_001_0260.png...\n",
            "loading image argender/face_001_0261.png...\n",
            "loading image argender/face_001_0262.png...\n",
            "loading image argender/face_001_0263.png...\n",
            "loading image argender/face_001_0264.png...\n",
            "loading image argender/face_001_0265.png...\n",
            "loading image argender/face_001_0266.png...\n",
            "loading image argender/face_001_0267.png...\n",
            "loading image argender/face_001_0268.png...\n",
            "loading image argender/face_001_0269.png...\n",
            "loading image argender/face_001_0270.png...\n",
            "loading image argender/face_001_0271.png...\n",
            "loading image argender/face_001_0272.png...\n",
            "loading image argender/face_001_0273.png...\n",
            "loading image argender/face_001_0274.png...\n",
            "loading image argender/face_001_0275.png...\n",
            "loading image argender/face_001_0276.png...\n",
            "loading image argender/face_001_0277.png...\n",
            "loading image argender/face_001_0278.png...\n",
            "loading image argender/face_001_0279.png...\n",
            "loading image argender/face_001_0280.png...\n",
            "loading image argender/face_001_0281.png...\n",
            "loading image argender/face_001_0282.png...\n",
            "loading image argender/face_001_0283.png...\n",
            "loading image argender/face_001_0284.png...\n",
            "loading image argender/face_001_0285.png...\n",
            "loading image argender/face_001_0286.png...\n",
            "loading image argender/face_001_0287.png...\n",
            "loading image argender/face_001_0288.png...\n",
            "loading image argender/face_001_0289.png...\n",
            "loading image argender/face_001_0290.png...\n",
            "loading image argender/face_001_0291.png...\n",
            "loading image argender/face_001_0292.png...\n",
            "loading image argender/face_001_0293.png...\n",
            "loading image argender/face_001_0294.png...\n",
            "loading image argender/face_001_0295.png...\n",
            "loading image argender/face_001_0296.png...\n",
            "loading image argender/face_001_0297.png...\n",
            "loading image argender/face_001_0298.png...\n",
            "loading image argender/face_001_0299.png...\n",
            "loading image argender/face_001_0300.png...\n",
            "loading image argender/face_001_0301.png...\n",
            "loading image argender/face_001_0302.png...\n",
            "loading image argender/face_001_0303.png...\n",
            "loading image argender/face_001_0304.png...\n",
            "loading image argender/face_001_0305.png...\n",
            "loading image argender/face_001_0306.png...\n",
            "loading image argender/face_001_0307.png...\n",
            "loading image argender/face_001_0308.png...\n",
            "loading image argender/face_001_0309.png...\n",
            "loading image argender/face_001_0310.png...\n",
            "loading image argender/face_001_0311.png...\n",
            "loading image argender/face_001_0312.png...\n",
            "loading image argender/face_001_0313.png...\n",
            "loading image argender/face_001_0314.png...\n",
            "loading image argender/face_001_0315.png...\n",
            "loading image argender/face_001_0316.png...\n",
            "loading image argender/face_001_0317.png...\n",
            "loading image argender/face_001_0318.png...\n",
            "loading image argender/face_001_0319.png...\n",
            "loading image argender/face_001_0320.png...\n",
            "loading image argender/face_001_0321.png...\n",
            "loading image argender/face_001_0322.png...\n",
            "loading image argender/face_001_0323.png...\n",
            "loading image argender/face_001_0324.png...\n",
            "loading image argender/face_001_0325.png...\n",
            "loading image argender/face_001_0326.png...\n",
            "loading image argender/face_001_0327.png...\n",
            "loading image argender/face_001_0328.png...\n",
            "loading image argender/face_001_0329.png...\n",
            "loading image argender/face_001_0330.png...\n",
            "loading image argender/face_001_0331.png...\n",
            "loading image argender/face_001_0332.png...\n",
            "loading image argender/face_001_0333.png...\n",
            "loading image argender/face_001_0334.png...\n",
            "loading image argender/face_001_0335.png...\n",
            "loading image argender/face_001_0336.png...\n",
            "loading image argender/face_001_0337.png...\n",
            "loading image argender/face_001_0338.png...\n",
            "loading image argender/face_001_0339.png...\n",
            "loading image argender/face_001_0340.png...\n",
            "loading image argender/face_001_0341.png...\n",
            "loading image argender/face_001_0342.png...\n",
            "loading image argender/face_001_0343.png...\n",
            "loading image argender/face_001_0344.png...\n",
            "loading image argender/face_001_0345.png...\n",
            "loading image argender/face_001_0346.png...\n",
            "loading image argender/face_001_0347.png...\n",
            "loading image argender/face_001_0348.png...\n",
            "loading image argender/face_001_0349.png...\n",
            "loading image argender/face_001_0350.png...\n",
            "loading image argender/face_001_0351.png...\n",
            "loading image argender/face_001_0352.png...\n",
            "loading image argender/face_001_0353.png...\n",
            "loading image argender/face_001_0354.png...\n",
            "loading image argender/face_001_0355.png...\n",
            "loading image argender/face_001_0356.png...\n",
            "loading image argender/face_001_0357.png...\n",
            "loading image argender/face_001_0358.png...\n",
            "loading image argender/face_001_0359.png...\n",
            "loading image argender/face_001_0360.png...\n",
            "loading image argender/face_001_0361.png...\n",
            "loading image argender/face_001_0362.png...\n",
            "loading image argender/face_001_0363.png...\n",
            "loading image argender/face_001_0364.png...\n",
            "loading image argender/face_001_0365.png...\n",
            "loading image argender/face_001_0366.png...\n",
            "loading image argender/face_001_0367.png...\n",
            "loading image argender/face_001_0368.png...\n",
            "loading image argender/face_001_0369.png...\n",
            "loading image argender/face_001_0370.png...\n",
            "loading image argender/face_001_0371.png...\n",
            "loading image argender/face_001_0372.png...\n",
            "loading image argender/face_001_0373.png...\n",
            "loading image argender/face_001_0374.png...\n",
            "loading image argender/face_001_0375.png...\n",
            "loading image argender/face_001_0376.png...\n",
            "loading image argender/face_001_0377.png...\n",
            "loading image argender/face_001_0378.png...\n",
            "loading image argender/face_001_0379.png...\n",
            "loading image argender/face_001_0380.png...\n",
            "loading image argender/face_001_0381.png...\n",
            "loading image argender/face_001_0382.png...\n",
            "loading image argender/face_001_0383.png...\n",
            "loading image argender/face_001_0384.png...\n",
            "loading image argender/face_001_0385.png...\n",
            "loading image argender/face_001_0386.png...\n",
            "loading image argender/face_001_0387.png...\n",
            "loading image argender/face_001_0388.png...\n",
            "loading image argender/face_001_0389.png...\n",
            "loading image argender/face_001_0390.png...\n",
            "loading image argender/face_001_0391.png...\n",
            "loading image argender/face_001_0392.png...\n",
            "loading image argender/face_001_0393.png...\n",
            "loading image argender/face_001_0394.png...\n",
            "loading image argender/face_001_0395.png...\n",
            "loading image argender/face_001_0396.png...\n",
            "loading image argender/face_001_0397.png...\n",
            "loading image argender/face_001_0398.png...\n",
            "loading image argender/face_001_0399.png...\n",
            "loading image argender/face_001_0400.png...\n",
            "loading image argender/face_001_0401.png...\n",
            "loading image argender/face_001_0402.png...\n",
            "loading image argender/face_001_0403.png...\n",
            "loading image argender/face_001_0404.png...\n",
            "loading image argender/face_001_0405.png...\n",
            "loading image argender/face_001_0406.png...\n",
            "loading image argender/face_001_0407.png...\n",
            "loading image argender/face_001_0408.png...\n",
            "loading image argender/face_001_0409.png...\n",
            "loading image argender/face_001_0410.png...\n",
            "loading image argender/face_001_0411.png...\n",
            "loading image argender/face_001_0412.png...\n",
            "loading image argender/face_001_0413.png...\n",
            "loading image argender/face_001_0414.png...\n",
            "loading image argender/face_001_0415.png...\n",
            "loading image argender/face_001_0416.png...\n",
            "loading image argender/face_001_0417.png...\n",
            "loading image argender/face_001_0418.png...\n",
            "loading image argender/face_001_0419.png...\n",
            "loading image argender/face_001_0420.png...\n",
            "loading image argender/face_001_0421.png...\n",
            "loading image argender/face_001_0422.png...\n",
            "loading image argender/face_001_0423.png...\n",
            "loading image argender/face_001_0424.png...\n",
            "loading image argender/face_001_0425.png...\n",
            "loading image argender/face_001_0426.png...\n",
            "loading image argender/face_001_0427.png...\n",
            "loading image argender/face_001_0428.png...\n",
            "loading image argender/face_001_0429.png...\n",
            "loading image argender/face_001_0430.png...\n",
            "loading image argender/face_001_0431.png...\n",
            "loading image argender/face_001_0432.png...\n",
            "loading image argender/face_001_0433.png...\n",
            "loading image argender/face_001_0434.png...\n",
            "loading image argender/face_001_0435.png...\n",
            "loading image argender/face_001_0436.png...\n",
            "loading image argender/face_001_0437.png...\n",
            "loading image argender/face_001_0438.png...\n",
            "loading image argender/face_001_0439.png...\n",
            "loading image argender/face_001_0440.png...\n",
            "loading image argender/face_001_0441.png...\n",
            "loading image argender/face_001_0442.png...\n",
            "loading image argender/face_001_0443.png...\n",
            "loading image argender/face_001_0444.png...\n",
            "loading image argender/face_001_0445.png...\n",
            "loading image argender/face_001_0446.png...\n",
            "loading image argender/face_001_0447.png...\n",
            "loading image argender/face_001_0448.png...\n",
            "loading image argender/face_001_0449.png...\n",
            "loading image argender/face_001_0450.png...\n",
            "loading image argender/face_001_0451.png...\n",
            "loading image argender/face_001_0452.png...\n",
            "loading image argender/face_001_0453.png...\n",
            "loading image argender/face_001_0454.png...\n",
            "loading image argender/face_001_0455.png...\n",
            "loading image argender/face_001_0456.png...\n",
            "loading image argender/face_001_0457.png...\n",
            "loading image argender/face_001_0458.png...\n",
            "loading image argender/face_001_0459.png...\n",
            "loading image argender/face_001_0460.png...\n",
            "loading image argender/face_001_0461.png...\n",
            "loading image argender/face_001_0462.png...\n",
            "loading image argender/face_001_0463.png...\n",
            "loading image argender/face_001_0464.png...\n",
            "loading image argender/face_001_0465.png...\n",
            "loading image argender/face_001_0466.png...\n",
            "loading image argender/face_001_0467.png...\n",
            "loading image argender/face_001_0468.png...\n",
            "loading image argender/face_001_0469.png...\n",
            "loading image argender/face_001_0470.png...\n",
            "loading image argender/face_001_0471.png...\n",
            "loading image argender/face_001_0472.png...\n",
            "loading image argender/face_001_0473.png...\n",
            "loading image argender/face_001_0474.png...\n",
            "loading image argender/face_001_0475.png...\n",
            "loading image argender/face_001_0476.png...\n",
            "loading image argender/face_001_0477.png...\n",
            "loading image argender/face_001_0478.png...\n",
            "loading image argender/face_001_0479.png...\n",
            "loading image argender/face_001_0480.png...\n",
            "loading image argender/face_001_0481.png...\n",
            "loading image argender/face_001_0482.png...\n",
            "loading image argender/face_001_0483.png...\n",
            "loading image argender/face_001_0484.png...\n",
            "loading image argender/face_001_0485.png...\n",
            "loading image argender/face_001_0486.png...\n",
            "loading image argender/face_001_0487.png...\n",
            "loading image argender/face_001_0488.png...\n",
            "loading image argender/face_001_0489.png...\n",
            "loading image argender/face_001_0490.png...\n",
            "loading image argender/face_001_0491.png...\n",
            "loading image argender/face_001_0492.png...\n",
            "loading image argender/face_001_0493.png...\n",
            "loading image argender/face_001_0494.png...\n",
            "loading image argender/face_001_0495.png...\n",
            "loading image argender/face_001_0496.png...\n",
            "loading image argender/face_001_0497.png...\n",
            "loading image argender/face_001_0498.png...\n",
            "loading image argender/face_001_0499.png...\n",
            "loading image argender/face_001_0500.png...\n",
            "loading image argender/face_001_0501.png...\n",
            "loading image argender/face_001_0502.png...\n",
            "loading image argender/face_001_0503.png...\n",
            "loading image argender/face_001_0504.png...\n",
            "loading image argender/face_001_0505.png...\n",
            "loading image argender/face_001_0506.png...\n",
            "loading image argender/face_001_0507.png...\n",
            "loading image argender/face_001_0508.png...\n",
            "loading image argender/face_001_0509.png...\n",
            "loading image argender/face_001_0510.png...\n",
            "loading image argender/face_001_0511.png...\n",
            "loading image argender/face_001_0512.png...\n",
            "loading image argender/face_001_0513.png...\n",
            "loading image argender/face_001_0514.png...\n",
            "loading image argender/face_001_0515.png...\n",
            "loading image argender/face_001_0516.png...\n",
            "loading image argender/face_001_0517.png...\n",
            "loading image argender/face_001_0518.png...\n",
            "loading image argender/face_001_0519.png...\n",
            "loading image argender/face_001_0520.png...\n",
            "loading image argender/face_001_0521.png...\n",
            "loading image argender/face_001_0522.png...\n",
            "loading image argender/face_001_0523.png...\n",
            "loading image argender/face_001_0524.png...\n",
            "loading image argender/face_001_0525.png...\n",
            "loading image argender/face_001_0526.png...\n",
            "loading image argender/face_001_0527.png...\n",
            "loading image argender/face_001_0528.png...\n",
            "loading image argender/face_001_0529.png...\n",
            "loading image argender/face_001_0530.png...\n",
            "loading image argender/face_001_0531.png...\n",
            "loading image argender/face_001_0532.png...\n",
            "loading image argender/face_001_0533.png...\n",
            "loading image argender/face_001_0534.png...\n",
            "loading image argender/face_001_0535.png...\n",
            "loading image argender/face_001_0536.png...\n",
            "loading image argender/face_001_0537.png...\n",
            "loading image argender/face_001_0538.png...\n",
            "loading image argender/face_001_0539.png...\n",
            "loading image argender/face_001_0540.png...\n",
            "loading image argender/face_001_0541.png...\n",
            "loading image argender/face_001_0542.png...\n",
            "loading image argender/face_001_0543.png...\n",
            "loading image argender/face_001_0544.png...\n",
            "loading image argender/face_001_0545.png...\n",
            "loading image argender/face_001_0546.png...\n",
            "loading image argender/face_001_0547.png...\n",
            "loading image argender/face_001_0548.png...\n",
            "loading image argender/face_001_0549.png...\n",
            "loading image argender/face_001_0550.png...\n",
            "loading image argender/face_001_0551.png...\n",
            "loading image argender/face_001_0552.png...\n",
            "loading image argender/face_001_0553.png...\n",
            "loading image argender/face_001_0554.png...\n",
            "loading image argender/face_001_0555.png...\n",
            "loading image argender/face_001_0556.png...\n",
            "loading image argender/face_001_0557.png...\n",
            "loading image argender/face_001_0558.png...\n",
            "loading image argender/face_001_0559.png...\n",
            "loading image argender/face_001_0560.png...\n",
            "loading image argender/face_001_0561.png...\n",
            "loading image argender/face_001_0562.png...\n",
            "loading image argender/face_001_0563.png...\n",
            "loading image argender/face_001_0564.png...\n",
            "loading image argender/face_001_0565.png...\n",
            "loading image argender/face_001_0566.png...\n",
            "loading image argender/face_001_0567.png...\n",
            "loading image argender/face_001_0568.png...\n",
            "loading image argender/face_001_0569.png...\n",
            "loading image argender/face_001_0570.png...\n",
            "loading image argender/face_001_0571.png...\n",
            "loading image argender/face_001_0572.png...\n",
            "loading image argender/face_001_0573.png...\n",
            "loading image argender/face_001_0574.png...\n",
            "loading image argender/face_001_0575.png...\n",
            "loading image argender/face_001_0576.png...\n",
            "loading image argender/face_001_0577.png...\n",
            "loading image argender/face_001_0578.png...\n",
            "loading image argender/face_001_0579.png...\n",
            "loading image argender/face_001_0580.png...\n",
            "loading image argender/face_001_0581.png...\n",
            "loading image argender/face_001_0582.png...\n",
            "loading image argender/face_001_0583.png...\n",
            "loading image argender/face_001_0584.png...\n",
            "loading image argender/face_001_0585.png...\n",
            "loading image argender/face_001_0586.png...\n",
            "loading image argender/face_001_0587.png...\n",
            "loading image argender/face_001_0588.png...\n",
            "loading image argender/face_001_0589.png...\n",
            "loading image argender/face_001_0590.png...\n",
            "loading image argender/face_001_0591.png...\n",
            "loading image argender/face_001_0592.png...\n",
            "loading image argender/face_001_0593.png...\n",
            "loading image argender/face_001_0594.png...\n",
            "loading image argender/face_001_0595.png...\n",
            "loading image argender/face_001_0596.png...\n",
            "loading image argender/face_001_0597.png...\n",
            "loading image argender/face_001_0598.png...\n",
            "loading image argender/face_001_0599.png...\n",
            "loading image argender/face_001_0600.png...\n",
            "loading image argender/face_001_0601.png...\n",
            "loading image argender/face_001_0602.png...\n",
            "loading image argender/face_001_0603.png...\n",
            "loading image argender/face_001_0604.png...\n",
            "loading image argender/face_001_0605.png...\n",
            "loading image argender/face_001_0606.png...\n",
            "loading image argender/face_001_0607.png...\n",
            "loading image argender/face_001_0608.png...\n",
            "loading image argender/face_001_0609.png...\n",
            "loading image argender/face_001_0610.png...\n",
            "loading image argender/face_001_0611.png...\n",
            "loading image argender/face_001_0612.png...\n",
            "loading image argender/face_001_0613.png...\n",
            "loading image argender/face_001_0614.png...\n",
            "loading image argender/face_001_0615.png...\n",
            "loading image argender/face_001_0616.png...\n",
            "loading image argender/face_001_0617.png...\n",
            "loading image argender/face_001_0618.png...\n",
            "loading image argender/face_001_0619.png...\n",
            "loading image argender/face_001_0620.png...\n",
            "loading image argender/face_001_0621.png...\n",
            "loading image argender/face_001_0622.png...\n",
            "loading image argender/face_001_0623.png...\n",
            "loading image argender/face_001_0624.png...\n",
            "loading image argender/face_001_0625.png...\n",
            "loading image argender/face_001_0626.png...\n",
            "loading image argender/face_001_0627.png...\n",
            "loading image argender/face_001_0628.png...\n",
            "loading image argender/face_001_0629.png...\n",
            "loading image argender/face_001_0630.png...\n",
            "loading image argender/face_001_0631.png...\n",
            "loading image argender/face_001_0632.png...\n",
            "loading image argender/face_001_0633.png...\n",
            "loading image argender/face_001_0634.png...\n",
            "loading image argender/face_001_0635.png...\n",
            "loading image argender/face_001_0636.png...\n",
            "loading image argender/face_001_0637.png...\n",
            "loading image argender/face_001_0638.png...\n",
            "loading image argender/face_001_0639.png...\n",
            "loading image argender/face_001_0640.png...\n",
            "loading image argender/face_001_0641.png...\n",
            "loading image argender/face_001_0642.png...\n",
            "loading image argender/face_001_0643.png...\n",
            "loading image argender/face_001_0644.png...\n",
            "loading image argender/face_001_0645.png...\n",
            "loading image argender/face_001_0646.png...\n",
            "loading image argender/face_001_0647.png...\n",
            "loading image argender/face_001_0648.png...\n",
            "loading image argender/face_001_0649.png...\n",
            "loading image argender/face_001_0650.png...\n",
            "loading image argender/face_001_0651.png...\n",
            "loading image argender/face_001_0652.png...\n",
            "loading image argender/face_001_0653.png...\n",
            "loading image argender/face_001_0654.png...\n",
            "loading image argender/face_001_0655.png...\n",
            "loading image argender/face_001_0656.png...\n",
            "loading image argender/face_001_0657.png...\n",
            "loading image argender/face_001_0658.png...\n",
            "loading image argender/face_001_0659.png...\n",
            "loading image argender/face_001_0660.png...\n",
            "loading image argender/face_001_0661.png...\n",
            "loading image argender/face_001_0662.png...\n",
            "loading image argender/face_001_0663.png...\n",
            "loading image argender/face_001_0664.png...\n",
            "loading image argender/face_001_0665.png...\n",
            "loading image argender/face_001_0666.png...\n",
            "loading image argender/face_001_0667.png...\n",
            "loading image argender/face_001_0668.png...\n",
            "loading image argender/face_001_0669.png...\n",
            "loading image argender/face_001_0670.png...\n",
            "loading image argender/face_001_0671.png...\n",
            "loading image argender/face_001_0672.png...\n",
            "loading image argender/face_001_0673.png...\n",
            "loading image argender/face_001_0674.png...\n",
            "loading image argender/face_001_0675.png...\n",
            "loading image argender/face_001_0676.png...\n",
            "loading image argender/face_001_0677.png...\n",
            "loading image argender/face_001_0678.png...\n",
            "loading image argender/face_001_0679.png...\n",
            "loading image argender/face_001_0680.png...\n",
            "loading image argender/face_001_0681.png...\n",
            "loading image argender/face_001_0682.png...\n",
            "loading image argender/face_001_0683.png...\n",
            "loading image argender/face_001_0684.png...\n",
            "loading image argender/face_001_0685.png...\n",
            "loading image argender/face_001_0686.png...\n",
            "loading image argender/face_001_0687.png...\n",
            "loading image argender/face_001_0688.png...\n",
            "loading image argender/face_001_0689.png...\n",
            "loading image argender/face_001_0690.png...\n",
            "loading image argender/face_001_0691.png...\n",
            "loading image argender/face_001_0692.png...\n",
            "loading image argender/face_001_0693.png...\n",
            "loading image argender/face_001_0694.png...\n",
            "loading image argender/face_001_0695.png...\n",
            "loading image argender/face_001_0696.png...\n",
            "loading image argender/face_001_0697.png...\n",
            "loading image argender/face_001_0698.png...\n",
            "loading image argender/face_001_0699.png...\n",
            "loading image argender/face_001_0700.png...\n",
            "\n",
            "Extrayendo características: batch 2/2\n"
          ],
          "name": "stdout"
        },
        {
          "output_type": "display_data",
          "data": {
            "application/vnd.jupyter.widget-view+json": {
              "model_id": "1b5894151cc14b87b3e2dba4124d1848",
              "version_minor": 0,
              "version_major": 2
            },
            "text/plain": [
              "HBox(children=(FloatProgress(value=0.0, max=700.0), HTML(value='')))"
            ]
          },
          "metadata": {
            "tags": []
          }
        },
        {
          "output_type": "stream",
          "text": [
            "loading image argender/face_002_0001.png...\n",
            "loading image argender/face_002_0002.png...\n",
            "loading image argender/face_002_0003.png...\n",
            "loading image argender/face_002_0004.png...\n",
            "loading image argender/face_002_0005.png...\n",
            "loading image argender/face_002_0006.png...\n",
            "loading image argender/face_002_0007.png...\n",
            "loading image argender/face_002_0008.png...\n",
            "loading image argender/face_002_0009.png...\n",
            "loading image argender/face_002_0010.png...\n",
            "loading image argender/face_002_0011.png...\n",
            "loading image argender/face_002_0012.png...\n",
            "loading image argender/face_002_0013.png...\n",
            "loading image argender/face_002_0014.png...\n",
            "loading image argender/face_002_0015.png...\n",
            "loading image argender/face_002_0016.png...\n",
            "loading image argender/face_002_0017.png...\n",
            "loading image argender/face_002_0018.png...\n",
            "loading image argender/face_002_0019.png...\n",
            "loading image argender/face_002_0020.png...\n",
            "loading image argender/face_002_0021.png...\n",
            "loading image argender/face_002_0022.png...\n",
            "loading image argender/face_002_0023.png...\n",
            "loading image argender/face_002_0024.png...\n",
            "loading image argender/face_002_0025.png...\n",
            "loading image argender/face_002_0026.png...\n",
            "loading image argender/face_002_0027.png...\n",
            "loading image argender/face_002_0028.png...\n",
            "loading image argender/face_002_0029.png...\n",
            "loading image argender/face_002_0030.png...\n",
            "loading image argender/face_002_0031.png...\n",
            "loading image argender/face_002_0032.png...\n",
            "loading image argender/face_002_0033.png...\n",
            "loading image argender/face_002_0034.png...\n",
            "loading image argender/face_002_0035.png...\n",
            "loading image argender/face_002_0036.png...\n",
            "loading image argender/face_002_0037.png...\n",
            "loading image argender/face_002_0038.png...\n",
            "loading image argender/face_002_0039.png...\n",
            "loading image argender/face_002_0040.png...\n",
            "loading image argender/face_002_0041.png...\n",
            "loading image argender/face_002_0042.png...\n",
            "loading image argender/face_002_0043.png...\n",
            "loading image argender/face_002_0044.png...\n",
            "loading image argender/face_002_0045.png...\n",
            "loading image argender/face_002_0046.png...\n",
            "loading image argender/face_002_0047.png...\n",
            "loading image argender/face_002_0048.png...\n",
            "loading image argender/face_002_0049.png...\n",
            "loading image argender/face_002_0050.png...\n",
            "loading image argender/face_002_0051.png...\n",
            "loading image argender/face_002_0052.png...\n",
            "loading image argender/face_002_0053.png...\n",
            "loading image argender/face_002_0054.png...\n",
            "loading image argender/face_002_0055.png...\n",
            "loading image argender/face_002_0056.png...\n",
            "loading image argender/face_002_0057.png...\n",
            "loading image argender/face_002_0058.png...\n",
            "loading image argender/face_002_0059.png...\n",
            "loading image argender/face_002_0060.png...\n",
            "loading image argender/face_002_0061.png...\n",
            "loading image argender/face_002_0062.png...\n",
            "loading image argender/face_002_0063.png...\n",
            "loading image argender/face_002_0064.png...\n",
            "loading image argender/face_002_0065.png...\n",
            "loading image argender/face_002_0066.png...\n",
            "loading image argender/face_002_0067.png...\n",
            "loading image argender/face_002_0068.png...\n",
            "loading image argender/face_002_0069.png...\n",
            "loading image argender/face_002_0070.png...\n",
            "loading image argender/face_002_0071.png...\n",
            "loading image argender/face_002_0072.png...\n",
            "loading image argender/face_002_0073.png...\n",
            "loading image argender/face_002_0074.png...\n",
            "loading image argender/face_002_0075.png...\n",
            "loading image argender/face_002_0076.png...\n",
            "loading image argender/face_002_0077.png...\n",
            "loading image argender/face_002_0078.png...\n",
            "loading image argender/face_002_0079.png...\n",
            "loading image argender/face_002_0080.png...\n",
            "loading image argender/face_002_0081.png...\n",
            "loading image argender/face_002_0082.png...\n",
            "loading image argender/face_002_0083.png...\n",
            "loading image argender/face_002_0084.png...\n",
            "loading image argender/face_002_0085.png...\n",
            "loading image argender/face_002_0086.png...\n",
            "loading image argender/face_002_0087.png...\n",
            "loading image argender/face_002_0088.png...\n",
            "loading image argender/face_002_0089.png...\n",
            "loading image argender/face_002_0090.png...\n",
            "loading image argender/face_002_0091.png...\n",
            "loading image argender/face_002_0092.png...\n",
            "loading image argender/face_002_0093.png...\n",
            "loading image argender/face_002_0094.png...\n",
            "loading image argender/face_002_0095.png...\n",
            "loading image argender/face_002_0096.png...\n",
            "loading image argender/face_002_0097.png...\n",
            "loading image argender/face_002_0098.png...\n",
            "loading image argender/face_002_0099.png...\n",
            "loading image argender/face_002_0100.png...\n",
            "loading image argender/face_002_0101.png...\n",
            "loading image argender/face_002_0102.png...\n",
            "loading image argender/face_002_0103.png...\n",
            "loading image argender/face_002_0104.png...\n",
            "loading image argender/face_002_0105.png...\n",
            "loading image argender/face_002_0106.png...\n",
            "loading image argender/face_002_0107.png...\n",
            "loading image argender/face_002_0108.png...\n",
            "loading image argender/face_002_0109.png...\n",
            "loading image argender/face_002_0110.png...\n",
            "loading image argender/face_002_0111.png...\n",
            "loading image argender/face_002_0112.png...\n",
            "loading image argender/face_002_0113.png...\n",
            "loading image argender/face_002_0114.png...\n",
            "loading image argender/face_002_0115.png...\n",
            "loading image argender/face_002_0116.png...\n",
            "loading image argender/face_002_0117.png...\n",
            "loading image argender/face_002_0118.png...\n",
            "loading image argender/face_002_0119.png...\n",
            "loading image argender/face_002_0120.png...\n",
            "loading image argender/face_002_0121.png...\n",
            "loading image argender/face_002_0122.png...\n",
            "loading image argender/face_002_0123.png...\n",
            "loading image argender/face_002_0124.png...\n",
            "loading image argender/face_002_0125.png...\n",
            "loading image argender/face_002_0126.png...\n",
            "loading image argender/face_002_0127.png...\n",
            "loading image argender/face_002_0128.png...\n",
            "loading image argender/face_002_0129.png...\n",
            "loading image argender/face_002_0130.png...\n",
            "loading image argender/face_002_0131.png...\n",
            "loading image argender/face_002_0132.png...\n",
            "loading image argender/face_002_0133.png...\n",
            "loading image argender/face_002_0134.png...\n",
            "loading image argender/face_002_0135.png...\n",
            "loading image argender/face_002_0136.png...\n",
            "loading image argender/face_002_0137.png...\n",
            "loading image argender/face_002_0138.png...\n",
            "loading image argender/face_002_0139.png...\n",
            "loading image argender/face_002_0140.png...\n",
            "loading image argender/face_002_0141.png...\n",
            "loading image argender/face_002_0142.png...\n",
            "loading image argender/face_002_0143.png...\n",
            "loading image argender/face_002_0144.png...\n",
            "loading image argender/face_002_0145.png...\n",
            "loading image argender/face_002_0146.png...\n",
            "loading image argender/face_002_0147.png...\n",
            "loading image argender/face_002_0148.png...\n",
            "loading image argender/face_002_0149.png...\n",
            "loading image argender/face_002_0150.png...\n",
            "loading image argender/face_002_0151.png...\n",
            "loading image argender/face_002_0152.png...\n",
            "loading image argender/face_002_0153.png...\n",
            "loading image argender/face_002_0154.png...\n",
            "loading image argender/face_002_0155.png...\n",
            "loading image argender/face_002_0156.png...\n",
            "loading image argender/face_002_0157.png...\n",
            "loading image argender/face_002_0158.png...\n",
            "loading image argender/face_002_0159.png...\n",
            "loading image argender/face_002_0160.png...\n",
            "loading image argender/face_002_0161.png...\n",
            "loading image argender/face_002_0162.png...\n",
            "loading image argender/face_002_0163.png...\n",
            "loading image argender/face_002_0164.png...\n",
            "loading image argender/face_002_0165.png...\n",
            "loading image argender/face_002_0166.png...\n",
            "loading image argender/face_002_0167.png...\n",
            "loading image argender/face_002_0168.png...\n",
            "loading image argender/face_002_0169.png...\n",
            "loading image argender/face_002_0170.png...\n",
            "loading image argender/face_002_0171.png...\n",
            "loading image argender/face_002_0172.png...\n",
            "loading image argender/face_002_0173.png...\n",
            "loading image argender/face_002_0174.png...\n",
            "loading image argender/face_002_0175.png...\n",
            "loading image argender/face_002_0176.png...\n",
            "loading image argender/face_002_0177.png...\n",
            "loading image argender/face_002_0178.png...\n",
            "loading image argender/face_002_0179.png...\n",
            "loading image argender/face_002_0180.png...\n",
            "loading image argender/face_002_0181.png...\n",
            "loading image argender/face_002_0182.png...\n",
            "loading image argender/face_002_0183.png...\n",
            "loading image argender/face_002_0184.png...\n",
            "loading image argender/face_002_0185.png...\n",
            "loading image argender/face_002_0186.png...\n",
            "loading image argender/face_002_0187.png...\n",
            "loading image argender/face_002_0188.png...\n",
            "loading image argender/face_002_0189.png...\n",
            "loading image argender/face_002_0190.png...\n",
            "loading image argender/face_002_0191.png...\n",
            "loading image argender/face_002_0192.png...\n",
            "loading image argender/face_002_0193.png...\n",
            "loading image argender/face_002_0194.png...\n",
            "loading image argender/face_002_0195.png...\n",
            "loading image argender/face_002_0196.png...\n",
            "loading image argender/face_002_0197.png...\n",
            "loading image argender/face_002_0198.png...\n",
            "loading image argender/face_002_0199.png...\n",
            "loading image argender/face_002_0200.png...\n",
            "loading image argender/face_002_0201.png...\n",
            "loading image argender/face_002_0202.png...\n",
            "loading image argender/face_002_0203.png...\n",
            "loading image argender/face_002_0204.png...\n",
            "loading image argender/face_002_0205.png...\n",
            "loading image argender/face_002_0206.png...\n",
            "loading image argender/face_002_0207.png...\n",
            "loading image argender/face_002_0208.png...\n",
            "loading image argender/face_002_0209.png...\n",
            "loading image argender/face_002_0210.png...\n",
            "loading image argender/face_002_0211.png...\n",
            "loading image argender/face_002_0212.png...\n",
            "loading image argender/face_002_0213.png...\n",
            "loading image argender/face_002_0214.png...\n",
            "loading image argender/face_002_0215.png...\n",
            "loading image argender/face_002_0216.png...\n",
            "loading image argender/face_002_0217.png...\n",
            "loading image argender/face_002_0218.png...\n",
            "loading image argender/face_002_0219.png...\n",
            "loading image argender/face_002_0220.png...\n",
            "loading image argender/face_002_0221.png...\n",
            "loading image argender/face_002_0222.png...\n",
            "loading image argender/face_002_0223.png...\n",
            "loading image argender/face_002_0224.png...\n",
            "loading image argender/face_002_0225.png...\n",
            "loading image argender/face_002_0226.png...\n",
            "loading image argender/face_002_0227.png...\n",
            "loading image argender/face_002_0228.png...\n",
            "loading image argender/face_002_0229.png...\n",
            "loading image argender/face_002_0230.png...\n",
            "loading image argender/face_002_0231.png...\n",
            "loading image argender/face_002_0232.png...\n",
            "loading image argender/face_002_0233.png...\n",
            "loading image argender/face_002_0234.png...\n",
            "loading image argender/face_002_0235.png...\n",
            "loading image argender/face_002_0236.png...\n",
            "loading image argender/face_002_0237.png...\n",
            "loading image argender/face_002_0238.png...\n",
            "loading image argender/face_002_0239.png...\n",
            "loading image argender/face_002_0240.png...\n",
            "loading image argender/face_002_0241.png...\n",
            "loading image argender/face_002_0242.png...\n",
            "loading image argender/face_002_0243.png...\n",
            "loading image argender/face_002_0244.png...\n",
            "loading image argender/face_002_0245.png...\n",
            "loading image argender/face_002_0246.png...\n",
            "loading image argender/face_002_0247.png...\n",
            "loading image argender/face_002_0248.png...\n",
            "loading image argender/face_002_0249.png...\n",
            "loading image argender/face_002_0250.png...\n",
            "loading image argender/face_002_0251.png...\n",
            "loading image argender/face_002_0252.png...\n",
            "loading image argender/face_002_0253.png...\n",
            "loading image argender/face_002_0254.png...\n",
            "loading image argender/face_002_0255.png...\n",
            "loading image argender/face_002_0256.png...\n",
            "loading image argender/face_002_0257.png...\n",
            "loading image argender/face_002_0258.png...\n",
            "loading image argender/face_002_0259.png...\n",
            "loading image argender/face_002_0260.png...\n",
            "loading image argender/face_002_0261.png...\n",
            "loading image argender/face_002_0262.png...\n",
            "loading image argender/face_002_0263.png...\n",
            "loading image argender/face_002_0264.png...\n",
            "loading image argender/face_002_0265.png...\n",
            "loading image argender/face_002_0266.png...\n",
            "loading image argender/face_002_0267.png...\n",
            "loading image argender/face_002_0268.png...\n",
            "loading image argender/face_002_0269.png...\n",
            "loading image argender/face_002_0270.png...\n",
            "loading image argender/face_002_0271.png...\n",
            "loading image argender/face_002_0272.png...\n",
            "loading image argender/face_002_0273.png...\n",
            "loading image argender/face_002_0274.png...\n",
            "loading image argender/face_002_0275.png...\n",
            "loading image argender/face_002_0276.png...\n",
            "loading image argender/face_002_0277.png...\n",
            "loading image argender/face_002_0278.png...\n",
            "loading image argender/face_002_0279.png...\n",
            "loading image argender/face_002_0280.png...\n",
            "loading image argender/face_002_0281.png...\n",
            "loading image argender/face_002_0282.png...\n",
            "loading image argender/face_002_0283.png...\n",
            "loading image argender/face_002_0284.png...\n",
            "loading image argender/face_002_0285.png...\n",
            "loading image argender/face_002_0286.png...\n",
            "loading image argender/face_002_0287.png...\n",
            "loading image argender/face_002_0288.png...\n",
            "loading image argender/face_002_0289.png...\n",
            "loading image argender/face_002_0290.png...\n",
            "loading image argender/face_002_0291.png...\n",
            "loading image argender/face_002_0292.png...\n",
            "loading image argender/face_002_0293.png...\n",
            "loading image argender/face_002_0294.png...\n",
            "loading image argender/face_002_0295.png...\n",
            "loading image argender/face_002_0296.png...\n",
            "loading image argender/face_002_0297.png...\n",
            "loading image argender/face_002_0298.png...\n",
            "loading image argender/face_002_0299.png...\n",
            "loading image argender/face_002_0300.png...\n",
            "loading image argender/face_002_0301.png...\n",
            "loading image argender/face_002_0302.png...\n",
            "loading image argender/face_002_0303.png...\n",
            "loading image argender/face_002_0304.png...\n",
            "loading image argender/face_002_0305.png...\n",
            "loading image argender/face_002_0306.png...\n",
            "loading image argender/face_002_0307.png...\n",
            "loading image argender/face_002_0308.png...\n",
            "loading image argender/face_002_0309.png...\n",
            "loading image argender/face_002_0310.png...\n",
            "loading image argender/face_002_0311.png...\n",
            "loading image argender/face_002_0312.png...\n",
            "loading image argender/face_002_0313.png...\n",
            "loading image argender/face_002_0314.png...\n",
            "loading image argender/face_002_0315.png...\n",
            "loading image argender/face_002_0316.png...\n",
            "loading image argender/face_002_0317.png...\n",
            "loading image argender/face_002_0318.png...\n",
            "loading image argender/face_002_0319.png...\n",
            "loading image argender/face_002_0320.png...\n",
            "loading image argender/face_002_0321.png...\n",
            "loading image argender/face_002_0322.png...\n",
            "loading image argender/face_002_0323.png...\n",
            "loading image argender/face_002_0324.png...\n",
            "loading image argender/face_002_0325.png...\n",
            "loading image argender/face_002_0326.png...\n",
            "loading image argender/face_002_0327.png...\n",
            "loading image argender/face_002_0328.png...\n",
            "loading image argender/face_002_0329.png...\n",
            "loading image argender/face_002_0330.png...\n",
            "loading image argender/face_002_0331.png...\n",
            "loading image argender/face_002_0332.png...\n",
            "loading image argender/face_002_0333.png...\n",
            "loading image argender/face_002_0334.png...\n",
            "loading image argender/face_002_0335.png...\n",
            "loading image argender/face_002_0336.png...\n",
            "loading image argender/face_002_0337.png...\n",
            "loading image argender/face_002_0338.png...\n",
            "loading image argender/face_002_0339.png...\n",
            "loading image argender/face_002_0340.png...\n",
            "loading image argender/face_002_0341.png...\n",
            "loading image argender/face_002_0342.png...\n",
            "loading image argender/face_002_0343.png...\n",
            "loading image argender/face_002_0344.png...\n",
            "loading image argender/face_002_0345.png...\n",
            "loading image argender/face_002_0346.png...\n",
            "loading image argender/face_002_0347.png...\n",
            "loading image argender/face_002_0348.png...\n",
            "loading image argender/face_002_0349.png...\n",
            "loading image argender/face_002_0350.png...\n",
            "loading image argender/face_002_0351.png...\n",
            "loading image argender/face_002_0352.png...\n",
            "loading image argender/face_002_0353.png...\n",
            "loading image argender/face_002_0354.png...\n",
            "loading image argender/face_002_0355.png...\n",
            "loading image argender/face_002_0356.png...\n",
            "loading image argender/face_002_0357.png...\n",
            "loading image argender/face_002_0358.png...\n",
            "loading image argender/face_002_0359.png...\n",
            "loading image argender/face_002_0360.png...\n",
            "loading image argender/face_002_0361.png...\n",
            "loading image argender/face_002_0362.png...\n",
            "loading image argender/face_002_0363.png...\n",
            "loading image argender/face_002_0364.png...\n",
            "loading image argender/face_002_0365.png...\n",
            "loading image argender/face_002_0366.png...\n",
            "loading image argender/face_002_0367.png...\n",
            "loading image argender/face_002_0368.png...\n",
            "loading image argender/face_002_0369.png...\n",
            "loading image argender/face_002_0370.png...\n",
            "loading image argender/face_002_0371.png...\n",
            "loading image argender/face_002_0372.png...\n",
            "loading image argender/face_002_0373.png...\n",
            "loading image argender/face_002_0374.png...\n",
            "loading image argender/face_002_0375.png...\n",
            "loading image argender/face_002_0376.png...\n",
            "loading image argender/face_002_0377.png...\n",
            "loading image argender/face_002_0378.png...\n",
            "loading image argender/face_002_0379.png...\n",
            "loading image argender/face_002_0380.png...\n",
            "loading image argender/face_002_0381.png...\n",
            "loading image argender/face_002_0382.png...\n",
            "loading image argender/face_002_0383.png...\n",
            "loading image argender/face_002_0384.png...\n",
            "loading image argender/face_002_0385.png...\n",
            "loading image argender/face_002_0386.png...\n",
            "loading image argender/face_002_0387.png...\n",
            "loading image argender/face_002_0388.png...\n",
            "loading image argender/face_002_0389.png...\n",
            "loading image argender/face_002_0390.png...\n",
            "loading image argender/face_002_0391.png...\n",
            "loading image argender/face_002_0392.png...\n",
            "loading image argender/face_002_0393.png...\n",
            "loading image argender/face_002_0394.png...\n",
            "loading image argender/face_002_0395.png...\n",
            "loading image argender/face_002_0396.png...\n",
            "loading image argender/face_002_0397.png...\n",
            "loading image argender/face_002_0398.png...\n",
            "loading image argender/face_002_0399.png...\n",
            "loading image argender/face_002_0400.png...\n",
            "loading image argender/face_002_0401.png...\n",
            "loading image argender/face_002_0402.png...\n",
            "loading image argender/face_002_0403.png...\n",
            "loading image argender/face_002_0404.png...\n",
            "loading image argender/face_002_0405.png...\n",
            "loading image argender/face_002_0406.png...\n",
            "loading image argender/face_002_0407.png...\n",
            "loading image argender/face_002_0408.png...\n",
            "loading image argender/face_002_0409.png...\n",
            "loading image argender/face_002_0410.png...\n",
            "loading image argender/face_002_0411.png...\n",
            "loading image argender/face_002_0412.png...\n",
            "loading image argender/face_002_0413.png...\n",
            "loading image argender/face_002_0414.png...\n",
            "loading image argender/face_002_0415.png...\n",
            "loading image argender/face_002_0416.png...\n",
            "loading image argender/face_002_0417.png...\n",
            "loading image argender/face_002_0418.png...\n",
            "loading image argender/face_002_0419.png...\n",
            "loading image argender/face_002_0420.png...\n",
            "loading image argender/face_002_0421.png...\n",
            "loading image argender/face_002_0422.png...\n",
            "loading image argender/face_002_0423.png...\n",
            "loading image argender/face_002_0424.png...\n",
            "loading image argender/face_002_0425.png...\n",
            "loading image argender/face_002_0426.png...\n",
            "loading image argender/face_002_0427.png...\n",
            "loading image argender/face_002_0428.png...\n",
            "loading image argender/face_002_0429.png...\n",
            "loading image argender/face_002_0430.png...\n",
            "loading image argender/face_002_0431.png...\n",
            "loading image argender/face_002_0432.png...\n",
            "loading image argender/face_002_0433.png...\n",
            "loading image argender/face_002_0434.png...\n",
            "loading image argender/face_002_0435.png...\n",
            "loading image argender/face_002_0436.png...\n",
            "loading image argender/face_002_0437.png...\n",
            "loading image argender/face_002_0438.png...\n",
            "loading image argender/face_002_0439.png...\n",
            "loading image argender/face_002_0440.png...\n",
            "loading image argender/face_002_0441.png...\n",
            "loading image argender/face_002_0442.png...\n",
            "loading image argender/face_002_0443.png...\n",
            "loading image argender/face_002_0444.png...\n",
            "loading image argender/face_002_0445.png...\n",
            "loading image argender/face_002_0446.png...\n",
            "loading image argender/face_002_0447.png...\n",
            "loading image argender/face_002_0448.png...\n",
            "loading image argender/face_002_0449.png...\n",
            "loading image argender/face_002_0450.png...\n",
            "loading image argender/face_002_0451.png...\n",
            "loading image argender/face_002_0452.png...\n",
            "loading image argender/face_002_0453.png...\n",
            "loading image argender/face_002_0454.png...\n",
            "loading image argender/face_002_0455.png...\n",
            "loading image argender/face_002_0456.png...\n",
            "loading image argender/face_002_0457.png...\n",
            "loading image argender/face_002_0458.png...\n",
            "loading image argender/face_002_0459.png...\n",
            "loading image argender/face_002_0460.png...\n",
            "loading image argender/face_002_0461.png...\n",
            "loading image argender/face_002_0462.png...\n",
            "loading image argender/face_002_0463.png...\n",
            "loading image argender/face_002_0464.png...\n",
            "loading image argender/face_002_0465.png...\n",
            "loading image argender/face_002_0466.png...\n",
            "loading image argender/face_002_0467.png...\n",
            "loading image argender/face_002_0468.png...\n",
            "loading image argender/face_002_0469.png...\n",
            "loading image argender/face_002_0470.png...\n",
            "loading image argender/face_002_0471.png...\n",
            "loading image argender/face_002_0472.png...\n",
            "loading image argender/face_002_0473.png...\n",
            "loading image argender/face_002_0474.png...\n",
            "loading image argender/face_002_0475.png...\n",
            "loading image argender/face_002_0476.png...\n",
            "loading image argender/face_002_0477.png...\n",
            "loading image argender/face_002_0478.png...\n",
            "loading image argender/face_002_0479.png...\n",
            "loading image argender/face_002_0480.png...\n",
            "loading image argender/face_002_0481.png...\n",
            "loading image argender/face_002_0482.png...\n",
            "loading image argender/face_002_0483.png...\n",
            "loading image argender/face_002_0484.png...\n",
            "loading image argender/face_002_0485.png...\n",
            "loading image argender/face_002_0486.png...\n",
            "loading image argender/face_002_0487.png...\n",
            "loading image argender/face_002_0488.png...\n",
            "loading image argender/face_002_0489.png...\n",
            "loading image argender/face_002_0490.png...\n",
            "loading image argender/face_002_0491.png...\n",
            "loading image argender/face_002_0492.png...\n",
            "loading image argender/face_002_0493.png...\n",
            "loading image argender/face_002_0494.png...\n",
            "loading image argender/face_002_0495.png...\n",
            "loading image argender/face_002_0496.png...\n",
            "loading image argender/face_002_0497.png...\n",
            "loading image argender/face_002_0498.png...\n",
            "loading image argender/face_002_0499.png...\n",
            "loading image argender/face_002_0500.png...\n",
            "loading image argender/face_002_0501.png...\n",
            "loading image argender/face_002_0502.png...\n",
            "loading image argender/face_002_0503.png...\n",
            "loading image argender/face_002_0504.png...\n",
            "loading image argender/face_002_0505.png...\n",
            "loading image argender/face_002_0506.png...\n",
            "loading image argender/face_002_0507.png...\n",
            "loading image argender/face_002_0508.png...\n",
            "loading image argender/face_002_0509.png...\n",
            "loading image argender/face_002_0510.png...\n",
            "loading image argender/face_002_0511.png...\n",
            "loading image argender/face_002_0512.png...\n",
            "loading image argender/face_002_0513.png...\n",
            "loading image argender/face_002_0514.png...\n",
            "loading image argender/face_002_0515.png...\n",
            "loading image argender/face_002_0516.png...\n",
            "loading image argender/face_002_0517.png...\n",
            "loading image argender/face_002_0518.png...\n",
            "loading image argender/face_002_0519.png...\n",
            "loading image argender/face_002_0520.png...\n",
            "loading image argender/face_002_0521.png...\n",
            "loading image argender/face_002_0522.png...\n",
            "loading image argender/face_002_0523.png...\n",
            "loading image argender/face_002_0524.png...\n",
            "loading image argender/face_002_0525.png...\n",
            "loading image argender/face_002_0526.png...\n",
            "loading image argender/face_002_0527.png...\n",
            "loading image argender/face_002_0528.png...\n",
            "loading image argender/face_002_0529.png...\n",
            "loading image argender/face_002_0530.png...\n",
            "loading image argender/face_002_0531.png...\n",
            "loading image argender/face_002_0532.png...\n",
            "loading image argender/face_002_0533.png...\n",
            "loading image argender/face_002_0534.png...\n",
            "loading image argender/face_002_0535.png...\n",
            "loading image argender/face_002_0536.png...\n",
            "loading image argender/face_002_0537.png...\n",
            "loading image argender/face_002_0538.png...\n",
            "loading image argender/face_002_0539.png...\n",
            "loading image argender/face_002_0540.png...\n",
            "loading image argender/face_002_0541.png...\n",
            "loading image argender/face_002_0542.png...\n",
            "loading image argender/face_002_0543.png...\n",
            "loading image argender/face_002_0544.png...\n",
            "loading image argender/face_002_0545.png...\n",
            "loading image argender/face_002_0546.png...\n",
            "loading image argender/face_002_0547.png...\n",
            "loading image argender/face_002_0548.png...\n",
            "loading image argender/face_002_0549.png...\n",
            "loading image argender/face_002_0550.png...\n",
            "loading image argender/face_002_0551.png...\n",
            "loading image argender/face_002_0552.png...\n",
            "loading image argender/face_002_0553.png...\n",
            "loading image argender/face_002_0554.png...\n",
            "loading image argender/face_002_0555.png...\n",
            "loading image argender/face_002_0556.png...\n",
            "loading image argender/face_002_0557.png...\n",
            "loading image argender/face_002_0558.png...\n",
            "loading image argender/face_002_0559.png...\n",
            "loading image argender/face_002_0560.png...\n",
            "loading image argender/face_002_0561.png...\n",
            "loading image argender/face_002_0562.png...\n",
            "loading image argender/face_002_0563.png...\n",
            "loading image argender/face_002_0564.png...\n",
            "loading image argender/face_002_0565.png...\n",
            "loading image argender/face_002_0566.png...\n",
            "loading image argender/face_002_0567.png...\n",
            "loading image argender/face_002_0568.png...\n",
            "loading image argender/face_002_0569.png...\n",
            "loading image argender/face_002_0570.png...\n",
            "loading image argender/face_002_0571.png...\n",
            "loading image argender/face_002_0572.png...\n",
            "loading image argender/face_002_0573.png...\n",
            "loading image argender/face_002_0574.png...\n",
            "loading image argender/face_002_0575.png...\n",
            "loading image argender/face_002_0576.png...\n",
            "loading image argender/face_002_0577.png...\n",
            "loading image argender/face_002_0578.png...\n",
            "loading image argender/face_002_0579.png...\n",
            "loading image argender/face_002_0580.png...\n",
            "loading image argender/face_002_0581.png...\n",
            "loading image argender/face_002_0582.png...\n",
            "loading image argender/face_002_0583.png...\n",
            "loading image argender/face_002_0584.png...\n",
            "loading image argender/face_002_0585.png...\n",
            "loading image argender/face_002_0586.png...\n",
            "loading image argender/face_002_0587.png...\n",
            "loading image argender/face_002_0588.png...\n",
            "loading image argender/face_002_0589.png...\n",
            "loading image argender/face_002_0590.png...\n",
            "loading image argender/face_002_0591.png...\n",
            "loading image argender/face_002_0592.png...\n",
            "loading image argender/face_002_0593.png...\n",
            "loading image argender/face_002_0594.png...\n",
            "loading image argender/face_002_0595.png...\n",
            "loading image argender/face_002_0596.png...\n",
            "loading image argender/face_002_0597.png...\n",
            "loading image argender/face_002_0598.png...\n",
            "loading image argender/face_002_0599.png...\n",
            "loading image argender/face_002_0600.png...\n",
            "loading image argender/face_002_0601.png...\n",
            "loading image argender/face_002_0602.png...\n",
            "loading image argender/face_002_0603.png...\n",
            "loading image argender/face_002_0604.png...\n",
            "loading image argender/face_002_0605.png...\n",
            "loading image argender/face_002_0606.png...\n",
            "loading image argender/face_002_0607.png...\n",
            "loading image argender/face_002_0608.png...\n",
            "loading image argender/face_002_0609.png...\n",
            "loading image argender/face_002_0610.png...\n",
            "loading image argender/face_002_0611.png...\n",
            "loading image argender/face_002_0612.png...\n",
            "loading image argender/face_002_0613.png...\n",
            "loading image argender/face_002_0614.png...\n",
            "loading image argender/face_002_0615.png...\n",
            "loading image argender/face_002_0616.png...\n",
            "loading image argender/face_002_0617.png...\n",
            "loading image argender/face_002_0618.png...\n",
            "loading image argender/face_002_0619.png...\n",
            "loading image argender/face_002_0620.png...\n",
            "loading image argender/face_002_0621.png...\n",
            "loading image argender/face_002_0622.png...\n",
            "loading image argender/face_002_0623.png...\n",
            "loading image argender/face_002_0624.png...\n",
            "loading image argender/face_002_0625.png...\n",
            "loading image argender/face_002_0626.png...\n",
            "loading image argender/face_002_0627.png...\n",
            "loading image argender/face_002_0628.png...\n",
            "loading image argender/face_002_0629.png...\n",
            "loading image argender/face_002_0630.png...\n",
            "loading image argender/face_002_0631.png...\n",
            "loading image argender/face_002_0632.png...\n",
            "loading image argender/face_002_0633.png...\n",
            "loading image argender/face_002_0634.png...\n",
            "loading image argender/face_002_0635.png...\n",
            "loading image argender/face_002_0636.png...\n",
            "loading image argender/face_002_0637.png...\n",
            "loading image argender/face_002_0638.png...\n",
            "loading image argender/face_002_0639.png...\n",
            "loading image argender/face_002_0640.png...\n",
            "loading image argender/face_002_0641.png...\n",
            "loading image argender/face_002_0642.png...\n",
            "loading image argender/face_002_0643.png...\n",
            "loading image argender/face_002_0644.png...\n",
            "loading image argender/face_002_0645.png...\n",
            "loading image argender/face_002_0646.png...\n",
            "loading image argender/face_002_0647.png...\n",
            "loading image argender/face_002_0648.png...\n",
            "loading image argender/face_002_0649.png...\n",
            "loading image argender/face_002_0650.png...\n",
            "loading image argender/face_002_0651.png...\n",
            "loading image argender/face_002_0652.png...\n",
            "loading image argender/face_002_0653.png...\n",
            "loading image argender/face_002_0654.png...\n",
            "loading image argender/face_002_0655.png...\n",
            "loading image argender/face_002_0656.png...\n",
            "loading image argender/face_002_0657.png...\n",
            "loading image argender/face_002_0658.png...\n",
            "loading image argender/face_002_0659.png...\n",
            "loading image argender/face_002_0660.png...\n",
            "loading image argender/face_002_0661.png...\n",
            "loading image argender/face_002_0662.png...\n",
            "loading image argender/face_002_0663.png...\n",
            "loading image argender/face_002_0664.png...\n",
            "loading image argender/face_002_0665.png...\n",
            "loading image argender/face_002_0666.png...\n",
            "loading image argender/face_002_0667.png...\n",
            "loading image argender/face_002_0668.png...\n",
            "loading image argender/face_002_0669.png...\n",
            "loading image argender/face_002_0670.png...\n",
            "loading image argender/face_002_0671.png...\n",
            "loading image argender/face_002_0672.png...\n",
            "loading image argender/face_002_0673.png...\n",
            "loading image argender/face_002_0674.png...\n",
            "loading image argender/face_002_0675.png...\n",
            "loading image argender/face_002_0676.png...\n",
            "loading image argender/face_002_0677.png...\n",
            "loading image argender/face_002_0678.png...\n",
            "loading image argender/face_002_0679.png...\n",
            "loading image argender/face_002_0680.png...\n",
            "loading image argender/face_002_0681.png...\n",
            "loading image argender/face_002_0682.png...\n",
            "loading image argender/face_002_0683.png...\n",
            "loading image argender/face_002_0684.png...\n",
            "loading image argender/face_002_0685.png...\n",
            "loading image argender/face_002_0686.png...\n",
            "loading image argender/face_002_0687.png...\n",
            "loading image argender/face_002_0688.png...\n",
            "loading image argender/face_002_0689.png...\n",
            "loading image argender/face_002_0690.png...\n",
            "loading image argender/face_002_0691.png...\n",
            "loading image argender/face_002_0692.png...\n",
            "loading image argender/face_002_0693.png...\n",
            "loading image argender/face_002_0694.png...\n",
            "loading image argender/face_002_0695.png...\n",
            "loading image argender/face_002_0696.png...\n",
            "loading image argender/face_002_0697.png...\n",
            "loading image argender/face_002_0698.png...\n",
            "loading image argender/face_002_0699.png...\n",
            "loading image argender/face_002_0700.png...\n",
            "\n"
          ],
          "name": "stdout"
        }
      ]
    },
    {
      "cell_type": "markdown",
      "metadata": {
        "id": "EuvzIgp-jAXQ"
      },
      "source": [
        "## B. Clasificación y evaluación"
      ]
    },
    {
      "cell_type": "markdown",
      "metadata": {
        "id": "XEBg6tJQC_uF"
      },
      "source": [
        "KNN con 3 vecinos\n",
        "\n",
        "Función que usa *KNeighborsClassifier* para la clasificación, luego retorna la matriz de confusión y evalúa con la métrica de accuracy."
      ]
    },
    {
      "cell_type": "code",
      "metadata": {
        "id": "LKNj2vMNC9iv"
      },
      "source": [
        "# Clasificación usando KNN con 3 vecinos\n",
        "def ClassifierKNN(Xtrain,ytrain,Xtest,ytest, norm = False, distance = 'cosine', p = 2):\n",
        "  if norm:\n",
        "    Xtrain, a, b = minmax(Xtrain)\n",
        "    Xtest        = Xtest * a + b\n",
        "  knn = KNeighborsClassifier(n_neighbors=3,weights = 'uniform', metric = distance, p = p)\n",
        "  knn.fit(Xtrain, ytrain)\n",
        "  ypred        = knn.predict(Xtest)\n",
        "  acc          = accuracy_score(ytest,ypred)\n",
        "  print('Entrenando con '+str(Xtrain.shape[0])+' muestras y probando con '+str(Xtest.shape[0])+' muestras')\n",
        "  print('Los datos tienen '+str(Xtrain.shape[1])+' features')\n",
        "  print('Testing Accuracy = '+str(acc*100)+'%')\n",
        "  C = confusion_matrix(ytest,ypred)\n",
        "  print('Matriz de Confusión:')\n",
        "  print(C)\n",
        "  return acc,C"
      ],
      "execution_count": null,
      "outputs": []
    },
    {
      "cell_type": "markdown",
      "metadata": {
        "id": "Nc8bmKT9O3KR"
      },
      "source": [
        " ## Clasificación usando HOG\n",
        "\n",
        "Clasificación Hog - 1440 features\n",
        "\n"
      ]
    },
    {
      "cell_type": "code",
      "metadata": {
        "colab": {
          "base_uri": "https://localhost:8080/"
        },
        "id": "YqQE908eO3j8",
        "outputId": "a7e7c72a-bc49-41db-b4b7-2d855e3b81b4"
      },
      "source": [
        "# Paso 1:Se carga en la matriz `X` las características de HoG extraídas anteriormente que van a ser usadas por el clasificador\n",
        "\n",
        "# Paso 2: separar training/testing\n",
        "ntrain = 630 # número de muestras por clase para el entrenamiento\n",
        "Xtrain,ytrain,Xtest,ytest = SplitTrainTest(Xhog,y,ntrain)\n",
        "\n",
        "# Paso 3: clasificar y evaluar desempeño\n",
        "acc,Chog = ClassifierKNN(Xtrain,ytrain,Xtest,ytest, norm = False, distance = 'cosine')"
      ],
      "execution_count": null,
      "outputs": [
        {
          "output_type": "stream",
          "text": [
            "Entrenando con 1260 muestras y probando con 140 muestras\n",
            "Los datos tienen 1440 features\n",
            "Testing Accuracy = 82.85714285714286%\n",
            "Matriz de Confusión:\n",
            "[[56 14]\n",
            " [10 60]]\n"
          ],
          "name": "stdout"
        }
      ]
    },
    {
      "cell_type": "code",
      "metadata": {
        "colab": {
          "base_uri": "https://localhost:8080/",
          "height": 311
        },
        "id": "RdqDnGBPSkst",
        "outputId": "b94acaa9-dc33-44f8-9e21-56f96c098807"
      },
      "source": [
        "    sns.heatmap(Chog, annot=True, cbar=None, cmap=\"BuPu\")\n",
        "    plt.title(\"Confusion Matrix HoG\"), plt.tight_layout()\n",
        "    plt.ylabel(\"True Class\"), plt.xlabel(\"Predicted Class\")\n",
        "    plt.show()"
      ],
      "execution_count": null,
      "outputs": [
        {
          "output_type": "display_data",
          "data": {
            "image/png": "[encoded data removed]",
            "text/plain": [
              "<Figure size 432x288 with 1 Axes>"
            ]
          },
          "metadata": {
            "tags": [],
            "needs_background": "light"
          }
        }
      ]
    },
    {
      "cell_type": "markdown",
      "metadata": {
        "id": "dzA59PjW6p5r"
      },
      "source": [
        "* Con HoG se obtuvo un accuracy en el conjunto de test de 82,9%."
      ]
    },
    {
      "cell_type": "markdown",
      "metadata": {
        "id": "798rKxPj8XYF"
      },
      "source": [
        "Guarda la matriz de HoG"
      ]
    },
    {
      "cell_type": "code",
      "metadata": {
        "id": "ze1Ko63L8Kx_"
      },
      "source": [
        "#np.save('Xhog.npy', Xhog) ## Correr solo si es necesario sobrescribir la matriz"
      ],
      "execution_count": null,
      "outputs": []
    },
    {
      "cell_type": "markdown",
      "metadata": {
        "id": "tB8s2am0FPqR"
      },
      "source": [
        "## Clasificación usando LBP"
      ]
    },
    {
      "cell_type": "markdown",
      "metadata": {
        "id": "9HEn5LtbR4yK"
      },
      "source": [
        "Se transforma la matriz a dataframe para verificar nulos"
      ]
    },
    {
      "cell_type": "code",
      "metadata": {
        "colab": {
          "base_uri": "https://localhost:8080/",
          "height": 247
        },
        "id": "4PQYGH9RR7sm",
        "outputId": "f6a08ac0-8dcb-42c0-fdd2-94e3c2f77e69"
      },
      "source": [
        "df_faces_lbp = pd.DataFrame(Xlbp)\n",
        "df_faces_lbp.head()"
      ],
      "execution_count": null,
      "outputs": [
        {
          "output_type": "execute_result",
          "data": {
            "text/html": [
              "<div>\n",
              "<style scoped>\n",
              "    .dataframe tbody tr th:only-of-type {\n",
              "        vertical-align: middle;\n",
              "    }\n",
              "\n",
              "    .dataframe tbody tr th {\n",
              "        vertical-align: top;\n",
              "    }\n",
              "\n",
              "    .dataframe thead th {\n",
              "        text-align: right;\n",
              "    }\n",
              "</style>\n",
              "<table border=\"1\" class=\"dataframe\">\n",
              "  <thead>\n",
              "    <tr style=\"text-align: right;\">\n",
              "      <th></th>\n",
              "      <th>0</th>\n",
              "      <th>1</th>\n",
              "      <th>2</th>\n",
              "      <th>3</th>\n",
              "      <th>4</th>\n",
              "      <th>5</th>\n",
              "      <th>6</th>\n",
              "      <th>7</th>\n",
              "      <th>8</th>\n",
              "      <th>9</th>\n",
              "      <th>10</th>\n",
              "      <th>11</th>\n",
              "      <th>12</th>\n",
              "      <th>13</th>\n",
              "      <th>14</th>\n",
              "      <th>15</th>\n",
              "      <th>16</th>\n",
              "      <th>17</th>\n",
              "      <th>18</th>\n",
              "      <th>19</th>\n",
              "      <th>20</th>\n",
              "      <th>21</th>\n",
              "      <th>22</th>\n",
              "      <th>23</th>\n",
              "      <th>24</th>\n",
              "      <th>25</th>\n",
              "      <th>26</th>\n",
              "      <th>27</th>\n",
              "      <th>28</th>\n",
              "      <th>29</th>\n",
              "      <th>30</th>\n",
              "      <th>31</th>\n",
              "      <th>32</th>\n",
              "      <th>33</th>\n",
              "      <th>34</th>\n",
              "      <th>35</th>\n",
              "      <th>36</th>\n",
              "      <th>37</th>\n",
              "      <th>38</th>\n",
              "      <th>39</th>\n",
              "      <th>...</th>\n",
              "      <th>196</th>\n",
              "      <th>197</th>\n",
              "      <th>198</th>\n",
              "      <th>199</th>\n",
              "      <th>200</th>\n",
              "      <th>201</th>\n",
              "      <th>202</th>\n",
              "      <th>203</th>\n",
              "      <th>204</th>\n",
              "      <th>205</th>\n",
              "      <th>206</th>\n",
              "      <th>207</th>\n",
              "      <th>208</th>\n",
              "      <th>209</th>\n",
              "      <th>210</th>\n",
              "      <th>211</th>\n",
              "      <th>212</th>\n",
              "      <th>213</th>\n",
              "      <th>214</th>\n",
              "      <th>215</th>\n",
              "      <th>216</th>\n",
              "      <th>217</th>\n",
              "      <th>218</th>\n",
              "      <th>219</th>\n",
              "      <th>220</th>\n",
              "      <th>221</th>\n",
              "      <th>222</th>\n",
              "      <th>223</th>\n",
              "      <th>224</th>\n",
              "      <th>225</th>\n",
              "      <th>226</th>\n",
              "      <th>227</th>\n",
              "      <th>228</th>\n",
              "      <th>229</th>\n",
              "      <th>230</th>\n",
              "      <th>231</th>\n",
              "      <th>232</th>\n",
              "      <th>233</th>\n",
              "      <th>234</th>\n",
              "      <th>235</th>\n",
              "    </tr>\n",
              "  </thead>\n",
              "  <tbody>\n",
              "    <tr>\n",
              "      <th>0</th>\n",
              "      <td>0.000433</td>\n",
              "      <td>0.000000</td>\n",
              "      <td>0.0</td>\n",
              "      <td>0.0</td>\n",
              "      <td>0.0</td>\n",
              "      <td>0.000000</td>\n",
              "      <td>0.0</td>\n",
              "      <td>0.000000</td>\n",
              "      <td>0.0</td>\n",
              "      <td>0.0</td>\n",
              "      <td>0.0</td>\n",
              "      <td>0.0</td>\n",
              "      <td>0.0</td>\n",
              "      <td>0.0</td>\n",
              "      <td>0.0</td>\n",
              "      <td>0.0</td>\n",
              "      <td>0.0</td>\n",
              "      <td>0.0</td>\n",
              "      <td>0.0</td>\n",
              "      <td>0.000000</td>\n",
              "      <td>0.0</td>\n",
              "      <td>0.0</td>\n",
              "      <td>0.0</td>\n",
              "      <td>0.0</td>\n",
              "      <td>0.017553</td>\n",
              "      <td>0.0</td>\n",
              "      <td>0.0</td>\n",
              "      <td>0.012569</td>\n",
              "      <td>0.000000</td>\n",
              "      <td>0.0</td>\n",
              "      <td>0.0</td>\n",
              "      <td>0.0</td>\n",
              "      <td>0.0</td>\n",
              "      <td>0.0</td>\n",
              "      <td>0.0</td>\n",
              "      <td>0.000000</td>\n",
              "      <td>0.000000</td>\n",
              "      <td>0.000000</td>\n",
              "      <td>0.000000</td>\n",
              "      <td>0.0</td>\n",
              "      <td>...</td>\n",
              "      <td>0.0</td>\n",
              "      <td>0.0</td>\n",
              "      <td>0.0</td>\n",
              "      <td>0.0</td>\n",
              "      <td>0.000433</td>\n",
              "      <td>0.0</td>\n",
              "      <td>0.0</td>\n",
              "      <td>0.000650</td>\n",
              "      <td>0.001300</td>\n",
              "      <td>0.0</td>\n",
              "      <td>0.0</td>\n",
              "      <td>0.0</td>\n",
              "      <td>0.0</td>\n",
              "      <td>0.0</td>\n",
              "      <td>0.012569</td>\n",
              "      <td>0.000217</td>\n",
              "      <td>0.006718</td>\n",
              "      <td>0.0</td>\n",
              "      <td>0.0</td>\n",
              "      <td>0.0</td>\n",
              "      <td>0.013436</td>\n",
              "      <td>0.0</td>\n",
              "      <td>0.0</td>\n",
              "      <td>0.000000</td>\n",
              "      <td>0.000217</td>\n",
              "      <td>0.000433</td>\n",
              "      <td>0.0</td>\n",
              "      <td>0.0</td>\n",
              "      <td>0.000108</td>\n",
              "      <td>0.000325</td>\n",
              "      <td>0.0</td>\n",
              "      <td>0.0</td>\n",
              "      <td>0.000867</td>\n",
              "      <td>0.0</td>\n",
              "      <td>0.000867</td>\n",
              "      <td>0.0</td>\n",
              "      <td>0.0</td>\n",
              "      <td>0.000108</td>\n",
              "      <td>0.491056</td>\n",
              "      <td>0.002492</td>\n",
              "    </tr>\n",
              "    <tr>\n",
              "      <th>1</th>\n",
              "      <td>0.000108</td>\n",
              "      <td>0.000000</td>\n",
              "      <td>0.0</td>\n",
              "      <td>0.0</td>\n",
              "      <td>0.0</td>\n",
              "      <td>0.000000</td>\n",
              "      <td>0.0</td>\n",
              "      <td>0.000000</td>\n",
              "      <td>0.0</td>\n",
              "      <td>0.0</td>\n",
              "      <td>0.0</td>\n",
              "      <td>0.0</td>\n",
              "      <td>0.0</td>\n",
              "      <td>0.0</td>\n",
              "      <td>0.0</td>\n",
              "      <td>0.0</td>\n",
              "      <td>0.0</td>\n",
              "      <td>0.0</td>\n",
              "      <td>0.0</td>\n",
              "      <td>0.000217</td>\n",
              "      <td>0.0</td>\n",
              "      <td>0.0</td>\n",
              "      <td>0.0</td>\n",
              "      <td>0.0</td>\n",
              "      <td>0.000000</td>\n",
              "      <td>0.0</td>\n",
              "      <td>0.0</td>\n",
              "      <td>0.000000</td>\n",
              "      <td>0.000000</td>\n",
              "      <td>0.0</td>\n",
              "      <td>0.0</td>\n",
              "      <td>0.0</td>\n",
              "      <td>0.0</td>\n",
              "      <td>0.0</td>\n",
              "      <td>0.0</td>\n",
              "      <td>0.017430</td>\n",
              "      <td>0.000000</td>\n",
              "      <td>0.012450</td>\n",
              "      <td>0.000000</td>\n",
              "      <td>0.0</td>\n",
              "      <td>...</td>\n",
              "      <td>0.0</td>\n",
              "      <td>0.0</td>\n",
              "      <td>0.0</td>\n",
              "      <td>0.0</td>\n",
              "      <td>0.000433</td>\n",
              "      <td>0.0</td>\n",
              "      <td>0.0</td>\n",
              "      <td>0.000974</td>\n",
              "      <td>0.001083</td>\n",
              "      <td>0.0</td>\n",
              "      <td>0.0</td>\n",
              "      <td>0.0</td>\n",
              "      <td>0.0</td>\n",
              "      <td>0.0</td>\n",
              "      <td>0.012559</td>\n",
              "      <td>0.000000</td>\n",
              "      <td>0.005088</td>\n",
              "      <td>0.0</td>\n",
              "      <td>0.0</td>\n",
              "      <td>0.0</td>\n",
              "      <td>0.013100</td>\n",
              "      <td>0.0</td>\n",
              "      <td>0.0</td>\n",
              "      <td>0.000000</td>\n",
              "      <td>0.000325</td>\n",
              "      <td>0.000325</td>\n",
              "      <td>0.0</td>\n",
              "      <td>0.0</td>\n",
              "      <td>0.000325</td>\n",
              "      <td>0.000325</td>\n",
              "      <td>0.0</td>\n",
              "      <td>0.0</td>\n",
              "      <td>0.000650</td>\n",
              "      <td>0.0</td>\n",
              "      <td>0.000650</td>\n",
              "      <td>0.0</td>\n",
              "      <td>0.0</td>\n",
              "      <td>0.000433</td>\n",
              "      <td>0.493140</td>\n",
              "      <td>0.002274</td>\n",
              "    </tr>\n",
              "    <tr>\n",
              "      <th>2</th>\n",
              "      <td>0.000433</td>\n",
              "      <td>0.000000</td>\n",
              "      <td>0.0</td>\n",
              "      <td>0.0</td>\n",
              "      <td>0.0</td>\n",
              "      <td>0.000000</td>\n",
              "      <td>0.0</td>\n",
              "      <td>0.000000</td>\n",
              "      <td>0.0</td>\n",
              "      <td>0.0</td>\n",
              "      <td>0.0</td>\n",
              "      <td>0.0</td>\n",
              "      <td>0.0</td>\n",
              "      <td>0.0</td>\n",
              "      <td>0.0</td>\n",
              "      <td>0.0</td>\n",
              "      <td>0.0</td>\n",
              "      <td>0.0</td>\n",
              "      <td>0.0</td>\n",
              "      <td>0.000000</td>\n",
              "      <td>0.0</td>\n",
              "      <td>0.0</td>\n",
              "      <td>0.0</td>\n",
              "      <td>0.0</td>\n",
              "      <td>0.017549</td>\n",
              "      <td>0.0</td>\n",
              "      <td>0.0</td>\n",
              "      <td>0.012566</td>\n",
              "      <td>0.000000</td>\n",
              "      <td>0.0</td>\n",
              "      <td>0.0</td>\n",
              "      <td>0.0</td>\n",
              "      <td>0.0</td>\n",
              "      <td>0.0</td>\n",
              "      <td>0.0</td>\n",
              "      <td>0.000000</td>\n",
              "      <td>0.000000</td>\n",
              "      <td>0.000000</td>\n",
              "      <td>0.000000</td>\n",
              "      <td>0.0</td>\n",
              "      <td>...</td>\n",
              "      <td>0.0</td>\n",
              "      <td>0.0</td>\n",
              "      <td>0.0</td>\n",
              "      <td>0.0</td>\n",
              "      <td>0.000433</td>\n",
              "      <td>0.0</td>\n",
              "      <td>0.0</td>\n",
              "      <td>0.000650</td>\n",
              "      <td>0.001083</td>\n",
              "      <td>0.0</td>\n",
              "      <td>0.0</td>\n",
              "      <td>0.0</td>\n",
              "      <td>0.0</td>\n",
              "      <td>0.0</td>\n",
              "      <td>0.012566</td>\n",
              "      <td>0.000108</td>\n",
              "      <td>0.005091</td>\n",
              "      <td>0.0</td>\n",
              "      <td>0.0</td>\n",
              "      <td>0.0</td>\n",
              "      <td>0.012782</td>\n",
              "      <td>0.0</td>\n",
              "      <td>0.0</td>\n",
              "      <td>0.000000</td>\n",
              "      <td>0.000217</td>\n",
              "      <td>0.000325</td>\n",
              "      <td>0.0</td>\n",
              "      <td>0.0</td>\n",
              "      <td>0.000325</td>\n",
              "      <td>0.000325</td>\n",
              "      <td>0.0</td>\n",
              "      <td>0.0</td>\n",
              "      <td>0.000650</td>\n",
              "      <td>0.0</td>\n",
              "      <td>0.000650</td>\n",
              "      <td>0.0</td>\n",
              "      <td>0.0</td>\n",
              "      <td>0.000433</td>\n",
              "      <td>0.493527</td>\n",
              "      <td>0.002600</td>\n",
              "    </tr>\n",
              "    <tr>\n",
              "      <th>3</th>\n",
              "      <td>0.000325</td>\n",
              "      <td>0.000108</td>\n",
              "      <td>0.0</td>\n",
              "      <td>0.0</td>\n",
              "      <td>0.0</td>\n",
              "      <td>0.000217</td>\n",
              "      <td>0.0</td>\n",
              "      <td>0.000108</td>\n",
              "      <td>0.0</td>\n",
              "      <td>0.0</td>\n",
              "      <td>0.0</td>\n",
              "      <td>0.0</td>\n",
              "      <td>0.0</td>\n",
              "      <td>0.0</td>\n",
              "      <td>0.0</td>\n",
              "      <td>0.0</td>\n",
              "      <td>0.0</td>\n",
              "      <td>0.0</td>\n",
              "      <td>0.0</td>\n",
              "      <td>0.000000</td>\n",
              "      <td>0.0</td>\n",
              "      <td>0.0</td>\n",
              "      <td>0.0</td>\n",
              "      <td>0.0</td>\n",
              "      <td>0.000000</td>\n",
              "      <td>0.0</td>\n",
              "      <td>0.0</td>\n",
              "      <td>0.000000</td>\n",
              "      <td>0.000000</td>\n",
              "      <td>0.0</td>\n",
              "      <td>0.0</td>\n",
              "      <td>0.0</td>\n",
              "      <td>0.0</td>\n",
              "      <td>0.0</td>\n",
              "      <td>0.0</td>\n",
              "      <td>0.016792</td>\n",
              "      <td>0.000000</td>\n",
              "      <td>0.011483</td>\n",
              "      <td>0.000000</td>\n",
              "      <td>0.0</td>\n",
              "      <td>...</td>\n",
              "      <td>0.0</td>\n",
              "      <td>0.0</td>\n",
              "      <td>0.0</td>\n",
              "      <td>0.0</td>\n",
              "      <td>0.000433</td>\n",
              "      <td>0.0</td>\n",
              "      <td>0.0</td>\n",
              "      <td>0.000650</td>\n",
              "      <td>0.001083</td>\n",
              "      <td>0.0</td>\n",
              "      <td>0.0</td>\n",
              "      <td>0.0</td>\n",
              "      <td>0.0</td>\n",
              "      <td>0.0</td>\n",
              "      <td>0.012567</td>\n",
              "      <td>0.000108</td>\n",
              "      <td>0.004008</td>\n",
              "      <td>0.0</td>\n",
              "      <td>0.0</td>\n",
              "      <td>0.0</td>\n",
              "      <td>0.013650</td>\n",
              "      <td>0.0</td>\n",
              "      <td>0.0</td>\n",
              "      <td>0.000000</td>\n",
              "      <td>0.000217</td>\n",
              "      <td>0.000325</td>\n",
              "      <td>0.0</td>\n",
              "      <td>0.0</td>\n",
              "      <td>0.000325</td>\n",
              "      <td>0.000325</td>\n",
              "      <td>0.0</td>\n",
              "      <td>0.0</td>\n",
              "      <td>0.000650</td>\n",
              "      <td>0.0</td>\n",
              "      <td>0.000650</td>\n",
              "      <td>0.0</td>\n",
              "      <td>0.0</td>\n",
              "      <td>0.000217</td>\n",
              "      <td>0.494656</td>\n",
              "      <td>0.001950</td>\n",
              "    </tr>\n",
              "    <tr>\n",
              "      <th>4</th>\n",
              "      <td>0.000108</td>\n",
              "      <td>0.000000</td>\n",
              "      <td>0.0</td>\n",
              "      <td>0.0</td>\n",
              "      <td>0.0</td>\n",
              "      <td>0.000000</td>\n",
              "      <td>0.0</td>\n",
              "      <td>0.000000</td>\n",
              "      <td>0.0</td>\n",
              "      <td>0.0</td>\n",
              "      <td>0.0</td>\n",
              "      <td>0.0</td>\n",
              "      <td>0.0</td>\n",
              "      <td>0.0</td>\n",
              "      <td>0.0</td>\n",
              "      <td>0.0</td>\n",
              "      <td>0.0</td>\n",
              "      <td>0.0</td>\n",
              "      <td>0.0</td>\n",
              "      <td>0.000324</td>\n",
              "      <td>0.0</td>\n",
              "      <td>0.0</td>\n",
              "      <td>0.0</td>\n",
              "      <td>0.0</td>\n",
              "      <td>0.000000</td>\n",
              "      <td>0.0</td>\n",
              "      <td>0.0</td>\n",
              "      <td>0.000000</td>\n",
              "      <td>0.000108</td>\n",
              "      <td>0.0</td>\n",
              "      <td>0.0</td>\n",
              "      <td>0.0</td>\n",
              "      <td>0.0</td>\n",
              "      <td>0.0</td>\n",
              "      <td>0.0</td>\n",
              "      <td>0.000000</td>\n",
              "      <td>0.017078</td>\n",
              "      <td>0.000000</td>\n",
              "      <td>0.012538</td>\n",
              "      <td>0.0</td>\n",
              "      <td>...</td>\n",
              "      <td>0.0</td>\n",
              "      <td>0.0</td>\n",
              "      <td>0.0</td>\n",
              "      <td>0.0</td>\n",
              "      <td>0.000216</td>\n",
              "      <td>0.0</td>\n",
              "      <td>0.0</td>\n",
              "      <td>0.000865</td>\n",
              "      <td>0.001081</td>\n",
              "      <td>0.0</td>\n",
              "      <td>0.0</td>\n",
              "      <td>0.0</td>\n",
              "      <td>0.0</td>\n",
              "      <td>0.0</td>\n",
              "      <td>0.012106</td>\n",
              "      <td>0.000000</td>\n",
              "      <td>0.006701</td>\n",
              "      <td>0.0</td>\n",
              "      <td>0.0</td>\n",
              "      <td>0.0</td>\n",
              "      <td>0.014267</td>\n",
              "      <td>0.0</td>\n",
              "      <td>0.0</td>\n",
              "      <td>0.000216</td>\n",
              "      <td>0.000324</td>\n",
              "      <td>0.000324</td>\n",
              "      <td>0.0</td>\n",
              "      <td>0.0</td>\n",
              "      <td>0.000324</td>\n",
              "      <td>0.000000</td>\n",
              "      <td>0.0</td>\n",
              "      <td>0.0</td>\n",
              "      <td>0.000649</td>\n",
              "      <td>0.0</td>\n",
              "      <td>0.000649</td>\n",
              "      <td>0.0</td>\n",
              "      <td>0.0</td>\n",
              "      <td>0.000216</td>\n",
              "      <td>0.490930</td>\n",
              "      <td>0.002054</td>\n",
              "    </tr>\n",
              "  </tbody>\n",
              "</table>\n",
              "<p>5 rows × 236 columns</p>\n",
              "</div>"
            ],
            "text/plain": [
              "        0         1    2    3    4    ...  231  232       233       234       235\n",
              "0  0.000433  0.000000  0.0  0.0  0.0  ...  0.0  0.0  0.000108  0.491056  0.002492\n",
              "1  0.000108  0.000000  0.0  0.0  0.0  ...  0.0  0.0  0.000433  0.493140  0.002274\n",
              "2  0.000433  0.000000  0.0  0.0  0.0  ...  0.0  0.0  0.000433  0.493527  0.002600\n",
              "3  0.000325  0.000108  0.0  0.0  0.0  ...  0.0  0.0  0.000217  0.494656  0.001950\n",
              "4  0.000108  0.000000  0.0  0.0  0.0  ...  0.0  0.0  0.000216  0.490930  0.002054\n",
              "\n",
              "[5 rows x 236 columns]"
            ]
          },
          "metadata": {
            "tags": []
          },
          "execution_count": 39
        }
      ]
    },
    {
      "cell_type": "markdown",
      "metadata": {
        "id": "pMHw0UpGSg7K"
      },
      "source": [
        "  Revisión de datos nulos e imputación en caso de True"
      ]
    },
    {
      "cell_type": "code",
      "metadata": {
        "colab": {
          "base_uri": "https://localhost:8080/"
        },
        "id": "Bn61fl8FSLV3",
        "outputId": "6a50046e-923c-440e-aa1d-b4310d1334ae"
      },
      "source": [
        " np.any(np.isinf(Xlbp))\n",
        "#pd.DataFrame(ytest).isna().sum().sum()"
      ],
      "execution_count": null,
      "outputs": [
        {
          "output_type": "execute_result",
          "data": {
            "text/plain": [
              "False"
            ]
          },
          "metadata": {
            "tags": []
          },
          "execution_count": 40
        }
      ]
    },
    {
      "cell_type": "markdown",
      "metadata": {
        "id": "gw7QShPjmHlj"
      },
      "source": [
        "Clasificación LBP -  236 features"
      ]
    },
    {
      "cell_type": "code",
      "metadata": {
        "colab": {
          "base_uri": "https://localhost:8080/"
        },
        "id": "o_nFfZRFEsr5",
        "outputId": "b5900f2a-8499-4b10-f1ca-2f35239be66d"
      },
      "source": [
        "# Paso 1:Se carga en la matriz `X` las características de LBP extraídas anteriormente que van a ser usadas por el clasificador\n",
        "\n",
        "# Paso 2: separar training/testing\n",
        "ntrain = 630 # número de muestras por clase para el entrenamiento\n",
        "Xtrain,ytrain,Xtest,ytest = SplitTrainTest(Xlbp,y,ntrain)\n",
        "\n",
        "# Paso 3: clasificar y evaluar desempeño\n",
        "acc,Clbp = ClassifierKNN(Xtrain,ytrain,Xtest,ytest, norm = False, distance = 'canberra')"
      ],
      "execution_count": null,
      "outputs": [
        {
          "output_type": "stream",
          "text": [
            "Entrenando con 1260 muestras y probando con 140 muestras\n",
            "Los datos tienen 236 features\n",
            "Testing Accuracy = 90.0%\n",
            "Matriz de Confusión:\n",
            "[[62  8]\n",
            " [ 6 64]]\n"
          ],
          "name": "stdout"
        }
      ]
    },
    {
      "cell_type": "code",
      "metadata": {
        "colab": {
          "base_uri": "https://localhost:8080/",
          "height": 311
        },
        "id": "e1QPT1mb49M4",
        "outputId": "05204feb-c2e3-40b3-c8e3-127c302ebcc3"
      },
      "source": [
        "    sns.heatmap(Clbp, annot=True, cbar=None, cmap=\"BuPu\")\n",
        "    plt.title(\"Confusion Matrix HoG\"), plt.tight_layout()\n",
        "    plt.ylabel(\"True Class\"), plt.xlabel(\"Predicted Class\")\n",
        "    plt.show()"
      ],
      "execution_count": null,
      "outputs": [
        {
          "output_type": "display_data",
          "data": {
            "image/png": "[encoded data removed]",
            "text/plain": [
              "<Figure size 432x288 with 1 Axes>"
            ]
          },
          "metadata": {
            "tags": [],
            "needs_background": "light"
          }
        }
      ]
    },
    {
      "cell_type": "markdown",
      "metadata": {
        "id": "PXKdb2yomkPG"
      },
      "source": [
        "* Con LBP se obtuvo un accuracy en el conjunto de test de 90%."
      ]
    },
    {
      "cell_type": "markdown",
      "metadata": {
        "id": "X3PfgZO7llYl"
      },
      "source": [
        "Guarda la matriz de LBP"
      ]
    },
    {
      "cell_type": "code",
      "metadata": {
        "id": "FmS3w-IGv_kZ"
      },
      "source": [
        "#np.save('Xlbp.npy', Xlbp) ## Correr solo si es necesario sobrescribir la matriz"
      ],
      "execution_count": null,
      "outputs": []
    },
    {
      "cell_type": "markdown",
      "metadata": {
        "id": "rGIY3fCMH-mX"
      },
      "source": [
        "## Clasificación usando Haralick"
      ]
    },
    {
      "cell_type": "markdown",
      "metadata": {
        "id": "m5X-ivlpW66U"
      },
      "source": [
        "Se transforma la matriz a dataframe para verificar nulos"
      ]
    },
    {
      "cell_type": "code",
      "metadata": {
        "colab": {
          "base_uri": "https://localhost:8080/",
          "height": 368
        },
        "id": "g4rN_24bW0x3",
        "outputId": "4f0fa50d-54a9-44e0-e192-1b1db726a86d"
      },
      "source": [
        "df_faces_har = pd.DataFrame(Xhar)\n",
        "df_faces_har.head(10)"
      ],
      "execution_count": null,
      "outputs": [
        {
          "output_type": "execute_result",
          "data": {
            "text/html": [
              "<div>\n",
              "<style scoped>\n",
              "    .dataframe tbody tr th:only-of-type {\n",
              "        vertical-align: middle;\n",
              "    }\n",
              "\n",
              "    .dataframe tbody tr th {\n",
              "        vertical-align: top;\n",
              "    }\n",
              "\n",
              "    .dataframe thead th {\n",
              "        text-align: right;\n",
              "    }\n",
              "</style>\n",
              "<table border=\"1\" class=\"dataframe\">\n",
              "  <thead>\n",
              "    <tr style=\"text-align: right;\">\n",
              "      <th></th>\n",
              "      <th>0</th>\n",
              "      <th>1</th>\n",
              "      <th>2</th>\n",
              "      <th>3</th>\n",
              "      <th>4</th>\n",
              "      <th>5</th>\n",
              "      <th>6</th>\n",
              "      <th>7</th>\n",
              "      <th>8</th>\n",
              "      <th>9</th>\n",
              "      <th>10</th>\n",
              "      <th>11</th>\n",
              "      <th>12</th>\n",
              "      <th>13</th>\n",
              "      <th>14</th>\n",
              "      <th>15</th>\n",
              "      <th>16</th>\n",
              "      <th>17</th>\n",
              "      <th>18</th>\n",
              "      <th>19</th>\n",
              "      <th>20</th>\n",
              "      <th>21</th>\n",
              "      <th>22</th>\n",
              "      <th>23</th>\n",
              "      <th>24</th>\n",
              "      <th>25</th>\n",
              "      <th>26</th>\n",
              "      <th>27</th>\n",
              "    </tr>\n",
              "  </thead>\n",
              "  <tbody>\n",
              "    <tr>\n",
              "      <th>0</th>\n",
              "      <td>0.904530</td>\n",
              "      <td>0.739369</td>\n",
              "      <td>20.121840</td>\n",
              "      <td>0.739369</td>\n",
              "      <td>0.985213</td>\n",
              "      <td>2.589427</td>\n",
              "      <td>2.363473</td>\n",
              "      <td>0.225954</td>\n",
              "      <td>0.236413</td>\n",
              "      <td>0.120767</td>\n",
              "      <td>0.076527</td>\n",
              "      <td>-0.643069</td>\n",
              "      <td>0.200740</td>\n",
              "      <td>0.986701</td>\n",
              "      <td>0.912352</td>\n",
              "      <td>1.202121</td>\n",
              "      <td>22.784593</td>\n",
              "      <td>1.202121</td>\n",
              "      <td>0.994778</td>\n",
              "      <td>2.606046</td>\n",
              "      <td>2.400276</td>\n",
              "      <td>0.241888</td>\n",
              "      <td>0.258893</td>\n",
              "      <td>0.123486</td>\n",
              "      <td>0.115192</td>\n",
              "      <td>0.840348</td>\n",
              "      <td>0.257866</td>\n",
              "      <td>0.994865</td>\n",
              "    </tr>\n",
              "    <tr>\n",
              "      <th>1</th>\n",
              "      <td>0.926858</td>\n",
              "      <td>0.700591</td>\n",
              "      <td>13.465338</td>\n",
              "      <td>0.700591</td>\n",
              "      <td>0.985988</td>\n",
              "      <td>2.426559</td>\n",
              "      <td>2.242738</td>\n",
              "      <td>0.183822</td>\n",
              "      <td>0.193732</td>\n",
              "      <td>0.120982</td>\n",
              "      <td>0.073716</td>\n",
              "      <td>-0.576910</td>\n",
              "      <td>0.145453</td>\n",
              "      <td>0.987748</td>\n",
              "      <td>0.933613</td>\n",
              "      <td>1.049594</td>\n",
              "      <td>15.693415</td>\n",
              "      <td>1.049594</td>\n",
              "      <td>0.994261</td>\n",
              "      <td>2.437638</td>\n",
              "      <td>2.272971</td>\n",
              "      <td>0.195328</td>\n",
              "      <td>0.210175</td>\n",
              "      <td>0.123337</td>\n",
              "      <td>0.103516</td>\n",
              "      <td>0.786966</td>\n",
              "      <td>0.196619</td>\n",
              "      <td>0.994439</td>\n",
              "    </tr>\n",
              "    <tr>\n",
              "      <th>2</th>\n",
              "      <td>0.922505</td>\n",
              "      <td>0.740662</td>\n",
              "      <td>14.382880</td>\n",
              "      <td>0.740662</td>\n",
              "      <td>0.985187</td>\n",
              "      <td>2.453150</td>\n",
              "      <td>2.260344</td>\n",
              "      <td>0.192806</td>\n",
              "      <td>0.203283</td>\n",
              "      <td>0.120756</td>\n",
              "      <td>0.077216</td>\n",
              "      <td>-0.575008</td>\n",
              "      <td>0.151375</td>\n",
              "      <td>0.987020</td>\n",
              "      <td>0.929124</td>\n",
              "      <td>1.106468</td>\n",
              "      <td>16.620818</td>\n",
              "      <td>1.106468</td>\n",
              "      <td>0.993382</td>\n",
              "      <td>2.464599</td>\n",
              "      <td>2.290245</td>\n",
              "      <td>0.204869</td>\n",
              "      <td>0.220521</td>\n",
              "      <td>0.123084</td>\n",
              "      <td>0.107921</td>\n",
              "      <td>0.770764</td>\n",
              "      <td>0.201099</td>\n",
              "      <td>0.993617</td>\n",
              "    </tr>\n",
              "    <tr>\n",
              "      <th>3</th>\n",
              "      <td>0.919739</td>\n",
              "      <td>0.738723</td>\n",
              "      <td>15.256149</td>\n",
              "      <td>0.738723</td>\n",
              "      <td>0.985226</td>\n",
              "      <td>2.474108</td>\n",
              "      <td>2.275531</td>\n",
              "      <td>0.198578</td>\n",
              "      <td>0.209028</td>\n",
              "      <td>0.120764</td>\n",
              "      <td>0.077426</td>\n",
              "      <td>-0.585254</td>\n",
              "      <td>0.158924</td>\n",
              "      <td>0.986890</td>\n",
              "      <td>0.924898</td>\n",
              "      <td>1.075446</td>\n",
              "      <td>17.010378</td>\n",
              "      <td>1.075446</td>\n",
              "      <td>0.991624</td>\n",
              "      <td>2.483064</td>\n",
              "      <td>2.298571</td>\n",
              "      <td>0.209162</td>\n",
              "      <td>0.224376</td>\n",
              "      <td>0.122579</td>\n",
              "      <td>0.105526</td>\n",
              "      <td>0.731119</td>\n",
              "      <td>0.197027</td>\n",
              "      <td>0.992022</td>\n",
              "    </tr>\n",
              "    <tr>\n",
              "      <th>4</th>\n",
              "      <td>0.934299</td>\n",
              "      <td>0.608170</td>\n",
              "      <td>12.172254</td>\n",
              "      <td>0.608170</td>\n",
              "      <td>0.987837</td>\n",
              "      <td>2.384919</td>\n",
              "      <td>2.217079</td>\n",
              "      <td>0.167840</td>\n",
              "      <td>0.176443</td>\n",
              "      <td>0.121506</td>\n",
              "      <td>0.065410</td>\n",
              "      <td>-0.594942</td>\n",
              "      <td>0.139126</td>\n",
              "      <td>0.989372</td>\n",
              "      <td>0.941842</td>\n",
              "      <td>0.941015</td>\n",
              "      <td>14.102476</td>\n",
              "      <td>0.941015</td>\n",
              "      <td>0.996019</td>\n",
              "      <td>2.405139</td>\n",
              "      <td>2.243490</td>\n",
              "      <td>0.175724</td>\n",
              "      <td>0.189035</td>\n",
              "      <td>0.123844</td>\n",
              "      <td>0.094926</td>\n",
              "      <td>0.828226</td>\n",
              "      <td>0.189874</td>\n",
              "      <td>0.996097</td>\n",
              "    </tr>\n",
              "    <tr>\n",
              "      <th>5</th>\n",
              "      <td>0.934189</td>\n",
              "      <td>0.581671</td>\n",
              "      <td>12.473155</td>\n",
              "      <td>0.581671</td>\n",
              "      <td>0.988367</td>\n",
              "      <td>2.389628</td>\n",
              "      <td>2.221803</td>\n",
              "      <td>0.167824</td>\n",
              "      <td>0.176052</td>\n",
              "      <td>0.121657</td>\n",
              "      <td>0.062999</td>\n",
              "      <td>-0.612660</td>\n",
              "      <td>0.144037</td>\n",
              "      <td>0.989746</td>\n",
              "      <td>0.940959</td>\n",
              "      <td>0.922919</td>\n",
              "      <td>14.503773</td>\n",
              "      <td>0.922919</td>\n",
              "      <td>0.996277</td>\n",
              "      <td>2.398860</td>\n",
              "      <td>2.250769</td>\n",
              "      <td>0.181553</td>\n",
              "      <td>0.194609</td>\n",
              "      <td>0.123919</td>\n",
              "      <td>0.093470</td>\n",
              "      <td>0.839721</td>\n",
              "      <td>0.195148</td>\n",
              "      <td>0.996338</td>\n",
              "    </tr>\n",
              "    <tr>\n",
              "      <th>6</th>\n",
              "      <td>0.922902</td>\n",
              "      <td>0.611401</td>\n",
              "      <td>15.610741</td>\n",
              "      <td>0.611401</td>\n",
              "      <td>0.987772</td>\n",
              "      <td>2.469400</td>\n",
              "      <td>2.279003</td>\n",
              "      <td>0.190396</td>\n",
              "      <td>0.199045</td>\n",
              "      <td>0.121488</td>\n",
              "      <td>0.065721</td>\n",
              "      <td>-0.642986</td>\n",
              "      <td>0.171607</td>\n",
              "      <td>0.988993</td>\n",
              "      <td>0.928953</td>\n",
              "      <td>0.974623</td>\n",
              "      <td>17.830107</td>\n",
              "      <td>0.974623</td>\n",
              "      <td>0.995553</td>\n",
              "      <td>2.482326</td>\n",
              "      <td>2.311216</td>\n",
              "      <td>0.211337</td>\n",
              "      <td>0.225124</td>\n",
              "      <td>0.123710</td>\n",
              "      <td>0.097612</td>\n",
              "      <td>0.837462</td>\n",
              "      <td>0.222022</td>\n",
              "      <td>0.995629</td>\n",
              "    </tr>\n",
              "    <tr>\n",
              "      <th>7</th>\n",
              "      <td>0.912052</td>\n",
              "      <td>0.769099</td>\n",
              "      <td>17.368342</td>\n",
              "      <td>0.769099</td>\n",
              "      <td>0.984618</td>\n",
              "      <td>2.527751</td>\n",
              "      <td>2.315381</td>\n",
              "      <td>0.212370</td>\n",
              "      <td>0.223249</td>\n",
              "      <td>0.120600</td>\n",
              "      <td>0.078974</td>\n",
              "      <td>-0.606184</td>\n",
              "      <td>0.176580</td>\n",
              "      <td>0.986424</td>\n",
              "      <td>0.920902</td>\n",
              "      <td>1.196951</td>\n",
              "      <td>20.148671</td>\n",
              "      <td>1.196951</td>\n",
              "      <td>0.995088</td>\n",
              "      <td>2.543632</td>\n",
              "      <td>2.353080</td>\n",
              "      <td>0.224127</td>\n",
              "      <td>0.241059</td>\n",
              "      <td>0.123575</td>\n",
              "      <td>0.114803</td>\n",
              "      <td>0.836567</td>\n",
              "      <td>0.239049</td>\n",
              "      <td>0.995173</td>\n",
              "    </tr>\n",
              "    <tr>\n",
              "      <th>8</th>\n",
              "      <td>0.916176</td>\n",
              "      <td>0.764575</td>\n",
              "      <td>16.105157</td>\n",
              "      <td>0.764575</td>\n",
              "      <td>0.984709</td>\n",
              "      <td>2.497191</td>\n",
              "      <td>2.292260</td>\n",
              "      <td>0.204930</td>\n",
              "      <td>0.215746</td>\n",
              "      <td>0.120623</td>\n",
              "      <td>0.078953</td>\n",
              "      <td>-0.591084</td>\n",
              "      <td>0.165633</td>\n",
              "      <td>0.986532</td>\n",
              "      <td>0.924066</td>\n",
              "      <td>1.145246</td>\n",
              "      <td>18.656613</td>\n",
              "      <td>1.145246</td>\n",
              "      <td>0.994209</td>\n",
              "      <td>2.508916</td>\n",
              "      <td>2.326547</td>\n",
              "      <td>0.216287</td>\n",
              "      <td>0.232488</td>\n",
              "      <td>0.123322</td>\n",
              "      <td>0.110888</td>\n",
              "      <td>0.806008</td>\n",
              "      <td>0.222559</td>\n",
              "      <td>0.994357</td>\n",
              "    </tr>\n",
              "    <tr>\n",
              "      <th>9</th>\n",
              "      <td>0.911830</td>\n",
              "      <td>0.847301</td>\n",
              "      <td>16.605875</td>\n",
              "      <td>0.847301</td>\n",
              "      <td>0.983054</td>\n",
              "      <td>2.517688</td>\n",
              "      <td>2.303545</td>\n",
              "      <td>0.214143</td>\n",
              "      <td>0.226129</td>\n",
              "      <td>0.120156</td>\n",
              "      <td>0.086078</td>\n",
              "      <td>-0.567374</td>\n",
              "      <td>0.164265</td>\n",
              "      <td>0.985167</td>\n",
              "      <td>0.920049</td>\n",
              "      <td>1.209877</td>\n",
              "      <td>18.992270</td>\n",
              "      <td>1.209877</td>\n",
              "      <td>0.992451</td>\n",
              "      <td>2.536615</td>\n",
              "      <td>2.333592</td>\n",
              "      <td>0.223392</td>\n",
              "      <td>0.236464</td>\n",
              "      <td>0.122816</td>\n",
              "      <td>0.115774</td>\n",
              "      <td>0.765643</td>\n",
              "      <td>0.217451</td>\n",
              "      <td>0.992730</td>\n",
              "    </tr>\n",
              "  </tbody>\n",
              "</table>\n",
              "</div>"
            ],
            "text/plain": [
              "         0         1          2   ...        25        26        27\n",
              "0  0.904530  0.739369  20.121840  ...  0.840348  0.257866  0.994865\n",
              "1  0.926858  0.700591  13.465338  ...  0.786966  0.196619  0.994439\n",
              "2  0.922505  0.740662  14.382880  ...  0.770764  0.201099  0.993617\n",
              "3  0.919739  0.738723  15.256149  ...  0.731119  0.197027  0.992022\n",
              "4  0.934299  0.608170  12.172254  ...  0.828226  0.189874  0.996097\n",
              "5  0.934189  0.581671  12.473155  ...  0.839721  0.195148  0.996338\n",
              "6  0.922902  0.611401  15.610741  ...  0.837462  0.222022  0.995629\n",
              "7  0.912052  0.769099  17.368342  ...  0.836567  0.239049  0.995173\n",
              "8  0.916176  0.764575  16.105157  ...  0.806008  0.222559  0.994357\n",
              "9  0.911830  0.847301  16.605875  ...  0.765643  0.217451  0.992730\n",
              "\n",
              "[10 rows x 28 columns]"
            ]
          },
          "metadata": {
            "tags": []
          },
          "execution_count": 42
        }
      ]
    },
    {
      "cell_type": "markdown",
      "metadata": {
        "id": "7RkK83jPXGXH"
      },
      "source": [
        "Revisión de datos nulos e imputación en caso de True"
      ]
    },
    {
      "cell_type": "code",
      "metadata": {
        "colab": {
          "base_uri": "https://localhost:8080/"
        },
        "id": "3ln7pCdmW9-H",
        "outputId": "c8ae2fd4-502b-43f1-87c3-0a5c5128bb7f"
      },
      "source": [
        " np.any(np.isinf(df_faces_har))\n",
        "#df_faces_har = df_faces_har.fillna(method='ffill')"
      ],
      "execution_count": null,
      "outputs": [
        {
          "output_type": "execute_result",
          "data": {
            "text/plain": [
              "False"
            ]
          },
          "metadata": {
            "tags": []
          },
          "execution_count": 43
        }
      ]
    },
    {
      "cell_type": "markdown",
      "metadata": {
        "id": "qWpChj4amBLb"
      },
      "source": [
        "Clasificación Haralick - 28 features"
      ]
    },
    {
      "cell_type": "code",
      "metadata": {
        "colab": {
          "base_uri": "https://localhost:8080/"
        },
        "id": "WDZhAsx2lbqT",
        "outputId": "569c979f-d282-4855-c34c-ffa9c60ba035"
      },
      "source": [
        "np.isnan(Xtrain).sum()"
      ],
      "execution_count": null,
      "outputs": [
        {
          "output_type": "execute_result",
          "data": {
            "text/plain": [
              "0"
            ]
          },
          "metadata": {
            "tags": []
          },
          "execution_count": 44
        }
      ]
    },
    {
      "cell_type": "code",
      "metadata": {
        "colab": {
          "base_uri": "https://localhost:8080/"
        },
        "id": "rZGCb-ZNEsPZ",
        "outputId": "a6efa11e-6ff1-4c0c-c375-6869eeee73cf"
      },
      "source": [
        "# Paso 1: Se carga en la matriz `X` las características de Haralick extraídas anteriormente  que van a ser usadas por el clasificador\n",
        "\n",
        "# Paso 2: separar training/testing\n",
        "ntrain = 630 # número de muestras por clase para el entrenamiento\n",
        "Xtrain,ytrain,Xtest,ytest = SplitTrainTest(Xhar,y,ntrain)\n",
        "\n",
        "# Paso 3: clasificar y evaluar desempeño\n",
        "acc,Char = ClassifierKNN(Xtrain,ytrain,Xtest,ytest, norm = True, distance = 'manhattan')"
      ],
      "execution_count": null,
      "outputs": [
        {
          "output_type": "stream",
          "text": [
            "Entrenando con 1260 muestras y probando con 140 muestras\n",
            "Los datos tienen 28 features\n",
            "Testing Accuracy = 92.85714285714286%\n",
            "Matriz de Confusión:\n",
            "[[62  8]\n",
            " [ 2 68]]\n"
          ],
          "name": "stdout"
        }
      ]
    },
    {
      "cell_type": "code",
      "metadata": {
        "colab": {
          "base_uri": "https://localhost:8080/",
          "height": 311
        },
        "id": "br2bhrsn5FG7",
        "outputId": "e404e7aa-1e14-4ed2-e566-727b0e20386c"
      },
      "source": [
        "    sns.heatmap(Char, annot=True, cbar=None, cmap=\"BuPu\")\n",
        "    plt.title(\"Confusion Matrix HoG\"), plt.tight_layout()\n",
        "    plt.ylabel(\"True Class\"), plt.xlabel(\"Predicted Class\")\n",
        "    plt.show()"
      ],
      "execution_count": null,
      "outputs": [
        {
          "output_type": "display_data",
          "data": {
            "image/png": "[encoded data removed]",
            "text/plain": [
              "<Figure size 432x288 with 1 Axes>"
            ]
          },
          "metadata": {
            "tags": [],
            "needs_background": "light"
          }
        }
      ]
    },
    {
      "cell_type": "markdown",
      "metadata": {
        "id": "FiwmOmWlmSEl"
      },
      "source": [
        "* Con Haralick se obtuvo un accuracy en el conjunto de test de 92,9%."
      ]
    },
    {
      "cell_type": "markdown",
      "metadata": {
        "id": "FN0Vy0UumNGa"
      },
      "source": [
        "Guarda la matriz de Haralick"
      ]
    },
    {
      "cell_type": "code",
      "metadata": {
        "id": "JHl25gUfv6qL"
      },
      "source": [
        "#np.save('Xhar.npy', Xhar) ## Correr solo si es necesario sobrescribir la matriz"
      ],
      "execution_count": null,
      "outputs": []
    },
    {
      "cell_type": "markdown",
      "metadata": {
        "id": "n6cCOCI9IEM_"
      },
      "source": [
        "## Clasificación usando Gabor"
      ]
    },
    {
      "cell_type": "markdown",
      "metadata": {
        "id": "UUzdwxULd6ht"
      },
      "source": [
        "Se pasa la matriz a dataframe para verificar nulos"
      ]
    },
    {
      "cell_type": "code",
      "metadata": {
        "id": "mU4phwJCbY8T"
      },
      "source": [
        "df_faces_gab = pd.DataFrame(Xgab)\n",
        "df_faces_gab.isna().sum()"
      ],
      "execution_count": null,
      "outputs": []
    },
    {
      "cell_type": "code",
      "metadata": {
        "colab": {
          "base_uri": "https://localhost:8080/",
          "height": 305
        },
        "id": "oeu4BXYWpUa5",
        "outputId": "b25c1cd8-b286-4a1a-fae5-534475ae3e23"
      },
      "source": [
        "df_faces_gab.tail()"
      ],
      "execution_count": null,
      "outputs": [
        {
          "output_type": "execute_result",
          "data": {
            "text/html": [
              "<div>\n",
              "<style scoped>\n",
              "    .dataframe tbody tr th:only-of-type {\n",
              "        vertical-align: middle;\n",
              "    }\n",
              "\n",
              "    .dataframe tbody tr th {\n",
              "        vertical-align: top;\n",
              "    }\n",
              "\n",
              "    .dataframe thead th {\n",
              "        text-align: right;\n",
              "    }\n",
              "</style>\n",
              "<table border=\"1\" class=\"dataframe\">\n",
              "  <thead>\n",
              "    <tr style=\"text-align: right;\">\n",
              "      <th></th>\n",
              "      <th>0</th>\n",
              "      <th>1</th>\n",
              "      <th>2</th>\n",
              "      <th>3</th>\n",
              "      <th>4</th>\n",
              "      <th>5</th>\n",
              "      <th>6</th>\n",
              "      <th>7</th>\n",
              "      <th>8</th>\n",
              "      <th>9</th>\n",
              "      <th>10</th>\n",
              "      <th>11</th>\n",
              "      <th>12</th>\n",
              "      <th>13</th>\n",
              "      <th>14</th>\n",
              "      <th>15</th>\n",
              "      <th>16</th>\n",
              "      <th>17</th>\n",
              "      <th>18</th>\n",
              "      <th>19</th>\n",
              "      <th>20</th>\n",
              "      <th>21</th>\n",
              "      <th>22</th>\n",
              "      <th>23</th>\n",
              "      <th>24</th>\n",
              "      <th>25</th>\n",
              "      <th>26</th>\n",
              "      <th>27</th>\n",
              "      <th>28</th>\n",
              "      <th>29</th>\n",
              "      <th>30</th>\n",
              "      <th>31</th>\n",
              "      <th>32</th>\n",
              "      <th>33</th>\n",
              "      <th>34</th>\n",
              "      <th>35</th>\n",
              "      <th>36</th>\n",
              "      <th>37</th>\n",
              "      <th>38</th>\n",
              "      <th>39</th>\n",
              "      <th>40</th>\n",
              "      <th>41</th>\n",
              "      <th>42</th>\n",
              "      <th>43</th>\n",
              "      <th>44</th>\n",
              "      <th>45</th>\n",
              "      <th>46</th>\n",
              "      <th>47</th>\n",
              "      <th>48</th>\n",
              "      <th>49</th>\n",
              "      <th>50</th>\n",
              "      <th>51</th>\n",
              "      <th>52</th>\n",
              "      <th>53</th>\n",
              "      <th>54</th>\n",
              "      <th>55</th>\n",
              "      <th>56</th>\n",
              "      <th>57</th>\n",
              "      <th>58</th>\n",
              "      <th>59</th>\n",
              "      <th>60</th>\n",
              "      <th>61</th>\n",
              "      <th>62</th>\n",
              "      <th>63</th>\n",
              "      <th>64</th>\n",
              "      <th>65</th>\n",
              "      <th>66</th>\n",
              "    </tr>\n",
              "  </thead>\n",
              "  <tbody>\n",
              "    <tr>\n",
              "      <th>1395</th>\n",
              "      <td>1.279165e-07</td>\n",
              "      <td>7.100772e-08</td>\n",
              "      <td>7.745559e-08</td>\n",
              "      <td>7.099627e-08</td>\n",
              "      <td>1.280771e-07</td>\n",
              "      <td>7.099627e-08</td>\n",
              "      <td>7.745559e-08</td>\n",
              "      <td>7.100772e-08</td>\n",
              "      <td>1.162472e-07</td>\n",
              "      <td>2.746532e-09</td>\n",
              "      <td>1.437103e-07</td>\n",
              "      <td>2.626506e-09</td>\n",
              "      <td>1.165245e-07</td>\n",
              "      <td>2.626506e-09</td>\n",
              "      <td>1.437103e-07</td>\n",
              "      <td>2.746532e-09</td>\n",
              "      <td>1.819736e-07</td>\n",
              "      <td>6.869743e-10</td>\n",
              "      <td>7.603820e-09</td>\n",
              "      <td>5.329920e-10</td>\n",
              "      <td>1.825041e-07</td>\n",
              "      <td>5.329920e-10</td>\n",
              "      <td>7.603820e-09</td>\n",
              "      <td>6.869743e-10</td>\n",
              "      <td>3.411506e-09</td>\n",
              "      <td>1.701142e-10</td>\n",
              "      <td>1.555012e-10</td>\n",
              "      <td>1.772831e-10</td>\n",
              "      <td>3.814460e-09</td>\n",
              "      <td>1.772831e-10</td>\n",
              "      <td>1.556041e-10</td>\n",
              "      <td>1.701142e-10</td>\n",
              "      <td>1.976171e-09</td>\n",
              "      <td>2.782815e-10</td>\n",
              "      <td>2.196626e-10</td>\n",
              "      <td>2.949809e-10</td>\n",
              "      <td>2.657538e-09</td>\n",
              "      <td>2.966415e-10</td>\n",
              "      <td>3.137614e-10</td>\n",
              "      <td>2.799546e-10</td>\n",
              "      <td>3.592792e-09</td>\n",
              "      <td>8.528283e-10</td>\n",
              "      <td>1.378828e-09</td>\n",
              "      <td>9.352386e-10</td>\n",
              "      <td>4.851182e-09</td>\n",
              "      <td>8.919765e-10</td>\n",
              "      <td>2.134706e-09</td>\n",
              "      <td>8.047400e-10</td>\n",
              "      <td>9.306713e-09</td>\n",
              "      <td>3.676265e-09</td>\n",
              "      <td>8.834883e-09</td>\n",
              "      <td>3.873292e-09</td>\n",
              "      <td>1.138138e-08</td>\n",
              "      <td>3.686626e-09</td>\n",
              "      <td>9.841664e-09</td>\n",
              "      <td>3.505263e-09</td>\n",
              "      <td>2.060563e-08</td>\n",
              "      <td>2.794978e-08</td>\n",
              "      <td>2.485327e-08</td>\n",
              "      <td>2.812311e-08</td>\n",
              "      <td>2.360129e-08</td>\n",
              "      <td>2.799086e-08</td>\n",
              "      <td>2.591173e-08</td>\n",
              "      <td>2.782373e-08</td>\n",
              "      <td>1.825041e-07</td>\n",
              "      <td>1.555012e-10</td>\n",
              "      <td>1172.650755</td>\n",
              "    </tr>\n",
              "    <tr>\n",
              "      <th>1396</th>\n",
              "      <td>1.279165e-07</td>\n",
              "      <td>7.100772e-08</td>\n",
              "      <td>7.745559e-08</td>\n",
              "      <td>7.099627e-08</td>\n",
              "      <td>1.280771e-07</td>\n",
              "      <td>7.099627e-08</td>\n",
              "      <td>7.745559e-08</td>\n",
              "      <td>7.100772e-08</td>\n",
              "      <td>1.162472e-07</td>\n",
              "      <td>2.746532e-09</td>\n",
              "      <td>1.437103e-07</td>\n",
              "      <td>2.626506e-09</td>\n",
              "      <td>1.165245e-07</td>\n",
              "      <td>2.626506e-09</td>\n",
              "      <td>1.437103e-07</td>\n",
              "      <td>2.746532e-09</td>\n",
              "      <td>1.819736e-07</td>\n",
              "      <td>6.869743e-10</td>\n",
              "      <td>7.603820e-09</td>\n",
              "      <td>5.329920e-10</td>\n",
              "      <td>1.825041e-07</td>\n",
              "      <td>5.329920e-10</td>\n",
              "      <td>7.603820e-09</td>\n",
              "      <td>6.869743e-10</td>\n",
              "      <td>3.411506e-09</td>\n",
              "      <td>1.701142e-10</td>\n",
              "      <td>1.555012e-10</td>\n",
              "      <td>1.772831e-10</td>\n",
              "      <td>3.814460e-09</td>\n",
              "      <td>1.772831e-10</td>\n",
              "      <td>1.556041e-10</td>\n",
              "      <td>1.701142e-10</td>\n",
              "      <td>1.976171e-09</td>\n",
              "      <td>2.782815e-10</td>\n",
              "      <td>2.196626e-10</td>\n",
              "      <td>2.949809e-10</td>\n",
              "      <td>2.657538e-09</td>\n",
              "      <td>2.966415e-10</td>\n",
              "      <td>3.137614e-10</td>\n",
              "      <td>2.799546e-10</td>\n",
              "      <td>3.592792e-09</td>\n",
              "      <td>8.528283e-10</td>\n",
              "      <td>1.378828e-09</td>\n",
              "      <td>9.352386e-10</td>\n",
              "      <td>4.851182e-09</td>\n",
              "      <td>8.919765e-10</td>\n",
              "      <td>2.134706e-09</td>\n",
              "      <td>8.047400e-10</td>\n",
              "      <td>9.306713e-09</td>\n",
              "      <td>3.676265e-09</td>\n",
              "      <td>8.834883e-09</td>\n",
              "      <td>3.873292e-09</td>\n",
              "      <td>1.138138e-08</td>\n",
              "      <td>3.686626e-09</td>\n",
              "      <td>9.841664e-09</td>\n",
              "      <td>3.505263e-09</td>\n",
              "      <td>2.060563e-08</td>\n",
              "      <td>2.794978e-08</td>\n",
              "      <td>2.485327e-08</td>\n",
              "      <td>2.812311e-08</td>\n",
              "      <td>2.360129e-08</td>\n",
              "      <td>2.799086e-08</td>\n",
              "      <td>2.591173e-08</td>\n",
              "      <td>2.782373e-08</td>\n",
              "      <td>1.825041e-07</td>\n",
              "      <td>1.555012e-10</td>\n",
              "      <td>1172.650755</td>\n",
              "    </tr>\n",
              "    <tr>\n",
              "      <th>1397</th>\n",
              "      <td>1.279165e-07</td>\n",
              "      <td>7.100772e-08</td>\n",
              "      <td>7.745559e-08</td>\n",
              "      <td>7.099627e-08</td>\n",
              "      <td>1.280771e-07</td>\n",
              "      <td>7.099627e-08</td>\n",
              "      <td>7.745559e-08</td>\n",
              "      <td>7.100772e-08</td>\n",
              "      <td>1.162472e-07</td>\n",
              "      <td>2.746532e-09</td>\n",
              "      <td>1.437103e-07</td>\n",
              "      <td>2.626506e-09</td>\n",
              "      <td>1.165245e-07</td>\n",
              "      <td>2.626506e-09</td>\n",
              "      <td>1.437103e-07</td>\n",
              "      <td>2.746532e-09</td>\n",
              "      <td>1.819736e-07</td>\n",
              "      <td>6.869743e-10</td>\n",
              "      <td>7.603820e-09</td>\n",
              "      <td>5.329920e-10</td>\n",
              "      <td>1.825041e-07</td>\n",
              "      <td>5.329920e-10</td>\n",
              "      <td>7.603820e-09</td>\n",
              "      <td>6.869743e-10</td>\n",
              "      <td>3.411506e-09</td>\n",
              "      <td>1.701142e-10</td>\n",
              "      <td>1.555012e-10</td>\n",
              "      <td>1.772831e-10</td>\n",
              "      <td>3.814460e-09</td>\n",
              "      <td>1.772831e-10</td>\n",
              "      <td>1.556041e-10</td>\n",
              "      <td>1.701142e-10</td>\n",
              "      <td>1.976171e-09</td>\n",
              "      <td>2.782815e-10</td>\n",
              "      <td>2.196626e-10</td>\n",
              "      <td>2.949809e-10</td>\n",
              "      <td>2.657538e-09</td>\n",
              "      <td>2.966415e-10</td>\n",
              "      <td>3.137614e-10</td>\n",
              "      <td>2.799546e-10</td>\n",
              "      <td>3.592792e-09</td>\n",
              "      <td>8.528283e-10</td>\n",
              "      <td>1.378828e-09</td>\n",
              "      <td>9.352386e-10</td>\n",
              "      <td>4.851182e-09</td>\n",
              "      <td>8.919765e-10</td>\n",
              "      <td>2.134706e-09</td>\n",
              "      <td>8.047400e-10</td>\n",
              "      <td>9.306713e-09</td>\n",
              "      <td>3.676265e-09</td>\n",
              "      <td>8.834883e-09</td>\n",
              "      <td>3.873292e-09</td>\n",
              "      <td>1.138138e-08</td>\n",
              "      <td>3.686626e-09</td>\n",
              "      <td>9.841664e-09</td>\n",
              "      <td>3.505263e-09</td>\n",
              "      <td>2.060563e-08</td>\n",
              "      <td>2.794978e-08</td>\n",
              "      <td>2.485327e-08</td>\n",
              "      <td>2.812311e-08</td>\n",
              "      <td>2.360129e-08</td>\n",
              "      <td>2.799086e-08</td>\n",
              "      <td>2.591173e-08</td>\n",
              "      <td>2.782373e-08</td>\n",
              "      <td>1.825041e-07</td>\n",
              "      <td>1.555012e-10</td>\n",
              "      <td>1172.650755</td>\n",
              "    </tr>\n",
              "    <tr>\n",
              "      <th>1398</th>\n",
              "      <td>1.279165e-07</td>\n",
              "      <td>7.100772e-08</td>\n",
              "      <td>7.745559e-08</td>\n",
              "      <td>7.099627e-08</td>\n",
              "      <td>1.280771e-07</td>\n",
              "      <td>7.099627e-08</td>\n",
              "      <td>7.745559e-08</td>\n",
              "      <td>7.100772e-08</td>\n",
              "      <td>1.162472e-07</td>\n",
              "      <td>2.746532e-09</td>\n",
              "      <td>1.437103e-07</td>\n",
              "      <td>2.626506e-09</td>\n",
              "      <td>1.165245e-07</td>\n",
              "      <td>2.626506e-09</td>\n",
              "      <td>1.437103e-07</td>\n",
              "      <td>2.746532e-09</td>\n",
              "      <td>1.819736e-07</td>\n",
              "      <td>6.869743e-10</td>\n",
              "      <td>7.603820e-09</td>\n",
              "      <td>5.329920e-10</td>\n",
              "      <td>1.825041e-07</td>\n",
              "      <td>5.329920e-10</td>\n",
              "      <td>7.603820e-09</td>\n",
              "      <td>6.869743e-10</td>\n",
              "      <td>3.411506e-09</td>\n",
              "      <td>1.701142e-10</td>\n",
              "      <td>1.555012e-10</td>\n",
              "      <td>1.772831e-10</td>\n",
              "      <td>3.814460e-09</td>\n",
              "      <td>1.772831e-10</td>\n",
              "      <td>1.556041e-10</td>\n",
              "      <td>1.701142e-10</td>\n",
              "      <td>1.976171e-09</td>\n",
              "      <td>2.782815e-10</td>\n",
              "      <td>2.196626e-10</td>\n",
              "      <td>2.949809e-10</td>\n",
              "      <td>2.657538e-09</td>\n",
              "      <td>2.966415e-10</td>\n",
              "      <td>3.137614e-10</td>\n",
              "      <td>2.799546e-10</td>\n",
              "      <td>3.592792e-09</td>\n",
              "      <td>8.528283e-10</td>\n",
              "      <td>1.378828e-09</td>\n",
              "      <td>9.352386e-10</td>\n",
              "      <td>4.851182e-09</td>\n",
              "      <td>8.919765e-10</td>\n",
              "      <td>2.134706e-09</td>\n",
              "      <td>8.047400e-10</td>\n",
              "      <td>9.306713e-09</td>\n",
              "      <td>3.676265e-09</td>\n",
              "      <td>8.834883e-09</td>\n",
              "      <td>3.873292e-09</td>\n",
              "      <td>1.138138e-08</td>\n",
              "      <td>3.686626e-09</td>\n",
              "      <td>9.841664e-09</td>\n",
              "      <td>3.505263e-09</td>\n",
              "      <td>2.060563e-08</td>\n",
              "      <td>2.794978e-08</td>\n",
              "      <td>2.485327e-08</td>\n",
              "      <td>2.812311e-08</td>\n",
              "      <td>2.360129e-08</td>\n",
              "      <td>2.799086e-08</td>\n",
              "      <td>2.591173e-08</td>\n",
              "      <td>2.782373e-08</td>\n",
              "      <td>1.825041e-07</td>\n",
              "      <td>1.555012e-10</td>\n",
              "      <td>1172.650755</td>\n",
              "    </tr>\n",
              "    <tr>\n",
              "      <th>1399</th>\n",
              "      <td>1.279165e-07</td>\n",
              "      <td>7.100772e-08</td>\n",
              "      <td>7.745559e-08</td>\n",
              "      <td>7.099627e-08</td>\n",
              "      <td>1.280771e-07</td>\n",
              "      <td>7.099627e-08</td>\n",
              "      <td>7.745559e-08</td>\n",
              "      <td>7.100772e-08</td>\n",
              "      <td>1.162472e-07</td>\n",
              "      <td>2.746532e-09</td>\n",
              "      <td>1.437103e-07</td>\n",
              "      <td>2.626506e-09</td>\n",
              "      <td>1.165245e-07</td>\n",
              "      <td>2.626506e-09</td>\n",
              "      <td>1.437103e-07</td>\n",
              "      <td>2.746532e-09</td>\n",
              "      <td>1.819736e-07</td>\n",
              "      <td>6.869743e-10</td>\n",
              "      <td>7.603820e-09</td>\n",
              "      <td>5.329920e-10</td>\n",
              "      <td>1.825041e-07</td>\n",
              "      <td>5.329920e-10</td>\n",
              "      <td>7.603820e-09</td>\n",
              "      <td>6.869743e-10</td>\n",
              "      <td>3.411506e-09</td>\n",
              "      <td>1.701142e-10</td>\n",
              "      <td>1.555012e-10</td>\n",
              "      <td>1.772831e-10</td>\n",
              "      <td>3.814460e-09</td>\n",
              "      <td>1.772831e-10</td>\n",
              "      <td>1.556041e-10</td>\n",
              "      <td>1.701142e-10</td>\n",
              "      <td>1.976171e-09</td>\n",
              "      <td>2.782815e-10</td>\n",
              "      <td>2.196626e-10</td>\n",
              "      <td>2.949809e-10</td>\n",
              "      <td>2.657538e-09</td>\n",
              "      <td>2.966415e-10</td>\n",
              "      <td>3.137614e-10</td>\n",
              "      <td>2.799546e-10</td>\n",
              "      <td>3.592792e-09</td>\n",
              "      <td>8.528283e-10</td>\n",
              "      <td>1.378828e-09</td>\n",
              "      <td>9.352386e-10</td>\n",
              "      <td>4.851182e-09</td>\n",
              "      <td>8.919765e-10</td>\n",
              "      <td>2.134706e-09</td>\n",
              "      <td>8.047400e-10</td>\n",
              "      <td>9.306713e-09</td>\n",
              "      <td>3.676265e-09</td>\n",
              "      <td>8.834883e-09</td>\n",
              "      <td>3.873292e-09</td>\n",
              "      <td>1.138138e-08</td>\n",
              "      <td>3.686626e-09</td>\n",
              "      <td>9.841664e-09</td>\n",
              "      <td>3.505263e-09</td>\n",
              "      <td>2.060563e-08</td>\n",
              "      <td>2.794978e-08</td>\n",
              "      <td>2.485327e-08</td>\n",
              "      <td>2.812311e-08</td>\n",
              "      <td>2.360129e-08</td>\n",
              "      <td>2.799086e-08</td>\n",
              "      <td>2.591173e-08</td>\n",
              "      <td>2.782373e-08</td>\n",
              "      <td>1.825041e-07</td>\n",
              "      <td>1.555012e-10</td>\n",
              "      <td>1172.650755</td>\n",
              "    </tr>\n",
              "  </tbody>\n",
              "</table>\n",
              "</div>"
            ],
            "text/plain": [
              "                0             1   ...            65           66\n",
              "1395  1.279165e-07  7.100772e-08  ...  1.555012e-10  1172.650755\n",
              "1396  1.279165e-07  7.100772e-08  ...  1.555012e-10  1172.650755\n",
              "1397  1.279165e-07  7.100772e-08  ...  1.555012e-10  1172.650755\n",
              "1398  1.279165e-07  7.100772e-08  ...  1.555012e-10  1172.650755\n",
              "1399  1.279165e-07  7.100772e-08  ...  1.555012e-10  1172.650755\n",
              "\n",
              "[5 rows x 67 columns]"
            ]
          },
          "metadata": {
            "tags": []
          },
          "execution_count": 48
        }
      ]
    },
    {
      "cell_type": "code",
      "metadata": {
        "colab": {
          "base_uri": "https://localhost:8080/"
        },
        "id": "qTEkvxuibksK",
        "outputId": "596b418b-0fa9-457d-ae5c-8fbeec69ea24"
      },
      "source": [
        "pd.DataFrame(Xgab).isnull().any().sum()\n",
        "#df_faces_gab = df_faces_gab.fillna(method='ffill')"
      ],
      "execution_count": null,
      "outputs": [
        {
          "output_type": "execute_result",
          "data": {
            "text/plain": [
              "0"
            ]
          },
          "metadata": {
            "tags": []
          },
          "execution_count": 47
        }
      ]
    },
    {
      "cell_type": "markdown",
      "metadata": {
        "id": "zwOj2PoNpKGi"
      },
      "source": [
        "Clasificación Gabor - 67 features"
      ]
    },
    {
      "cell_type": "code",
      "metadata": {
        "colab": {
          "base_uri": "https://localhost:8080/"
        },
        "id": "Cezb9D6oIGPy",
        "outputId": "0251cfa1-4e13-48a2-ec1d-53f2f47838c9"
      },
      "source": [
        "# Paso 1: Xgab carga en la matriz `X` las características de Gabor extraídas anteriormente  que van a ser usadas por el clasificador\n",
        "\n",
        "# Paso 2: separar training/testing\n",
        "ntrain = 630 # número de muestras por clase para el entrenamiento\n",
        "Xtrain,ytrain,Xtest,ytest = SplitTrainTest(Xgab,y,ntrain)\n",
        "# Paso 3: clasificar y evaluar desempeño\n",
        "acc,Cgab = ClassifierKNN(Xtrain,ytrain,Xtest,ytest, norm = False, distance = 'chebyshev')"
      ],
      "execution_count": null,
      "outputs": [
        {
          "output_type": "stream",
          "text": [
            "Entrenando con 1260 muestras y probando con 140 muestras\n",
            "Los datos tienen 67 features\n",
            "Testing Accuracy = 92.14285714285714%\n",
            "Matriz de Confusión:\n",
            "[[59 11]\n",
            " [ 0 70]]\n"
          ],
          "name": "stdout"
        }
      ]
    },
    {
      "cell_type": "code",
      "metadata": {
        "colab": {
          "base_uri": "https://localhost:8080/",
          "height": 311
        },
        "id": "AZ9YQkwG5Jsl",
        "outputId": "d9a09d43-3ec9-4411-d7a2-2bfeb7f9a425"
      },
      "source": [
        "    sns.heatmap(Cgab, annot=True, cbar=None, cmap=\"BuPu\")\n",
        "    plt.title(\"Confusion Matrix HoG\"), plt.tight_layout()\n",
        "    plt.ylabel(\"True Class\"), plt.xlabel(\"Predicted Class\")\n",
        "    plt.show()"
      ],
      "execution_count": null,
      "outputs": [
        {
          "output_type": "display_data",
          "data": {
            "image/png": "[encoded data removed]",
            "text/plain": [
              "<Figure size 432x288 with 1 Axes>"
            ]
          },
          "metadata": {
            "tags": [],
            "needs_background": "light"
          }
        }
      ]
    },
    {
      "cell_type": "markdown",
      "metadata": {
        "id": "ONVSxmPOqdsP"
      },
      "source": [
        "* Con Gabor se obtuvo un accuracy en el conjunto de test de 92,14%."
      ]
    },
    {
      "cell_type": "markdown",
      "metadata": {
        "id": "82oq1oY_pYH7"
      },
      "source": [
        "Guarda la matriz de Gabor"
      ]
    },
    {
      "cell_type": "code",
      "metadata": {
        "id": "v7MqFEBUvtvp"
      },
      "source": [
        "#np.save('Xgab.npy', Xgab) ## Correr solo si es necesario sobrescribir la matriz"
      ],
      "execution_count": null,
      "outputs": []
    },
    {
      "cell_type": "markdown",
      "metadata": {
        "id": "W2yUSTR9LdCI"
      },
      "source": [
        "### Desempeño en la clasificación por cada descriptor por separado:\n",
        "\n",
        "| Descriptor | Accuracy  en el conjunto de test |\n",
        "|------------|:--------------------------------:|\n",
        "| HoG        | 82,9%                            |\n",
        "| LBP        | 90,0%                            |\n",
        "| Haralick   | 92,9%                            |\n",
        "| Gabor      | 92,1%                            |"
      ]
    },
    {
      "cell_type": "markdown",
      "metadata": {
        "id": "JaHWzSrr99WU"
      },
      "source": [
        "El mejor descriptor corresponde a Haralick con 92,9% de accuracy en el conjunto de test, seguido por Gabor con 92,1%."
      ]
    },
    {
      "cell_type": "markdown",
      "metadata": {
        "id": "YGLifp4Me1xU"
      },
      "source": [
        "## Clasificación usando las características LBP, Haralick y Gabor."
      ]
    },
    {
      "cell_type": "markdown",
      "metadata": {
        "id": "_yavNwEdOGAn"
      },
      "source": [
        "Carga de las matrices de numpy creadas anteriormente"
      ]
    },
    {
      "cell_type": "code",
      "metadata": {
        "id": "w_DiRMGRNBDN"
      },
      "source": [
        "#Xgab= np.load(\"Xgab.npy\")\n",
        "#Xhar= np.load(\"Xhar.npy\")\n",
        "#Xlbp= np.load(\"Xlbp.npy\")"
      ],
      "execution_count": null,
      "outputs": []
    },
    {
      "cell_type": "markdown",
      "metadata": {
        "id": "-QRlb46dfwjb"
      },
      "source": [
        "Concatenación de las 3 matrices anteriores: LBP, Haralick y Gabor"
      ]
    },
    {
      "cell_type": "code",
      "metadata": {
        "id": "EFZjkKyeIG89"
      },
      "source": [
        "X_Concat = np.concatenate((Xlbp,Xhar,Xgab),axis =1) #concatenación de LBP, Haralick y Gabor"
      ],
      "execution_count": null,
      "outputs": []
    },
    {
      "cell_type": "markdown",
      "metadata": {
        "id": "vFlHnRRIgMMr"
      },
      "source": [
        "Clasificación con la matriz concatenada - 331 features"
      ]
    },
    {
      "cell_type": "code",
      "metadata": {
        "colab": {
          "base_uri": "https://localhost:8080/"
        },
        "id": "TWASU_TagRx8",
        "outputId": "a333c44a-0bdd-43ec-a08b-c2d967768e4e"
      },
      "source": [
        "# Conjuntos de train y test\n",
        "ntrain = 630\n",
        "Xtrain_concat,ytrain,Xtest_concat,ytest = SplitTrainTest(X_Concat,y,ntrain)\n",
        "\n",
        "#Clasificación y evaluación\n",
        "acc,Call = ClassifierKNN(Xtrain_concat,ytrain,Xtest_concat,ytest, distance = \"manhattan\")"
      ],
      "execution_count": null,
      "outputs": [
        {
          "output_type": "stream",
          "text": [
            "Entrenando con 1260 muestras y probando con 140 muestras\n",
            "Los datos tienen 331 features\n",
            "Testing Accuracy = 90.71428571428571%\n",
            "Matriz de Confusión:\n",
            "[[58 12]\n",
            " [ 1 69]]\n"
          ],
          "name": "stdout"
        }
      ]
    },
    {
      "cell_type": "code",
      "metadata": {
        "colab": {
          "base_uri": "https://localhost:8080/",
          "height": 311
        },
        "id": "sPfcNws95rH1",
        "outputId": "3f18856f-985e-4385-9921-4c5709fc0f69"
      },
      "source": [
        "    sns.heatmap(Call, annot=True, cbar=None, cmap=\"BuPu\")\n",
        "    plt.title(\"Confusion Matrix X_Concat\"), plt.tight_layout()\n",
        "    plt.ylabel(\"True Class\"), plt.xlabel(\"Predicted Class\")\n",
        "    plt.show()"
      ],
      "execution_count": null,
      "outputs": [
        {
          "output_type": "display_data",
          "data": {
            "image/png": "[encoded data removed]",
            "text/plain": [
              "<Figure size 432x288 with 1 Axes>"
            ]
          },
          "metadata": {
            "tags": [],
            "needs_background": "light"
          }
        }
      ]
    },
    {
      "cell_type": "markdown",
      "metadata": {
        "id": "AwmdFMPggmxM"
      },
      "source": [
        "**Comentario**: no se mejoró el accuracy (90,7%) usando todas las características, el mejor desempeño individual hasta el momento es clasificando solo la matriz de Haralick, con 28 features, obteniendo un 92.9% de accuracy."
      ]
    },
    {
      "cell_type": "markdown",
      "metadata": {
        "id": "_3T2lUuXmthN"
      },
      "source": [
        "# II. SEGUNDA PARTE\n",
        "## RONDA DE EXPERIMENTOS PARA SELECCIÓN DE CARACTERÍSTICAS Y CLASIFICACIÓN"
      ]
    },
    {
      "cell_type": "markdown",
      "metadata": {
        "id": "N3BkWxfp-5jm"
      },
      "source": [
        "La estrategia consistirá en tomar la matriz concatenada  `X_Concat` resultante de la primera ronda de experimentos que incluye los features de las matrices `Xlbp,Xhar,Xgab `(LBP, Haralick y Gabor respectivamente). Luego se le realizará limpieza o **cleaning** con el módulo \"clean\" de la librería PyBalu, **normalización**  y por último **selección de atributos**. Para la selección de atributos se probará con *Sequential Forward Selection* (*SFS*) de las librerías *mlxtend* y *PyBalu* para ver si existen diferencias, también se iterará con *Partial least squares regression*  *(PLSR)* de la librería sklearn."
      ]
    },
    {
      "cell_type": "markdown",
      "metadata": {
        "id": "7g7rdrPKCvXc"
      },
      "source": [
        "## A. Extracción y selección de características\n",
        "\n",
        "Se tomará la matriz de características  `X_Concat` de la primera ronda de experimentos, correspondiente  a LBP, Haralick y Gabor."
      ]
    },
    {
      "cell_type": "markdown",
      "metadata": {
        "id": "VHbLtTrODlYl"
      },
      "source": [
        "\n",
        "\n",
        "### Cleaning de características"
      ]
    },
    {
      "cell_type": "code",
      "metadata": {
        "colab": {
          "base_uri": "https://localhost:8080/"
        },
        "id": "14h1MHz-t6yu",
        "outputId": "7cbbc0a1-e177-407a-cbee-45b092af0183"
      },
      "source": [
        "sclean_concat = clean(Xtrain_concat)            # índice de características seleccionadas\n",
        "Xtrain_clean_concat = Xtrain_concat[:,sclean_concat]   # nuevo training\n",
        "Xtest_clean_concat  = Xtest_concat[:,sclean_concat]    # nuevo testing\n",
        "\n",
        "#print(sclean)\n",
        "print(sclean_concat.shape)"
      ],
      "execution_count": null,
      "outputs": [
        {
          "output_type": "stream",
          "text": [
            "(260,)\n"
          ],
          "name": "stdout"
        }
      ]
    },
    {
      "cell_type": "markdown",
      "metadata": {
        "id": "e6ITzulIcpEc"
      },
      "source": [
        "Clasificación luego del cleaning"
      ]
    },
    {
      "cell_type": "code",
      "metadata": {
        "colab": {
          "base_uri": "https://localhost:8080/"
        },
        "id": "5oTsONH2c39T",
        "outputId": "45211dd3-ca94-470a-87ee-59735335e758"
      },
      "source": [
        "acc,C = ClassifierKNN( Xtrain_clean_concat,ytrain,Xtest_clean_concat,ytest)"
      ],
      "execution_count": null,
      "outputs": [
        {
          "output_type": "stream",
          "text": [
            "Entrenando con 1260 muestras y probando con 140 muestras\n",
            "Los datos tienen 260 features\n",
            "Testing Accuracy = 90.0%\n",
            "Matriz de Confusión:\n",
            "[[65  5]\n",
            " [ 9 61]]\n"
          ],
          "name": "stdout"
        }
      ]
    },
    {
      "cell_type": "markdown",
      "metadata": {
        "id": "UIkR96gMl_Vg"
      },
      "source": [
        "### Normalización"
      ]
    },
    {
      "cell_type": "code",
      "metadata": {
        "id": "-2Bdmv3jyT2S"
      },
      "source": [
        "Xtrain_norm, a, b = normalize(Xtrain_clean_concat)\n",
        "Xtest_norm        = Xtest_clean_concat * a + b"
      ],
      "execution_count": null,
      "outputs": []
    },
    {
      "cell_type": "markdown",
      "metadata": {
        "id": "hzocq4HCRe25"
      },
      "source": [
        "## B. Clasificación con datos normalizados y evaluación"
      ]
    },
    {
      "cell_type": "code",
      "metadata": {
        "colab": {
          "base_uri": "https://localhost:8080/"
        },
        "id": "LceUqYA0muDy",
        "outputId": "3d7962d1-3fdb-4b22-bdd7-6c90fb55bbd1"
      },
      "source": [
        "acc,Cnorm = ClassifierKNN(Xtrain_norm,ytrain,Xtest_norm,ytest, distance= \"manhattan\")"
      ],
      "execution_count": null,
      "outputs": [
        {
          "output_type": "stream",
          "text": [
            "Entrenando con 1260 muestras y probando con 140 muestras\n",
            "Los datos tienen 260 features\n",
            "Testing Accuracy = 90.0%\n",
            "Matriz de Confusión:\n",
            "[[64  6]\n",
            " [ 8 62]]\n"
          ],
          "name": "stdout"
        }
      ]
    },
    {
      "cell_type": "code",
      "metadata": {
        "colab": {
          "base_uri": "https://localhost:8080/",
          "height": 311
        },
        "id": "rrQKkAuyKvlY",
        "outputId": "487cf4c6-84d3-465f-9351-6f52fd60e380"
      },
      "source": [
        "    sns.heatmap(Cnorm, annot=True, cbar=None, cmap=\"BuPu\")\n",
        "    plt.title(\"Confusion Matrix limpia y normalizada\"), plt.tight_layout()\n",
        "    plt.ylabel(\"True Class\"), plt.xlabel(\"Predicted Class\")\n",
        "    plt.show()"
      ],
      "execution_count": null,
      "outputs": [
        {
          "output_type": "display_data",
          "data": {
            "image/png": "[encoded data removed]",
            "text/plain": [
              "<Figure size 432x288 with 1 Axes>"
            ]
          },
          "metadata": {
            "tags": [],
            "needs_background": "light"
          }
        }
      ]
    },
    {
      "cell_type": "markdown",
      "metadata": {
        "id": "3dYpTwwZqyz-"
      },
      "source": [
        "**Comentario**: El desempeño con la matriz concatenada y luego de ser normalizada no mejora el desempeño, manteniéndose con 90% de accuracy. A continuación se probará con selección de características con SFS."
      ]
    },
    {
      "cell_type": "markdown",
      "metadata": {
        "id": "TrjIfpFMnYOs"
      },
      "source": [
        "## C.  SFS (Sequential Forward Selection)\n",
        "\n",
        "SFS es un procedimiento de búsqueda  bottom-up que comienza desde un conjunto vacío y gradualmente agrega características seleccionadas por alguna función de evaluación. En cada\n",
        "iteración, la característica que se incluirá en el conjunto de características, se selecciona entre las características restantes disponibles de la característica\n",
        "conjunto, que no se han agregado al conjunto de funciones.\n",
        "\n",
        "*Referencia: A. Marcano-Cedeño, J. Quintanilla-Domínguez, M. G. Cortina-Januchs and D. Andina, \"Feature selection using Sequential Forward Selection and classification applying Artificial Metaplasticity Neural Network,\" IECON 2010*"
      ]
    },
    {
      "cell_type": "markdown",
      "metadata": {
        "id": "dyjAS7dAvprk"
      },
      "source": [
        "### Selección con SFS - Fisher"
      ]
    },
    {
      "cell_type": "code",
      "metadata": {
        "id": "lrBfhvaLvl8M"
      },
      "source": [
        "def sfs_fisher(X,y,p):\n",
        "  m = X.shape[1]\n",
        "  disponibles = np.ones((m,))\n",
        "  seleccionadas = -np.ones((p,),int)\n",
        "  Jmax = 0\n",
        "  for j in tqdm(range(p)):\n",
        "    for k in range(m):\n",
        "      if disponibles[k]:\n",
        "        seleccionadas[j] = k\n",
        "        columnas = seleccionadas[0:j+1]\n",
        "        Xsel = X[:,columnas]\n",
        "        J = jfisher(Xsel,y)\n",
        "        if J > Jmax:\n",
        "          Jmax = J\n",
        "          ksel = k\n",
        "          print('> selected: J('+str(columnas)+') = '+str(J/100))\n",
        "    disponibles[ksel] = 0\n",
        "    seleccionadas[j] = ksel\n",
        "  return seleccionadas\n"
      ],
      "execution_count": null,
      "outputs": []
    },
    {
      "cell_type": "code",
      "metadata": {
        "colab": {
          "base_uri": "https://localhost:8080/",
          "height": 1000,
          "referenced_widgets": [
            "bb1e8d3dce054d468d56a5824d491350",
            "d531c8db91054d899fa4d85a6807dea2",
            "2a89737e5e4747daaa05af753ce211aa",
            "8f08db1f7f37441a81f81ffefa805c9e",
            "eb8cfccd978a4ee79431843ba877a5a6",
            "edb292980b3547b3baca48e481858878",
            "36f34347644b405da768dc5386687922",
            "c4d82ff52f28494297be5cb0e44d869b"
          ]
        },
        "id": "7j--TRxdvlw-",
        "outputId": "7dbfb94e-da88-4ecc-cf5e-09db4ea71ba6"
      },
      "source": [
        "# Selección con SFS - Fisher\n",
        "\n",
        "ss = sfs_fisher(Xtrain_norm,ytrain,12)\n",
        "Xtrain_sel = Xtrain_norm[:,ss]\n",
        "Xtest_sel  = Xtest_norm[:,ss]"
      ],
      "execution_count": null,
      "outputs": [
        {
          "output_type": "display_data",
          "data": {
            "application/vnd.jupyter.widget-view+json": {
              "model_id": "bb1e8d3dce054d468d56a5824d491350",
              "version_minor": 0,
              "version_major": 2
            },
            "text/plain": [
              "HBox(children=(FloatProgress(value=0.0, max=12.0), HTML(value='')))"
            ]
          },
          "metadata": {
            "tags": []
          }
        },
        {
          "output_type": "stream",
          "text": [
            "> selected: J([0]) = 1.395988793463261e-05\n",
            "> selected: J([5]) = 1.940938099094185e-05\n",
            "> selected: J([6]) = 2.5992882269309227e-05\n",
            "> selected: J([7]) = 3.0733770922597554e-05\n",
            "> selected: J([8]) = 6.552217338899484e-05\n",
            "> selected: J([10]) = 7.368666269104764e-05\n",
            "> selected: J([12]) = 8.853880080397859e-05\n",
            "> selected: J([18]) = 0.00041048873062453454\n",
            "> selected: J([23]) = 0.00048058072376175174\n",
            "> selected: J([58]) = 0.006314385139567679\n",
            "> selected: J([84]) = 0.006660354771749462\n",
            "> selected: J([87]) = 0.008850175825501494\n",
            "> selected: J([226]) = 0.0091073047988787\n",
            "> selected: J([239]) = 0.009158325493439458\n",
            "> selected: J([246]) = 0.01027834610440141\n",
            "> selected: J([254]) = 0.010544171257818726\n",
            "> selected: J([254   0]) = 0.011213636928078207\n",
            "> selected: J([254   3]) = 0.011281527472873434\n",
            "> selected: J([254  58]) = 0.012642603854160349\n",
            "> selected: J([254 215]) = 0.014125513401923015\n",
            "> selected: J([254 217]) = 0.015444045846808932\n",
            "> selected: J([254 217   0]) = 0.015447840437592474\n",
            "> selected: J([254 217   2]) = 0.01547233570899747\n",
            "> selected: J([254 217   3]) = 0.01580496147706215\n",
            "> selected: J([254 217  26]) = 0.015983677854924685\n",
            "> selected: J([254 217  58]) = 0.016421672901289385\n",
            "> selected: J([254 217  66]) = 0.016458641278463356\n",
            "> selected: J([254 217  84]) = 0.017932758590787884\n",
            "> selected: J([254 217  84   0]) = 0.018207596215473677\n",
            "> selected: J([254 217  84   1]) = 0.018266012975089497\n",
            "> selected: J([254 217  84  26]) = 0.018848112324553027\n",
            "> selected: J([254 217  84  99]) = 0.019062783984874033\n",
            "> selected: J([254 217  84 171]) = 0.019196285736075857\n",
            "> selected: J([254 217  84 171   0]) = 0.01944502326368785\n",
            "> selected: J([254 217  84 171   1]) = 0.019515678977659986\n",
            "> selected: J([254 217  84 171  26]) = 0.020258979419787573\n",
            "> selected: J([254 217  84 171  87]) = 0.02047590477658318\n",
            "> selected: J([254 217  84 171 218]) = 0.020719772574285457\n",
            "> selected: J([254 217  84 171 218   0]) = 0.020958903208436026\n",
            "> selected: J([254 217  84 171 218  26]) = 0.02135465306932888\n",
            "> selected: J([254 217  84 171 218  33]) = 0.0215619430821408\n",
            "> selected: J([254 217  84 171 218  35]) = 0.02161739606072927\n",
            "> selected: J([254 217  84 171 218  61]) = 0.021630723598524887\n",
            "> selected: J([254 217  84 171 218  66]) = 0.022035518681898278\n",
            "> selected: J([254 217  84 171 218 101]) = 0.022149473850288964\n",
            "> selected: J([254 217  84 171 218 101   0]) = 0.022300389100860133\n",
            "> selected: J([254 217  84 171 218 101   3]) = 0.022511182267516014\n",
            "> selected: J([254 217  84 171 218 101  18]) = 0.022545413159991735\n",
            "> selected: J([254 217  84 171 218 101  26]) = 0.022605617922307183\n",
            "> selected: J([254 217  84 171 218 101  33]) = 0.023311411662175284\n",
            "> selected: J([254 217  84 171 218 101  35]) = 0.023336480129948253\n",
            "> selected: J([254 217  84 171 218 101  66]) = 0.02354327333827706\n",
            "> selected: J([254 217  84 171 218 101 242]) = 0.024002754827078726\n",
            "> selected: J([254 217  84 171 218 101 242   0]) = 0.024484847303713184\n",
            "> selected: J([254 217  84 171 218 101 242   1]) = 0.02452791036503504\n",
            "> selected: J([254 217  84 171 218 101 242  26]) = 0.024835492436807483\n",
            "> selected: J([254 217  84 171 218 101 242  66]) = 0.025169656982589453\n",
            "> selected: J([254 217  84 171 218 101 242 179]) = 0.02522001721404294\n",
            "> selected: J([254 217  84 171 218 101 242 209]) = 0.025380540078955693\n",
            "> selected: J([254 217  84 171 218 101 242 209   0]) = 0.025693909466356853\n",
            "> selected: J([254 217  84 171 218 101 242 209   1]) = 0.025743559204728494\n",
            "> selected: J([254 217  84 171 218 101 242 209  26]) = 0.026133807534710046\n",
            "> selected: J([254 217  84 171 218 101 242 209  65]) = 0.026183277537702603\n",
            "> selected: J([254 217  84 171 218 101 242 209  66]) = 0.026699304641133813\n",
            "> selected: J([254 217  84 171 218 101 242 209 253]) = 0.02676565176899153\n",
            "> selected: J([254 217  84 171 218 101 242 209 253   0]) = 0.027076870056594076\n",
            "> selected: J([254 217  84 171 218 101 242 209 253  26]) = 0.027517760015027034\n",
            "> selected: J([254 217  84 171 218 101 242 209 253  66]) = 0.02793023670219896\n",
            "> selected: J([254 217  84 171 218 101 242 209 253 200]) = 0.02807208203000207\n",
            "> selected: J([254 217  84 171 218 101 242 209 253 200   0]) = 0.028343269234906186\n",
            "> selected: J([254 217  84 171 218 101 242 209 253 200  26]) = 0.02882016112403689\n",
            "> selected: J([254 217  84 171 218 101 242 209 253 200  33]) = 0.028829456568142064\n",
            "> selected: J([254 217  84 171 218 101 242 209 253 200  66]) = 0.029203410871931065\n",
            "> selected: J([254 217  84 171 218 101 242 209 253 200  66   0]) = 0.029389425370036262\n",
            "> selected: J([254 217  84 171 218 101 242 209 253 200  66   3]) = 0.029472005317508137\n",
            "> selected: J([254 217  84 171 218 101 242 209 253 200  66  26]) = 0.029867339171321068\n",
            "> selected: J([254 217  84 171 218 101 242 209 253 200  66  33]) = 0.03002097778524607\n",
            "\n"
          ],
          "name": "stdout"
        }
      ]
    },
    {
      "cell_type": "markdown",
      "metadata": {
        "id": "4-J7zQSGv3Z-"
      },
      "source": [
        " Clasificación con 12 caracteristicas seleccionadas"
      ]
    },
    {
      "cell_type": "code",
      "metadata": {
        "colab": {
          "base_uri": "https://localhost:8080/"
        },
        "id": "Alh8qHyxvluD",
        "outputId": "f728e45c-a2ea-4c50-dcbd-6b899a2b1374"
      },
      "source": [
        "# Clasificación con 12 caracteristicas seleccionadas\n",
        "\n",
        "acc,Css = ClassifierKNN(Xtrain_sel,ytrain,Xtest_sel,ytest, distance= \"chebyshev\")"
      ],
      "execution_count": null,
      "outputs": [
        {
          "output_type": "stream",
          "text": [
            "Entrenando con 1260 muestras y probando con 140 muestras\n",
            "Los datos tienen 12 features\n",
            "Testing Accuracy = 87.85714285714286%\n",
            "Matriz de Confusión:\n",
            "[[58 12]\n",
            " [ 5 65]]\n"
          ],
          "name": "stdout"
        }
      ]
    },
    {
      "cell_type": "code",
      "metadata": {
        "colab": {
          "base_uri": "https://localhost:8080/",
          "height": 311
        },
        "id": "b3_srWnxK8z6",
        "outputId": "d98bcce5-bdec-4004-a75f-2010b2c04e85"
      },
      "source": [
        "    sns.heatmap(Css, annot=True, cbar=None, cmap=\"BuPu\")\n",
        "    plt.title(\"Confusion Matrix SFS \"), plt.tight_layout()\n",
        "    plt.ylabel(\"True Class\"), plt.xlabel(\"Predicted Class\")\n",
        "    plt.show()"
      ],
      "execution_count": null,
      "outputs": [
        {
          "output_type": "display_data",
          "data": {
            "image/png": "[encoded data removed]",
            "text/plain": [
              "<Figure size 432x288 with 1 Axes>"
            ]
          },
          "metadata": {
            "tags": [],
            "needs_background": "light"
          }
        }
      ]
    },
    {
      "cell_type": "markdown",
      "metadata": {
        "id": "WLWOAHu_x0j2"
      },
      "source": [
        "**comentario**: no mejoró el desempeño con esta técnica de selección."
      ]
    },
    {
      "cell_type": "markdown",
      "metadata": {
        "id": "4l8d6e3KxtmE"
      },
      "source": [
        "### SFS (Librería mlxtend)"
      ]
    },
    {
      "cell_type": "code",
      "metadata": {
        "colab": {
          "base_uri": "https://localhost:8080/"
        },
        "id": "FKvWx6c2vlrU",
        "outputId": "66fdf7ad-f40a-4891-b289-f554ed3ae62f"
      },
      "source": [
        "estimator = KNeighborsClassifier(n_neighbors=3)\n",
        "p = 12\n",
        "forward = True\n",
        "sfs = mlxsfs(estimator, k_features=p,forward=forward,floating=False,verbose=2,scoring='accuracy',cv=10)\n",
        "\n",
        "sfs = sfs.fit(Xtrain_norm, ytrain)\n",
        "sel = list(sfs.k_feature_idx_)\n",
        "\n",
        "Xtrain_sel = Xtrain_norm[:,sel]\n",
        "Xtest_sel  = Xtest_norm[:,sel]\n",
        "acc,Csfs_ml = ClassifierKNN(Xtrain_sel,ytrain,Xtest_sel,ytest)"
      ],
      "execution_count": null,
      "outputs": [
        {
          "output_type": "stream",
          "text": [
            "[Parallel(n_jobs=1)]: Using backend SequentialBackend with 1 concurrent workers.\n",
            "[Parallel(n_jobs=1)]: Done   1 out of   1 | elapsed:    0.0s remaining:    0.0s\n",
            "[Parallel(n_jobs=1)]: Done 260 out of 260 | elapsed:    8.6s finished\n",
            "\n",
            "[2021-05-20 23:48:50] Features: 1/12 -- score: 0.8428571428571429[Parallel(n_jobs=1)]: Using backend SequentialBackend with 1 concurrent workers.\n",
            "[Parallel(n_jobs=1)]: Done   1 out of   1 | elapsed:    0.0s remaining:    0.0s\n",
            "[Parallel(n_jobs=1)]: Done 259 out of 259 | elapsed:    6.9s finished\n",
            "\n",
            "[2021-05-20 23:48:57] Features: 2/12 -- score: 0.8817460317460318[Parallel(n_jobs=1)]: Using backend SequentialBackend with 1 concurrent workers.\n",
            "[Parallel(n_jobs=1)]: Done   1 out of   1 | elapsed:    0.0s remaining:    0.0s\n",
            "[Parallel(n_jobs=1)]: Done 258 out of 258 | elapsed:    7.1s finished\n",
            "\n",
            "[2021-05-20 23:49:04] Features: 3/12 -- score: 0.8952380952380953[Parallel(n_jobs=1)]: Using backend SequentialBackend with 1 concurrent workers.\n",
            "[Parallel(n_jobs=1)]: Done   1 out of   1 | elapsed:    0.0s remaining:    0.0s\n",
            "[Parallel(n_jobs=1)]: Done 257 out of 257 | elapsed:    7.6s finished\n",
            "\n",
            "[2021-05-20 23:49:11] Features: 4/12 -- score: 0.9047619047619048[Parallel(n_jobs=1)]: Using backend SequentialBackend with 1 concurrent workers.\n",
            "[Parallel(n_jobs=1)]: Done   1 out of   1 | elapsed:    0.0s remaining:    0.0s\n",
            "[Parallel(n_jobs=1)]: Done 256 out of 256 | elapsed:   10.3s finished\n",
            "\n",
            "[2021-05-20 23:49:22] Features: 5/12 -- score: 0.9095238095238095[Parallel(n_jobs=1)]: Using backend SequentialBackend with 1 concurrent workers.\n",
            "[Parallel(n_jobs=1)]: Done   1 out of   1 | elapsed:    0.0s remaining:    0.0s\n",
            "[Parallel(n_jobs=1)]: Done 255 out of 255 | elapsed:   11.6s finished\n",
            "\n",
            "[2021-05-20 23:49:33] Features: 6/12 -- score: 0.9119047619047619[Parallel(n_jobs=1)]: Using backend SequentialBackend with 1 concurrent workers.\n",
            "[Parallel(n_jobs=1)]: Done   1 out of   1 | elapsed:    0.0s remaining:    0.0s\n",
            "[Parallel(n_jobs=1)]: Done 254 out of 254 | elapsed:   12.4s finished\n",
            "\n",
            "[2021-05-20 23:49:46] Features: 7/12 -- score: 0.9142857142857144[Parallel(n_jobs=1)]: Using backend SequentialBackend with 1 concurrent workers.\n",
            "[Parallel(n_jobs=1)]: Done   1 out of   1 | elapsed:    0.0s remaining:    0.0s\n",
            "[Parallel(n_jobs=1)]: Done 253 out of 253 | elapsed:   13.6s finished\n",
            "\n",
            "[2021-05-20 23:49:59] Features: 8/12 -- score: 0.915873015873016[Parallel(n_jobs=1)]: Using backend SequentialBackend with 1 concurrent workers.\n",
            "[Parallel(n_jobs=1)]: Done   1 out of   1 | elapsed:    0.0s remaining:    0.0s\n",
            "[Parallel(n_jobs=1)]: Done 252 out of 252 | elapsed:   14.3s finished\n",
            "\n",
            "[2021-05-20 23:50:13] Features: 9/12 -- score: 0.9166666666666667[Parallel(n_jobs=1)]: Using backend SequentialBackend with 1 concurrent workers.\n",
            "[Parallel(n_jobs=1)]: Done   1 out of   1 | elapsed:    0.0s remaining:    0.0s\n",
            "[Parallel(n_jobs=1)]: Done 251 out of 251 | elapsed:   14.9s finished\n",
            "\n",
            "[2021-05-20 23:50:28] Features: 10/12 -- score: 0.9166666666666667[Parallel(n_jobs=1)]: Using backend SequentialBackend with 1 concurrent workers.\n",
            "[Parallel(n_jobs=1)]: Done   1 out of   1 | elapsed:    0.0s remaining:    0.0s\n",
            "[Parallel(n_jobs=1)]: Done 250 out of 250 | elapsed:   15.4s finished\n",
            "\n",
            "[2021-05-20 23:50:44] Features: 11/12 -- score: 0.9166666666666667[Parallel(n_jobs=1)]: Using backend SequentialBackend with 1 concurrent workers.\n",
            "[Parallel(n_jobs=1)]: Done   1 out of   1 | elapsed:    0.0s remaining:    0.0s\n"
          ],
          "name": "stderr"
        },
        {
          "output_type": "stream",
          "text": [
            "Entrenando con 1260 muestras y probando con 140 muestras\n",
            "Los datos tienen 12 features\n",
            "Testing Accuracy = 86.42857142857143%\n",
            "Matriz de Confusión:\n",
            "[[59 11]\n",
            " [ 8 62]]\n"
          ],
          "name": "stdout"
        },
        {
          "output_type": "stream",
          "text": [
            "[Parallel(n_jobs=1)]: Done 249 out of 249 | elapsed:   16.2s finished\n",
            "\n",
            "[2021-05-20 23:51:00] Features: 12/12 -- score: 0.9166666666666667"
          ],
          "name": "stderr"
        }
      ]
    },
    {
      "cell_type": "code",
      "metadata": {
        "colab": {
          "base_uri": "https://localhost:8080/",
          "height": 311
        },
        "id": "mY8mdHcKLeF4",
        "outputId": "d31f16a9-d46a-4bb9-8a00-984d08cf9465"
      },
      "source": [
        "    sns.heatmap(Csfs_ml, annot=True, cbar=None, cmap=\"BuPu\")\n",
        "    plt.title(\"Confusion Matrix SFS - mlxtend \"), plt.tight_layout()\n",
        "    plt.ylabel(\"True Class\"), plt.xlabel(\"Predicted Class\")\n",
        "    plt.show()"
      ],
      "execution_count": null,
      "outputs": [
        {
          "output_type": "display_data",
          "data": {
            "image/png": "[encoded data removed]",
            "text/plain": [
              "<Figure size 432x288 with 1 Axes>"
            ]
          },
          "metadata": {
            "tags": [],
            "needs_background": "light"
          }
        }
      ]
    },
    {
      "cell_type": "markdown",
      "metadata": {
        "id": "0_kRCQjt2POR"
      },
      "source": [
        "### SFS (Librería PyBalu)"
      ]
    },
    {
      "cell_type": "code",
      "metadata": {
        "colab": {
          "base_uri": "https://localhost:8080/"
        },
        "id": "Uk0Fct532UHY",
        "outputId": "62ab2535-6efb-4dff-b732-188310a19d1d"
      },
      "source": [
        "#Selección con SFS - Fisher\n",
        "sel = sfs(Xtrain_norm,ytrain,12,show=True)\n",
        "Xtrain_sel = Xtrain_norm[:,sel]\n",
        "Xtest_sel  = Xtest_norm[:,sel]\n",
        "\n",
        "# Clasificación con caracteristicas seleccionadas\n",
        "print()\n",
        "print('Datos con SFS:')\n",
        "print('==============')\n",
        "acc,C = ClassifierKNN(Xtrain_sel,ytrain,Xtest_sel,ytest, distance=  \"chebyshev\")"
      ],
      "execution_count": null,
      "outputs": [
        {
          "output_type": "stream",
          "text": [
            "Selecting Features: 100%|██████████| 12.0/12.0 [00:02<00:00, 4.98 features/s]"
          ],
          "name": "stderr"
        },
        {
          "output_type": "stream",
          "text": [
            "\n",
            "Datos con SFS:\n",
            "==============\n",
            "Entrenando con 1260 muestras y probando con 140 muestras\n",
            "Los datos tienen 12 features\n",
            "Testing Accuracy = 87.85714285714286%\n",
            "Matriz de Confusión:\n",
            "[[58 12]\n",
            " [ 5 65]]\n"
          ],
          "name": "stdout"
        },
        {
          "output_type": "stream",
          "text": [
            "\n"
          ],
          "name": "stderr"
        }
      ]
    },
    {
      "cell_type": "markdown",
      "metadata": {
        "id": "xPf7c6k33fFY"
      },
      "source": [
        "**Comentario**: en una primera iteración con SFS de la librería PyBalu, seleccionando 25 features se obtiene un accuracy de 92,14%. En una segunda iteración seleccionando 12 features baja el accuracy a 87,9%"
      ]
    },
    {
      "cell_type": "markdown",
      "metadata": {
        "id": "0UJDeZwDzvBW"
      },
      "source": [
        "### SFS y PCA (librería PyBalu)"
      ]
    },
    {
      "cell_type": "code",
      "metadata": {
        "colab": {
          "base_uri": "https://localhost:8080/"
        },
        "id": "dqM-LHXC0gs5",
        "outputId": "b37aa6f8-63d0-4e5c-853e-b432ba819942"
      },
      "source": [
        "from   pybalu.feature_selection import sfs\n",
        "# Primero hacemos una preselección para escoger buenas características\n",
        "sel_1 = sfs(Xtrain_norm,ytrain,30)\n",
        "Xtrain_sel_1 = Xtrain_norm[:,sel_1]\n",
        "Xtest_sel_1  = Xtest_norm[:,sel_1]\n",
        "\n",
        "# Luego hacemos PCA\n",
        "Xtrain_pca, _, A, Xm, _ = pca(Xtrain_sel_1, n_components = 12)\n",
        "Xtest_pca = np.matmul(Xtest_sel_1 - Xm, A) # Paso PCA\n",
        "\n",
        "# Luego concatenamos y hacemos un nuevo SFS\n",
        "Xtrain_sfspca = np.concatenate((Xtrain_sel_1,Xtrain_pca),axis=1)\n",
        "Xtest_sfspca  = np.concatenate((Xtest_sel_1,Xtest_pca),axis=1)\n",
        "\n",
        "sel_2 = sfs(Xtrain_sfspca,ytrain,12)\n",
        "Xtrain_sel_2 = Xtrain_sfspca[:,sel_2]\n",
        "Xtest_sel_2  = Xtest_sfspca[:,sel_2]\n",
        "\n",
        "\n",
        "acc,Csfs_pca_sfs = ClassifierKNN(Xtrain_sel_2,ytrain,Xtest_sel_2,ytest, distance = 'chebyshev')"
      ],
      "execution_count": null,
      "outputs": [
        {
          "output_type": "stream",
          "text": [
            "Entrenando con 1260 muestras y probando con 140 muestras\n",
            "Los datos tienen 12 features\n",
            "Testing Accuracy = 94.28571428571428%\n",
            "Matriz de Confusión:\n",
            "[[62  8]\n",
            " [ 0 70]]\n"
          ],
          "name": "stdout"
        }
      ]
    },
    {
      "cell_type": "code",
      "metadata": {
        "colab": {
          "base_uri": "https://localhost:8080/",
          "height": 311
        },
        "id": "r8BW17VzLzVL",
        "outputId": "4204c2a8-3fc0-4356-f2d8-eb99d5ca11a8"
      },
      "source": [
        "    sns.heatmap(Csfs_pca_sfs, annot=True, cbar=None, cmap=\"BuPu\")\n",
        "    plt.title(\"Confusion Matrix SFS --> PCA --> SFS \"), plt.tight_layout()\n",
        "    plt.ylabel(\"True Class\"), plt.xlabel(\"Predicted Class\")\n",
        "    plt.show()"
      ],
      "execution_count": null,
      "outputs": [
        {
          "output_type": "display_data",
          "data": {
            "image/png": "[encoded data removed]",
            "text/plain": [
              "<Figure size 432x288 with 1 Axes>"
            ]
          },
          "metadata": {
            "tags": [],
            "needs_background": "light"
          }
        }
      ]
    },
    {
      "cell_type": "markdown",
      "metadata": {
        "id": "WnUjMsJTF5y6"
      },
      "source": [
        "**Comentario**: con esta combinación se obtiene el mejor accuracy hasta el momento:` 94,3%, con 12 features` luego de aplicar SFS de 30 características, PCA con n_components =12 y luego SFS de 12 características."
      ]
    },
    {
      "cell_type": "markdown",
      "metadata": {
        "id": "aYczJNoIVMoP"
      },
      "source": [
        "#### **Comentarios desempeño general de SFS**\n",
        "\n",
        "Con el método SFS, la mejor combinación es utilizando **`SFS-PCA-SFS`** (ambos módulos de la librería PyBalu) obteniendo un accuracy de 94,3% para la matriz concatenada `X_Concat` que incluye las matrices de LBP, Haralick y Gabor, luego de pasar por el cleaning y normalización. La metodología fue utilizar SFS de **30 características**, PCA con **n_components =12** y luego SFS final de **12 características**.\n",
        "\n",
        " Se consideraron **12 features** finales para todos los experimentos con SFS."
      ]
    },
    {
      "cell_type": "markdown",
      "metadata": {
        "id": "xzLWhd0zVKs7"
      },
      "source": [
        "| Extractor con 12 features     | Accuracy  en  test |\n",
        "|-------------------------------|:--------------------------------:|\n",
        "| SFS (Librería mlxtend)        | 86,4%                            |\n",
        "| SFS (Librería PyBalu)         | 87,9%                            |\n",
        "| SFS-PCA-SFS (librería PyBalu) | **94,3%**                           |"
      ]
    },
    {
      "cell_type": "markdown",
      "metadata": {
        "id": "XSeC5BoNGnkw"
      },
      "source": [
        "## D. PLSR (Partial Least Squares Regression)\n",
        "\n",
        "PLSR es un método para relacionar dos matrices de datos, X e Y, mediante un modelo lineal multivariado, que también modela la estructura de X e Y. PLSR deriva su utilidad de su capacidad para analizar datos con variables ruidosas, numerosas, colineales e incluso incompletas tanto en X como en Y. PLSR tiene la propiedad de que la precisión de los parámetros del modelo mejoran con el número creciente de variables y observaciones relevantes.\n",
        "\n",
        "*Referencia: Svante Wold, Michael Sjöström, Lennart Eriksson,\n",
        "PLS-regression: a basic tool of chemometrics, Chemometrics and Intelligent Laboratory Systems,Volume 58, 2001.*"
      ]
    },
    {
      "cell_type": "markdown",
      "metadata": {
        "id": "jpJI57B2R7Xq"
      },
      "source": [
        "### PLSR"
      ]
    },
    {
      "cell_type": "code",
      "metadata": {
        "colab": {
          "base_uri": "https://localhost:8080/"
        },
        "id": "PKMh8vs3zhhn",
        "outputId": "bb696d6c-1346-407b-c84b-c52d60d2de49"
      },
      "source": [
        "plsr = PLSRegression(n_components=12)\n",
        "\n",
        "plsr.fit(Xtrain_norm, ytrain)\n",
        "\n",
        "Xtrain_plsr = plsr.transform(Xtrain_norm)\n",
        "Xtest_plsr  = plsr.transform(Xtest_norm)\n",
        "\n",
        "acc,Cplsr = ClassifierKNN(Xtrain_plsr,ytrain,Xtest_plsr,ytest, distance= \"canberra\")\n"
      ],
      "execution_count": null,
      "outputs": [
        {
          "output_type": "stream",
          "text": [
            "Entrenando con 1260 muestras y probando con 140 muestras\n",
            "Los datos tienen 12 features\n",
            "Testing Accuracy = 89.28571428571429%\n",
            "Matriz de Confusión:\n",
            "[[55 15]\n",
            " [ 0 70]]\n"
          ],
          "name": "stdout"
        }
      ]
    },
    {
      "cell_type": "code",
      "metadata": {
        "colab": {
          "base_uri": "https://localhost:8080/",
          "height": 311
        },
        "id": "QsGCkM3kQBqB",
        "outputId": "f63f783d-bdc1-4a43-c0a6-afc13a9e50e7"
      },
      "source": [
        "    sns.heatmap(Cplsr, annot=True, cbar=None, cmap=\"BuPu\")\n",
        "    plt.title(\"Confusion Matrix PLSR \"), plt.tight_layout()\n",
        "    plt.ylabel(\"True Class\"), plt.xlabel(\"Predicted Class\")\n",
        "    plt.show()"
      ],
      "execution_count": null,
      "outputs": [
        {
          "output_type": "display_data",
          "data": {
            "image/png": "[encoded data removed]",
            "text/plain": [
              "<Figure size 432x288 with 1 Axes>"
            ]
          },
          "metadata": {
            "tags": [],
            "needs_background": "light"
          }
        }
      ]
    },
    {
      "cell_type": "markdown",
      "metadata": {
        "id": "yr5Ml0XEd0Lu"
      },
      "source": [
        "### PLSR con HoG"
      ]
    },
    {
      "cell_type": "code",
      "metadata": {
        "colab": {
          "base_uri": "https://localhost:8080/"
        },
        "id": "aHSxQha8d69y",
        "outputId": "b781d371-d9d8-4dbe-b8fb-c9c26050cac3"
      },
      "source": [
        "Xtrain,ytrain,Xtest,ytest = SplitTrainTest(Xhog,y,ntrain)\n",
        "\n",
        "sclean_hog = clean(Xhog)            # índice de características seleccionadas\n",
        "Xtrain_clean_hog = Xtrain[:,sclean_hog]   # nuevo training\n",
        "Xtest_clean_hog  = Xtest[:,sclean_hog]    # nuevo testing\n",
        "\n",
        "plsr_hog = PLSRegression(n_components=10)\n",
        "\n",
        "# Normalización MinMax\n",
        "Xtrain_norm_hog, a, b = minmax(Xtrain_clean_hog)\n",
        "Xtest_norm_hog        = Xtest_clean_hog * a + b\n",
        "plsr.fit(Xtrain_norm_hog, ytrain)\n",
        "\n",
        "Xtrain_plsr_hog = plsr.transform(Xtrain_norm_hog)\n",
        "Xtest_plsr_hog  = plsr.transform(Xtest_norm_hog)\n",
        "\n",
        "acc,Cplsr_hog = ClassifierKNN(Xtrain_plsr_hog,ytrain,Xtest_plsr_hog,ytest, distance = 'chebyshev')"
      ],
      "execution_count": null,
      "outputs": [
        {
          "output_type": "stream",
          "text": [
            "Entrenando con 1260 muestras y probando con 140 muestras\n",
            "Los datos tienen 12 features\n",
            "Testing Accuracy = 88.57142857142857%\n",
            "Matriz de Confusión:\n",
            "[[61  9]\n",
            " [ 7 63]]\n"
          ],
          "name": "stdout"
        }
      ]
    },
    {
      "cell_type": "code",
      "metadata": {
        "colab": {
          "base_uri": "https://localhost:8080/",
          "height": 311
        },
        "id": "8Ob88MP0efih",
        "outputId": "1ee137e3-9bd1-4b78-bec1-760a5e30e76f"
      },
      "source": [
        "    sns.heatmap(Cplsr_hog, annot=True, cbar=None, cmap=\"BuPu\")\n",
        "    plt.title(\"Confusion Matrix PLSR con HoG \"), plt.tight_layout()\n",
        "    plt.ylabel(\"True Class\"), plt.xlabel(\"Predicted Class\")\n",
        "    plt.show()"
      ],
      "execution_count": null,
      "outputs": [
        {
          "output_type": "display_data",
          "data": {
            "image/png": "[encoded data removed]",
            "text/plain": [
              "<Figure size 432x288 with 1 Axes>"
            ]
          },
          "metadata": {
            "tags": [],
            "needs_background": "light"
          }
        }
      ]
    },
    {
      "cell_type": "markdown",
      "metadata": {
        "id": "cMb01wwW_6r7"
      },
      "source": [
        "### PLSR con Gabor"
      ]
    },
    {
      "cell_type": "code",
      "metadata": {
        "colab": {
          "base_uri": "https://localhost:8080/"
        },
        "id": "rjZRyepJzhkB",
        "outputId": "eca47e92-1a38-4f6f-cc49-d9931e4a76ad"
      },
      "source": [
        "Xtrain,ytrain,Xtest,ytest = SplitTrainTest(Xgab,y,ntrain)\n",
        "\n",
        "sclean_gab = clean(Xgab)            # índice de características seleccionadas\n",
        "Xtrain_clean_gab = Xtrain[:,sclean_gab]   # nuevo training\n",
        "Xtest_clean_gab  = Xtest[:,sclean_gab]    # nuevo testing\n",
        "\n",
        "plsr_gab = PLSRegression(n_components=10)\n",
        "\n",
        "# Normalización MinMax\n",
        "Xtrain_norm_gab, a, b = minmax(Xtrain_clean_gab)\n",
        "Xtest_norm_gab        = Xtest_clean_gab * a + b\n",
        "plsr.fit(Xtrain_norm_gab, ytrain)\n",
        "\n",
        "Xtrain_plsr_gab = plsr.transform(Xtrain_norm_gab)\n",
        "Xtest_plsr_gab  = plsr.transform(Xtest_norm_gab)\n",
        "\n",
        "acc,Cplsr_gab = ClassifierKNN(Xtrain_plsr_gab,ytrain,Xtest_plsr_gab,ytest, distance = 'manhattan')"
      ],
      "execution_count": null,
      "outputs": [
        {
          "output_type": "stream",
          "text": [
            "Entrenando con 1260 muestras y probando con 140 muestras\n",
            "Los datos tienen 12 features\n",
            "Testing Accuracy = 92.14285714285714%\n",
            "Matriz de Confusión:\n",
            "[[61  9]\n",
            " [ 2 68]]\n"
          ],
          "name": "stdout"
        }
      ]
    },
    {
      "cell_type": "code",
      "metadata": {
        "colab": {
          "base_uri": "https://localhost:8080/",
          "height": 311
        },
        "id": "-bWvTmi1SozI",
        "outputId": "bb528304-8a3f-4981-ec5a-462505d133a1"
      },
      "source": [
        "    sns.heatmap(Cplsr_gab, annot=True, cbar=None, cmap=\"BuPu\")\n",
        "    plt.title(\"Confusion Matrix PLSR con Gabor \"), plt.tight_layout()\n",
        "    plt.ylabel(\"True Class\"), plt.xlabel(\"Predicted Class\")\n",
        "    plt.show()"
      ],
      "execution_count": null,
      "outputs": [
        {
          "output_type": "display_data",
          "data": {
            "image/png": "[encoded data removed]",
            "text/plain": [
              "<Figure size 432x288 with 1 Axes>"
            ]
          },
          "metadata": {
            "tags": [],
            "needs_background": "light"
          }
        }
      ]
    },
    {
      "cell_type": "markdown",
      "metadata": {
        "id": "s983S9j7MqTh"
      },
      "source": [
        "### PLSR con Haralick"
      ]
    },
    {
      "cell_type": "code",
      "metadata": {
        "colab": {
          "base_uri": "https://localhost:8080/"
        },
        "id": "jGk0jlDRzhpZ",
        "outputId": "e76c2d4a-145d-480a-883d-e5073a6fc4df"
      },
      "source": [
        "\n",
        "Xtrain,ytrain,Xtest,ytest = SplitTrainTest(Xhar,y,ntrain)\n",
        "\n",
        "sclean_har = clean(Xhar)            # índice de características seleccionadas\n",
        "Xtrain_clean_har = Xtrain[:,sclean_har]   # nuevo training\n",
        "Xtest_clean_har  = Xtest[:,sclean_har]    # nuevo testing\n",
        "\n",
        "plsr_har = PLSRegression(n_components=12)\n",
        "\n",
        "# Normalización MinMax\n",
        "Xtrain_norm_har, a, b = minmax(Xtrain_clean_har)\n",
        "Xtest_norm_har        = Xtest_clean_har * a + b\n",
        "plsr.fit(Xtrain_norm_har, ytrain)\n",
        "\n",
        "Xtrain_plsr_har = plsr.transform(Xtrain_norm_har)\n",
        "Xtest_plsr_har  = plsr.transform(Xtest_norm_har)\n",
        "\n",
        "acc,Cplsr_har = ClassifierKNN(Xtrain_plsr_har,ytrain,Xtest_plsr_har,ytest, distance = 'chebyshev')"
      ],
      "execution_count": null,
      "outputs": [
        {
          "output_type": "stream",
          "text": [
            "Entrenando con 1260 muestras y probando con 140 muestras\n",
            "Los datos tienen 12 features\n",
            "Testing Accuracy = 89.28571428571429%\n",
            "Matriz de Confusión:\n",
            "[[58 12]\n",
            " [ 3 67]]\n"
          ],
          "name": "stdout"
        }
      ]
    },
    {
      "cell_type": "code",
      "metadata": {
        "colab": {
          "base_uri": "https://localhost:8080/",
          "height": 311
        },
        "id": "NxjLDzm4RkbR",
        "outputId": "912f211d-c1d4-4ce8-9acb-fc810294819e"
      },
      "source": [
        "    sns.heatmap(Cplsr_har, annot=True, cbar=None, cmap=\"BuPu\")\n",
        "    plt.title(\"Confusion Matrix PLSR con Haralick \"), plt.tight_layout()\n",
        "    plt.ylabel(\"True Class\"), plt.xlabel(\"Predicted Class\")\n",
        "    plt.show()"
      ],
      "execution_count": null,
      "outputs": [
        {
          "output_type": "display_data",
          "data": {
            "image/png": "[encoded data removed]",
            "text/plain": [
              "<Figure size 432x288 with 1 Axes>"
            ]
          },
          "metadata": {
            "tags": [],
            "needs_background": "light"
          }
        }
      ]
    },
    {
      "cell_type": "markdown",
      "metadata": {
        "id": "7HnvaqyTW89-"
      },
      "source": [
        "#### Comentarios desempeño general de PLSR\n",
        "\n",
        "Con el método PLSR, la mejor combinación es utilizando PSLR con la matriz de Gabor **`Xgab`**  obteniendo un accuracy de 92,14%, luego de pasar por el cleaning y normalización. Se consideraron **12 atributos** finales para todos los experimentos con PLSR.\n"
      ]
    },
    {
      "cell_type": "markdown",
      "metadata": {
        "id": "qY-Hkg1mYr1A"
      },
      "source": [
        "| Extractor con 12 features | Accuracy en test |\n",
        "|---------------------------|:--------------------------------:|\n",
        "| PLSR con X_Concat         | 89,3%                            |\n",
        "| PLSR con HoG              | 88,6%                            |\n",
        "| PLSR con Gabor            | **92,14%**                          |\n",
        "| PLSR con Haralick         | 89,3%                            |"
      ]
    },
    {
      "cell_type": "code",
      "metadata": {
        "id": "ztu5H8s0YrVQ"
      },
      "source": [],
      "execution_count": null,
      "outputs": []
    }
  ]
}