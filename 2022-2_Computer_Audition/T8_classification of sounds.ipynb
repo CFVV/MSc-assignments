{
  "cells": [
    {
      "cell_type": "markdown",
      "metadata": {
        "id": "view-in-github",
        "colab_type": "text"
      },
      "source": [
        "<a href=\"https://colab.research.google.com/github/CFVV/MSc-assignments/blob/main/2022-2_Computer_Audition/T8_classification%20of%20sounds.ipynb\" target=\"_parent\"><img src=\"https://colab.research.google.com/assets/colab-badge.svg\" alt=\"Open In Colab\"/></a>"
      ]
    },
    {
      "cell_type": "markdown",
      "id": "f8865bcf-bec7-46f1-acac-013bf8e24573",
      "metadata": {
        "id": "f8865bcf-bec7-46f1-acac-013bf8e24573"
      },
      "source": [
        "# Taller 8: Clasificación\n",
        "\n",
        "### Nico y Cami"
      ]
    },
    {
      "cell_type": "markdown",
      "id": "c804d0e8-4ab3-491d-a641-ddd4ad832f72",
      "metadata": {
        "id": "c804d0e8-4ab3-491d-a641-ddd4ad832f72"
      },
      "source": [
        "# Pregunta 1\n",
        "### Explique el método  de clasificación K-Nearest Neighbors 'KNN'\n",
        "\n",
        "\n",
        "\n",
        "KNN es un algoritmo de aprendizaje supervisado que se basa en calcular los K-Vecinos más cercanos utilizando alguna función de distancia/similaridad entre los datos con los que fue entrenado y el ejemplo por el que se le está consultando la predicción. KNN predice, en el caso de clasificación, la clase mayoritaria presente entre los k-vecinos encontrados con mayor cercanía al ejemplo de consulta, en este algoritmo el número de vecinos a buscar al momento de hacer una predicción debe ser fijado previamente por lo que corresponde a un  hiperparámetro."
      ]
    },
    {
      "cell_type": "markdown",
      "id": "d6aa56ff-b25e-4cee-bea2-6449974c0c52",
      "metadata": {
        "id": "d6aa56ff-b25e-4cee-bea2-6449974c0c52"
      },
      "source": [
        "# Pregunta 2\n",
        "### Explique el método de clasificación Support Vector Machine 'SVM'\n",
        "\n",
        "SVM es un algoritmo de aprendizaje supervisado propuesto como mejora a algoritmos de máximo márgen, para clasificación este algoritmo se basa en encontrar el hiperplano separador entre dos clases que maximiza la distancia de cada clase al hiperplano. Para encontar el hiperplano separador óptimo, las SVM utilizan aquellos ejemplos de cada clase más \"conflictivos\", es decir, aquellos ejemplos cuyos atributos los hagan difíciles de distinguir con respecto a los ejemplos de la otra clase, a estos ejemplos que se tienden a encontrar más cercanos al punto intermedio entre las clases se les conoce como \"vectores de soporte\", el nombre proviene de la forma en la que son utilizados: Para calcular el hiperplano se obtiene el vector, perpendicular al hiperplano candidato, que va desde la proyección del ejemplo que es vector de soporte al hiperplano candidato mismo, obteniendose finalmente que el hiperplano es determinado por el conjunto de estos vectores (vectores de soporte). Como paso previo al ajuste del hiperplano las SVM aplican una tansformación sobre el espacio de atributos mediante una función de kernel que tiene como objetivo aumentar la cantidad de dimensiones en las que se representa a los atributos, con el objetivo de tener mayores posibilidades de encontar un hiperplano separador en este nnuevo espacio (el espacio de la transformación de kernel)."
      ]
    },
    {
      "cell_type": "markdown",
      "id": "e3b649b1-fd8b-4433-a4f2-9a0f06fadeb2",
      "metadata": {
        "id": "e3b649b1-fd8b-4433-a4f2-9a0f06fadeb2"
      },
      "source": [
        "# Pregunta 3\n",
        "### Explique qué es la matriz de confusión y la medida de desempeño \"accuracy\"\n",
        "\n",
        "\n",
        "La matriz de confusión es una matriz que resume el desempeño de un clasificador sobre un conjunto de datos, mediante la sumarización de cuatro métricas, obtenidas al comparar la predicción realizada por el clasificador para cada ejemplo del conjunto sobre el que se le pidieron las predicciónes. Estas cuatro métricas, para clasificación binaria, son como siguen:\n",
        "> * Verdaderos positivos (TP): Cantidad de veces que el clasificador predijo que un determinado ejemplo era de la clase positiva (marcada como 1 u otra codificación equivlente) y en efecto el ejemplo pertenecía a esa clase.\n",
        "> * Verdaderos negativos (TN): Cantidad de veces que el clasificacdor predijo que un determinado ejemplo no era de la clase positiva (equivalentemente, predijo entonces que es de la clase negativa: 0) y en efecto dicho ejemplo no pertenecía a la clase positiva.\n",
        "> * Falsos positivos (FP): cantidad de veces que el clasificador predijo que un ejemplo pertenecía a la clase positiva (1) pero el ejemplo no pertenecía a esta clase.\n",
        "> * Falsos negativos (FN): Cantidad de veces que el clasificador predijo que un ejemplo pertenecía a la clase negativa (0) pero el ejemplo si pertenecía a esta clase.\n",
        "\n",
        "Los valores que interesa ver maximizados son los Verdaderos positivos/negativos (aciertos del modelo en predecir la correspondiente clase) encontrados en la diagonal principal de la matriz, mientras que es de interés minimizar aquellos fuera de la diagonal (falsos positivo/negativos).\n",
        "\n",
        "Para el caso de clasificacion multiclase la matriz de confusión se calcula equivalentemente considerando a cada clase por separado de las demás, obteniendose de forma equivalente, que lo que interesa es maximizar los valores en la diagonal principal (aciertos en predecir una determinada clase) y minimizar los valores en las matrices triangulares inferiores y superiores.\n",
        "\n",
        "La métrica de _accuracy_, calculada a partir de la matriz de confusion, resume la proporción de aciertos totales realizados por el modelo en el universo de predicciones realizadas (por lo tanto esta métrica tiene su rango en el intervalo $[0,1]$). Se calcula mediante la división:\n",
        "$$\n",
        "Accuracy = \\frac{TP + TN}{TP + TN + FP + FN}\n",
        "$$"
      ]
    },
    {
      "cell_type": "markdown",
      "id": "4fd7a5d6-002a-4980-a39f-36316870cdff",
      "metadata": {
        "id": "4fd7a5d6-002a-4980-a39f-36316870cdff"
      },
      "source": [
        "# Pregunta 4\n",
        "\n",
        "### Clasificando sonidos percusivos\n",
        "En la carpeta  'Percussive' hay sonidos percusivos: 'Kicks' y 'Snares'.\n",
        "Utilizando los descriptores temporales que considere pertinentes clasifique dichos sonidos.\n",
        "Utilice las muestras de las carpeta 'train' para entrenar y las de la carpeta 'test' para evaluar.\n",
        "Para cada clasificador entregue la matriz de confusión y la accuracy.\n",
        "\n",
        "* Utilice KNN con 3 vecinos.\n",
        "* Utilice SVM, con los parámetros que desee."
      ]
    },
    {
      "cell_type": "code",
      "execution_count": null,
      "id": "V7vUovDnjLEx",
      "metadata": {
        "colab": {
          "base_uri": "https://localhost:8080/"
        },
        "id": "V7vUovDnjLEx",
        "outputId": "a8eb4dd3-8f9c-4d60-e11f-d1c4fd14cd50"
      },
      "outputs": [
        {
          "name": "stdout",
          "output_type": "stream",
          "text": [
            "Drive already mounted at /content/drive; to attempt to forcibly remount, call drive.mount(\"/content/drive\", force_remount=True).\n"
          ]
        }
      ],
      "source": [
        "from google.colab import drive\n",
        "drive.mount('/content/drive')"
      ]
    },
    {
      "cell_type": "code",
      "execution_count": null,
      "id": "eb803897-4bf8-4d0c-a223-d4ed2efd380b",
      "metadata": {
        "id": "eb803897-4bf8-4d0c-a223-d4ed2efd380b"
      },
      "outputs": [],
      "source": [
        "import numpy as np\n",
        "from sklearn.neighbors import KNeighborsClassifier\n",
        "from sklearn.svm import SVC\n",
        "from sklearn.metrics import confusion_matrix, classification_report, accuracy_score\n",
        "from sklearn.utils import shuffle\n",
        "from sklearn.model_selection import train_test_split\n",
        "from scipy.io import wavfile\n",
        "from glob import glob\n",
        "from librosa.feature import spectral_centroid, spectral_flatness\n",
        "from librosa.onset import onset_strength\n",
        "from librosa import time_to_samples, frames_to_time\n",
        "from librosa.feature import mfcc\n",
        "import librosa\n",
        "from   tqdm.auto import tqdm\n",
        "import warnings\n",
        "import os\n",
        "from sklearn import svm\n",
        "warnings.filterwarnings('ignore')\n",
        "\n",
        "\n",
        "def zero_crossing_rate(wavedata, block_length, samplerate):\n",
        "\n",
        "    # how many blocks have to be processed?\n",
        "    num_blocks = int(np.ceil(len(wavedata)/block_length))\n",
        "\n",
        "    # when do these blocks begin (time in seconds)?\n",
        "    timestamps = (np.arange(0,num_blocks - 1) * (block_length / float(samplerate)))\n",
        "\n",
        "    zcr = []\n",
        "\n",
        "    for i in range(0,num_blocks-1):\n",
        "\n",
        "        start = i * block_length\n",
        "        stop  = np.min([(start + block_length - 1), len(wavedata)])\n",
        "\n",
        "        zc = 0.5 * np.mean(np.abs(np.diff(np.sign(wavedata[start:stop]))))\n",
        "        zcr.append(zc)\n",
        "\n",
        "    return np.asarray(zcr)\n",
        "\n",
        "def get_spectralFlux(segmento, sr = 44100, hop_length = 1024):\n",
        "    odf_default = onset_strength(y=segmento, sr=sr, n_fft = 1024, hop_length=hop_length)\n",
        "    frame_time = frames_to_time(np.arange(len(odf_default)),\n",
        "                                    sr=sr,\n",
        "                                    hop_length=hop_length)\n",
        "    return frame_time, odf_default\n",
        "\n",
        "def count_files(type, echo=False):\n",
        "    files = 0\n",
        "    train_paths = ['Percussive/TrainKicks/', 'Percussive/trainSnares/']\n",
        "    test_paths = ['Percussive/testKicks/', 'Percussive/testSnares/']\n",
        "    path_dict = {'train': train_paths,'test': test_paths}\n",
        "    paths = path_dict[type]\n",
        "    for path in paths:\n",
        "\n",
        "        for filename in os.listdir(path):\n",
        "            f = os.path.join(path, filename)\n",
        "            # checking if it is a file\n",
        "            if os.path.isfile(f):\n",
        "                if echo:\n",
        "                    print(f)\n",
        "                files += 1\n",
        "    print(files)\n",
        "    return files\n",
        "\n",
        "def get_features(type):\n",
        "    file_cnt = count_files(type)\n",
        "    features = 2\n",
        "    X = np.zeros((file_cnt, features))\n",
        "    y_gt = np.zeros((file_cnt,))\n",
        "    train_paths = ['Percussive/TrainKicks/', 'Percussive/trainSnares/']\n",
        "    test_paths = ['Percussive/testKicks/', 'Percussive/testSnares/']\n",
        "    path_dict = {'train': train_paths,'test': test_paths}\n",
        "    t = 0\n",
        "    data_path = path_dict[type]\n",
        "    for i in range(len(data_path)):\n",
        "        path = data_path[i]\n",
        "        dirs = os.listdir(path)\n",
        "        print(f'Obteniendo {features} features de {path}')\n",
        "        for j in tqdm(range(len(dirs))):\n",
        "            filename = dirs[j]\n",
        "            f = os.path.join(path, filename)\n",
        "            # checking if it is a file\n",
        "            if os.path.isfile(f):\n",
        "                y, sr = librosa.load(f)\n",
        "                kwargs = {'y': y, 'sr': sr, 'n_fft': 256}\n",
        "                cent = librosa.feature.spectral_centroid(**kwargs)\n",
        "                # spec_bw = librosa.feature.spectral_bandwidth(**kwargs)\n",
        "                # flatness = librosa.feature.spectral_flatness(y=y, n_fft=256)\n",
        "                # rolloff = librosa.feature.spectral_rolloff(**kwargs, roll_percent = 0.99)\n",
        "                zero_crossing = librosa.feature.zero_crossing_rate(y)\n",
        "\n",
        "                X[t, 0] = np.mean(cent)\n",
        "                X[t, 1] = np.mean(zero_crossing)\n",
        "\n",
        "                y_gt[t] = i\n",
        "                t += 1\n",
        "    return X, y_gt"
      ]
    },
    {
      "cell_type": "markdown",
      "id": "17a1b4f2",
      "metadata": {
        "id": "17a1b4f2"
      },
      "source": [
        "### Funciones de ayuda de clasificadores"
      ]
    },
    {
      "cell_type": "code",
      "execution_count": null,
      "id": "60026d5f",
      "metadata": {
        "id": "60026d5f"
      },
      "outputs": [],
      "source": [
        "def ClassifierKNN(Xtrain,ytrain,Xtest,ytest, neighbors):\n",
        "  Xtrain = np.array(Xtrain)\n",
        "  ytrain = np.array(ytrain)\n",
        "  Xtest = np.array(Xtest)\n",
        "  ytest = np.array(ytest)\n",
        "  print(f'Clasificador KNN de {neighbors} vecinos')\n",
        "  knn = KNeighborsClassifier(n_neighbors=neighbors)\n",
        "  knn.fit(Xtrain, ytrain)\n",
        "  ypred        = knn.predict(Xtest)\n",
        "  print(ypred.shape)\n",
        "  print(ytest.shape)\n",
        "  acc          = accuracy_score(ytest, ypred)\n",
        "  print('Entrenando con '+str(Xtrain.shape[0])+' muestras y probando con '+str(Xtest.shape[0])+' muestras')\n",
        "  print('Testing Accuracy = '+str(acc*100)+'%')\n",
        "  C = confusion_matrix(ytest,ypred)\n",
        "  print('Matriz de Confusión:')\n",
        "  print(C)\n",
        "  print(\"KNN - 3 vecinos\")\n",
        "  print(classification_report(ytest, ypred))\n",
        "  return acc, C, ypred\n",
        "\n",
        "def ClassifierSVM(Xtrain, ytrain, Xtest, ytest):\n",
        "    print('Clasificador SVM')\n",
        "    clf = svm.SVC()\n",
        "    clf.fit(Xtrain, ytrain)\n",
        "    ypred = clf.predict(Xtest)\n",
        "    acc          = accuracy_score(ytest,ypred)\n",
        "    print('Entrenando con '+str(Xtrain.shape[0])+' muestras y probando con '+str(Xtest.shape[0])+' muestras')\n",
        "    print('Testing Accuracy = '+str(acc*100)+'%')\n",
        "    C = confusion_matrix(ytest,ypred)\n",
        "    print('Matriz de Confusión:')\n",
        "    print(C)\n",
        "    print(\"SVM\")\n",
        "    print(classification_report(ytest, ypred))\n",
        "    return acc, C, ypred"
      ]
    },
    {
      "cell_type": "markdown",
      "id": "846f8d8d-be03-4006-80f8-2ca016ab12f7",
      "metadata": {
        "id": "846f8d8d-be03-4006-80f8-2ca016ab12f7"
      },
      "source": [
        "Usando **Zero Crossing Rate**"
      ]
    },
    {
      "cell_type": "code",
      "execution_count": null,
      "id": "KnGyw9Ejk-03",
      "metadata": {
        "id": "KnGyw9Ejk-03"
      },
      "outputs": [],
      "source": [
        "path = \"\"\n",
        "X_kicks_train_pre = [wavfile.read(data_path) for data_path in glob(path + 'Percussive/TrainKicks/*.wav')]\n",
        "X_kicks_test_pre = [wavfile.read(data_path) for data_path in glob(path +'Percussive/testKicks/*.wav')]\n",
        "X_snares_train_pre = [wavfile.read(data_path) for data_path in glob(path + 'Percussive/trainSnares/*.wav')]\n",
        "X_snares_test_pre = [wavfile.read(data_path) for data_path in glob(path +'Percussive/testSnares/*.wav')]"
      ]
    },
    {
      "cell_type": "markdown",
      "id": "a4b7648b",
      "metadata": {
        "id": "a4b7648b"
      },
      "source": [
        "Extracción de características"
      ]
    },
    {
      "cell_type": "code",
      "execution_count": null,
      "id": "fd2f5559-a048-4c3a-bb73-8ab869258da6",
      "metadata": {
        "id": "fd2f5559-a048-4c3a-bb73-8ab869258da6",
        "tags": []
      },
      "outputs": [],
      "source": [
        "max_length = np.max(np.max([array.shape[0] for array in [x[1] for x in np.vstack([X_kicks_train_pre,\n",
        "                                                                                  X_kicks_test_pre,\n",
        "                                                                                  X_snares_train_pre,\n",
        "                                                                                  X_snares_test_pre])]]))\n",
        "\n",
        "X_kicks_train = np.vstack([zero_crossing_rate(np.pad(x[1], (0,max_length-x[1].shape[0])), 80, x[0]) for x in X_kicks_train_pre])\n",
        "X_kicks_test = np.vstack([zero_crossing_rate(np.pad(x[1], (0,max_length-x[1].shape[0])), 80, x[0]) for x in X_kicks_test_pre])\n",
        "X_snares_train = np.vstack([zero_crossing_rate(np.pad(x[1], (0,max_length-x[1].shape[0])), 80, x[0]) for x in X_snares_train_pre])\n",
        "X_snares_test = np.vstack([zero_crossing_rate(np.pad(x[1], (0,max_length-x[1].shape[0])), 80, x[0]) for x in X_snares_test_pre])\n",
        "\n",
        "Y_train = ['kick']*X_kicks_train.shape[0] + ['snare']*X_snares_train.shape[0]\n",
        "Y_test = ['kick']*X_kicks_test.shape[0] + ['snare']*X_snares_test.shape[0]\n",
        "\n",
        "X_train = np.vstack((X_kicks_train, X_snares_train))\n",
        "X_test = np.vstack([X_kicks_test, X_snares_test])\n",
        "\n",
        "X_train, Y_train = shuffle(X_train, Y_train, random_state=15)\n",
        "X_test, Y_test = shuffle(X_test, Y_test, random_state=15)"
      ]
    },
    {
      "cell_type": "markdown",
      "id": "988f977d-cf2e-48ae-9c1e-971bb6be7597",
      "metadata": {
        "id": "988f977d-cf2e-48ae-9c1e-971bb6be7597"
      },
      "source": [
        "## Entrenamiento de los modelos"
      ]
    },
    {
      "cell_type": "markdown",
      "id": "7c1906be-b2d0-419f-8322-b70f24216c32",
      "metadata": {
        "id": "7c1906be-b2d0-419f-8322-b70f24216c32",
        "tags": []
      },
      "source": [
        "### KNN - 3 vecinos"
      ]
    },
    {
      "cell_type": "code",
      "execution_count": null,
      "id": "d18e7c9d",
      "metadata": {
        "id": "d18e7c9d",
        "outputId": "84c80d7e-1456-433c-bc70-8c766d59d801"
      },
      "outputs": [
        {
          "name": "stdout",
          "output_type": "stream",
          "text": [
            "Clasificador KNN de 3 vecinos\n",
            "(19,)\n",
            "(19,)\n",
            "Entrenando con 93 muestras y probando con 19 muestras\n",
            "Testing Accuracy = 100.0%\n",
            "Matriz de Confusión:\n",
            "[[10  0]\n",
            " [ 0  9]]\n",
            "KNN - 3 vecinos\n",
            "              precision    recall  f1-score   support\n",
            "\n",
            "        kick       1.00      1.00      1.00        10\n",
            "       snare       1.00      1.00      1.00         9\n",
            "\n",
            "    accuracy                           1.00        19\n",
            "   macro avg       1.00      1.00      1.00        19\n",
            "weighted avg       1.00      1.00      1.00        19\n",
            "\n"
          ]
        }
      ],
      "source": [
        "knn_results = ClassifierKNN(X_train, Y_train, X_test, Y_test, 3)"
      ]
    },
    {
      "cell_type": "markdown",
      "id": "0c784c0b-0b17-4951-b250-23315e39d56f",
      "metadata": {
        "id": "0c784c0b-0b17-4951-b250-23315e39d56f"
      },
      "source": [
        "### SVM - Parámetros por defecto"
      ]
    },
    {
      "cell_type": "code",
      "execution_count": null,
      "id": "776d447e-9353-48b6-988b-121c7a5874dc",
      "metadata": {
        "id": "776d447e-9353-48b6-988b-121c7a5874dc",
        "outputId": "3159fc80-7c2d-4046-fd16-8129742269d1"
      },
      "outputs": [
        {
          "name": "stdout",
          "output_type": "stream",
          "text": [
            "Clasificador SVM\n",
            "Entrenando con 93 muestras y probando con 19 muestras\n",
            "Testing Accuracy = 100.0%\n",
            "Matriz de Confusión:\n",
            "[[10  0]\n",
            " [ 0  9]]\n",
            "SVM\n",
            "              precision    recall  f1-score   support\n",
            "\n",
            "        kick       1.00      1.00      1.00        10\n",
            "       snare       1.00      1.00      1.00         9\n",
            "\n",
            "    accuracy                           1.00        19\n",
            "   macro avg       1.00      1.00      1.00        19\n",
            "weighted avg       1.00      1.00      1.00        19\n",
            "\n"
          ]
        }
      ],
      "source": [
        "svm_results = ClassifierSVM(X_train, Y_train, X_test, Y_test)"
      ]
    },
    {
      "cell_type": "markdown",
      "id": "88098464-934d-4c03-b9de-c321be146f01",
      "metadata": {
        "id": "88098464-934d-4c03-b9de-c321be146f01"
      },
      "source": [
        "Ambos modelos obtienen una clasificación perfecta. Utilizando Zero Crossing Rate como descriptor tanto una SVM con kernel rbf como KNN con 3 vecinos son capaces de distinguir por completo las dos clases para el conjunto de pruebas."
      ]
    },
    {
      "cell_type": "markdown",
      "id": "7f045c91-c09e-408b-99eb-20ce6dc1ed3b",
      "metadata": {
        "id": "7f045c91-c09e-408b-99eb-20ce6dc1ed3b"
      },
      "source": [
        "# Pregunta 5\n",
        "### Incluyendo además descriptores frecuenciales, clasifique utilizando KNN.\n",
        "Comente los tres resultados obtenidos."
      ]
    },
    {
      "cell_type": "code",
      "execution_count": null,
      "id": "0de6d17a-7a80-46ea-bc93-68eb3185860c",
      "metadata": {
        "id": "0de6d17a-7a80-46ea-bc93-68eb3185860c"
      },
      "outputs": [],
      "source": [
        "X_train_spectral_pre = [x[1].astype(float) for x in np.vstack((X_kicks_train_pre, X_snares_train_pre))]\n",
        "X_test_spectral_pre = [x[1].astype(float) for x in np.vstack([X_kicks_test_pre, X_snares_test_pre])]\n",
        "\n",
        "max_length = np.max(np.max([array.shape[0] for array in [x for x in X_train_spectral_pre+X_test_spectral_pre]]))\n",
        "\n",
        "X_train_spectralCentroid  = np.vstack([spectral_centroid(np.pad(x, (0,max_length-x.shape[0])).astype(float), sr = 44100, n_fft=64, hop_length=64)[0] for x in X_train_spectral_pre])\n",
        "X_test_spectralCentroid = np.vstack([spectral_centroid(np.pad(x, (0,max_length-x.shape[0])).astype(float), sr = 44100, n_fft=64, hop_length=64)[0] for x in X_test_spectral_pre])"
      ]
    },
    {
      "cell_type": "code",
      "execution_count": null,
      "id": "ceb4f093-f1d7-4704-8256-66f6afd937d8",
      "metadata": {
        "id": "ceb4f093-f1d7-4704-8256-66f6afd937d8",
        "tags": []
      },
      "outputs": [],
      "source": [
        "# Por ahora solo probare con centroide espectral\n",
        "#X_train_spectralFlatness= [spectral_flatness(x, n_fft=8, hop_length=8)[0] for x in X_train]\n",
        "#X_test_spectralFlatness= [spectral_flatness(x, n_fft=8, hop_length=8)[0] for x in X_test]\n",
        "#\n",
        "#X_train_spectralFlux= [get_spectralFlux(x, hop_length=8)[0] for x in X_train]\n",
        "#X_test_spectralFlux= [get_spectralFlux(x, hop_length=8)[0] for x in X_test]\n"
      ]
    },
    {
      "cell_type": "markdown",
      "id": "9f17d4c7-11fb-4070-b535-7893888638fe",
      "metadata": {
        "id": "9f17d4c7-11fb-4070-b535-7893888638fe"
      },
      "source": [
        "## Re-Entrenamiento con descriptores de frecuencia"
      ]
    },
    {
      "cell_type": "code",
      "execution_count": null,
      "id": "411426d9-e329-491c-8063-fc3d101fe2ff",
      "metadata": {
        "id": "411426d9-e329-491c-8063-fc3d101fe2ff",
        "tags": [],
        "outputId": "4cd3d0b0-d0d6-48c1-8f36-70d0aaf6b8fc"
      },
      "outputs": [
        {
          "name": "stdout",
          "output_type": "stream",
          "text": [
            "Clasificador KNN de 5 vecinos\n",
            "(19,)\n",
            "(19,)\n",
            "Entrenando con 93 muestras y probando con 19 muestras\n",
            "Testing Accuracy = 52.63157894736842%\n",
            "Matriz de Confusión:\n",
            "[[9 1]\n",
            " [8 1]]\n",
            "KNN - 3 vecinos\n",
            "              precision    recall  f1-score   support\n",
            "\n",
            "        kick       0.53      0.90      0.67        10\n",
            "       snare       0.50      0.11      0.18         9\n",
            "\n",
            "    accuracy                           0.53        19\n",
            "   macro avg       0.51      0.51      0.42        19\n",
            "weighted avg       0.52      0.53      0.44        19\n",
            "\n"
          ]
        }
      ],
      "source": [
        "knn_results = ClassifierKNN(X_train_spectralCentroid, Y_train, X_test_spectralCentroid, Y_test, 5)"
      ]
    },
    {
      "cell_type": "code",
      "execution_count": null,
      "id": "3866e277-5d8b-49b7-86ff-a8b8ffef22ca",
      "metadata": {
        "id": "3866e277-5d8b-49b7-86ff-a8b8ffef22ca",
        "outputId": "5f3bf24d-059a-4f71-85b0-92608f8ca17a"
      },
      "outputs": [
        {
          "name": "stdout",
          "output_type": "stream",
          "text": [
            "Clasificador SVM\n",
            "Entrenando con 93 muestras y probando con 19 muestras\n",
            "Testing Accuracy = 52.63157894736842%\n",
            "Matriz de Confusión:\n",
            "[[10  0]\n",
            " [ 9  0]]\n",
            "SVM\n",
            "              precision    recall  f1-score   support\n",
            "\n",
            "        kick       0.53      1.00      0.69        10\n",
            "       snare       0.00      0.00      0.00         9\n",
            "\n",
            "    accuracy                           0.53        19\n",
            "   macro avg       0.26      0.50      0.34        19\n",
            "weighted avg       0.28      0.53      0.36        19\n",
            "\n"
          ]
        }
      ],
      "source": [
        "svm_results = ClassifierSVM(X_train_spectralCentroid, Y_train, X_test_spectralCentroid, Y_test)"
      ]
    },
    {
      "cell_type": "markdown",
      "id": "baeb4bd0-1424-463d-9dac-850c23929e9d",
      "metadata": {
        "id": "baeb4bd0-1424-463d-9dac-850c23929e9d"
      },
      "source": [
        "Los descriptores de frecuencia no parecen ser tan útiles para distinguir los dos tipos de sonido pues el desempeño baja notablemente, se puede ver que ambos obtienen el mismo valor de accuracy (0.53) por lo que los desempeños parecen equivalentes, sin embargo, se puede ver que el resto de las métricas diferencian los modelos, tal parece que KNN con 5 vecinos tiene mejor recall para la clase \"snare\" pero la SVM tiene mejor recall para kick, se pueden ver algunas diferencias en el puntaje F1 de ambas también."
      ]
    },
    {
      "cell_type": "markdown",
      "id": "e492f442-7706-4b1c-8881-387189785686",
      "metadata": {
        "id": "e492f442-7706-4b1c-8881-387189785686"
      },
      "source": [
        "# Pregunta 6\n",
        "\n",
        "### Clasificando timbres\n",
        "En la carpeta 'Melodic' hay sonidos de instrumentos melódicos: 'Violin', 'Trumpet' y 'Sax'.\n",
        "Utilizando los descriptores frecuenciales que considere pertinentes clasifique dichos sonidos.\n",
        "Utilice las muestras de las carpeta 'train' para entrenar y las de la carpeta 'test' para evaluar.\n",
        "Para cada clasificador entregue la matriz de confusión y la accuracy.\n",
        "\n",
        "* Utilice KNN con la cantidad de vecinos que estime pertinentes y suba sus resultado\n",
        "* Utilice SVM, con los parámetros que desee y suba sus resultados\n",
        "* Utilizando MFCC como descriptores, clasifique utilizando KNN.\n",
        "\n",
        "Los Mel Frequency Cepstral Coeﬃcients (Coeﬁcientes Cepstrales en las Frecuencias de Mel) o MFCCs son coeﬁcientes para la representación del habla basados en la percepción auditiva humana.\n",
        "\n",
        "Comente los tres resultados obtenidos."
      ]
    },
    {
      "cell_type": "code",
      "execution_count": null,
      "id": "31908079-3317-4c8b-a60a-fe255393f206",
      "metadata": {
        "id": "31908079-3317-4c8b-a60a-fe255393f206"
      },
      "outputs": [],
      "source": [
        "X_violin_train_pre = [wavfile.read(data_path) for data_path in glob('Timbre/trainViolin/*.wav')]\n",
        "X_violin_test_pre = [wavfile.read(data_path) for data_path in glob('Timbre/testViolin/*.wav')]\n",
        "\n",
        "X_trumpet_train_pre = [wavfile.read(data_path) for data_path in glob('Timbre/trainTrumpet/*.wav')]\n",
        "X_trumpet_test_pre = [wavfile.read(data_path) for data_path in glob('Timbre/testTrumpet/*.wav')]\n",
        "\n",
        "X_sax_train_pre = [wavfile.read(data_path) for data_path in glob('Timbre/trainSax/*.wav')]\n",
        "X_sax_test_pre = [wavfile.read(data_path) for data_path in glob('Timbre/testSax/*.wav')]"
      ]
    },
    {
      "cell_type": "markdown",
      "id": "e8d25cf5-4f75-46b0-836e-00c5698aa0f7",
      "metadata": {
        "id": "e8d25cf5-4f75-46b0-836e-00c5698aa0f7"
      },
      "source": [
        "Como descriptor de frecuencia voy a volver a utilizar centroide espectral, además de agregar MFCC para le pregunta 3"
      ]
    },
    {
      "cell_type": "code",
      "execution_count": null,
      "id": "b98781a3-637a-4489-8a57-f6d287681cf4",
      "metadata": {
        "id": "b98781a3-637a-4489-8a57-f6d287681cf4"
      },
      "outputs": [],
      "source": [
        "X_train_spectral_pre = [x[1].astype(float) for x in np.vstack((X_violin_train_pre, X_trumpet_train_pre, X_sax_train_pre))]\n",
        "X_test_spectral_pre = [x[1].astype(float) for x in np.vstack([X_violin_test_pre, X_trumpet_test_pre, X_sax_test_pre])]\n",
        "\n",
        "max_length = np.max([array.shape[0] for array in [x for x in X_train_spectral_pre+X_test_spectral_pre]])\n",
        "\n",
        "X_train_mfcc  = np.vstack([mfcc(np.pad(x, (0,max_length-x.shape[0])).astype(float), sr = 44100).reshape(1,-1) for x in X_train_spectral_pre])\n",
        "X_train_spectralCentroid  = np.vstack([spectral_centroid(np.pad(x, (0,max_length-x.shape[0])).astype(float), sr = 44100, n_fft=64,\n",
        "                                                         hop_length=64)[0] for x in X_train_spectral_pre])\n",
        "\n",
        "X_test_mfcc = np.vstack([mfcc(np.pad(x, (0,max_length-x.shape[0])).astype(float), sr = 44100).reshape(1,-1) for x in X_test_spectral_pre])\n",
        "X_test_spectralCentroid = np.vstack([spectral_centroid(np.pad(x, (0,max_length-x.shape[0])).astype(float), sr = 44100, n_fft=64,\n",
        "                                                       hop_length=64)[0] for x in X_test_spectral_pre])\n",
        "\n",
        "Y_train = np.array(['violin']*len(X_violin_train_pre) + ['trumpet']*len(X_trumpet_train_pre) + ['sax']*len(X_sax_train_pre))\n",
        "Y_test = np.array(['violin']*len(X_violin_test_pre) + ['trumpet']*len(X_trumpet_test_pre) + ['sax']*len(X_sax_test_pre))\n"
      ]
    },
    {
      "cell_type": "markdown",
      "id": "dc566d03-a665-4eef-ae52-f43e8f1b0d46",
      "metadata": {
        "id": "dc566d03-a665-4eef-ae52-f43e8f1b0d46"
      },
      "source": [
        "### Descriptores de Frecuencia - Centroide Espectral"
      ]
    },
    {
      "cell_type": "markdown",
      "id": "3e154d5c-eb19-44dd-a8a7-0e948b47ab05",
      "metadata": {
        "id": "3e154d5c-eb19-44dd-a8a7-0e948b47ab05",
        "tags": []
      },
      "source": [
        "### KNN - 3 vecinos"
      ]
    },
    {
      "cell_type": "code",
      "execution_count": null,
      "id": "18091638-36df-447d-bccc-0ae9d157223f",
      "metadata": {
        "id": "18091638-36df-447d-bccc-0ae9d157223f",
        "outputId": "12a4a9e5-1081-4576-e74e-ce01b7961c00"
      },
      "outputs": [
        {
          "name": "stdout",
          "output_type": "stream",
          "text": [
            "Clasificador KNN de 3 vecinos\n",
            "(34,)\n",
            "(34,)\n",
            "Entrenando con 178 muestras y probando con 34 muestras\n",
            "Testing Accuracy = 100.0%\n",
            "Matriz de Confusión:\n",
            "[[11  0  0]\n",
            " [ 0 12  0]\n",
            " [ 0  0 11]]\n",
            "KNN - 3 vecinos\n",
            "              precision    recall  f1-score   support\n",
            "\n",
            "         sax       1.00      1.00      1.00        11\n",
            "     trumpet       1.00      1.00      1.00        12\n",
            "      violin       1.00      1.00      1.00        11\n",
            "\n",
            "    accuracy                           1.00        34\n",
            "   macro avg       1.00      1.00      1.00        34\n",
            "weighted avg       1.00      1.00      1.00        34\n",
            "\n"
          ]
        }
      ],
      "source": [
        "knn_results = ClassifierKNN(X_train_spectralCentroid, Y_train, X_test_spectralCentroid, Y_test, 3)"
      ]
    },
    {
      "cell_type": "markdown",
      "id": "87f7beef-53ce-4882-a39b-784a01808202",
      "metadata": {
        "id": "87f7beef-53ce-4882-a39b-784a01808202"
      },
      "source": [
        "### SVM - Parámetros por defecto"
      ]
    },
    {
      "cell_type": "code",
      "execution_count": null,
      "id": "4ee61e4e-e6c3-44d6-a896-a9bcb6c5f33a",
      "metadata": {
        "id": "4ee61e4e-e6c3-44d6-a896-a9bcb6c5f33a",
        "outputId": "3010deac-10e0-4302-96c7-47347218a7b0"
      },
      "outputs": [
        {
          "name": "stdout",
          "output_type": "stream",
          "text": [
            "Clasificador SVM\n",
            "Entrenando con 178 muestras y probando con 34 muestras\n",
            "Testing Accuracy = 97.05882352941177%\n",
            "Matriz de Confusión:\n",
            "[[11  0  0]\n",
            " [ 0 12  0]\n",
            " [ 1  0 10]]\n",
            "SVM\n",
            "              precision    recall  f1-score   support\n",
            "\n",
            "         sax       0.92      1.00      0.96        11\n",
            "     trumpet       1.00      1.00      1.00        12\n",
            "      violin       1.00      0.91      0.95        11\n",
            "\n",
            "    accuracy                           0.97        34\n",
            "   macro avg       0.97      0.97      0.97        34\n",
            "weighted avg       0.97      0.97      0.97        34\n",
            "\n"
          ]
        }
      ],
      "source": [
        "svm_results = ClassifierSVM(X_train_spectralCentroid, Y_train, X_test_spectralCentroid, Y_test)"
      ]
    },
    {
      "cell_type": "markdown",
      "id": "3ad87119-9c6a-4f32-b799-25bf3843a80e",
      "metadata": {
        "id": "3ad87119-9c6a-4f32-b799-25bf3843a80e"
      },
      "source": [
        "### MFCC"
      ]
    },
    {
      "cell_type": "markdown",
      "id": "b05699ba-7b0b-4fab-a311-af1e8a971110",
      "metadata": {
        "id": "b05699ba-7b0b-4fab-a311-af1e8a971110",
        "tags": []
      },
      "source": [
        "### KNN - 3 vecinos"
      ]
    },
    {
      "cell_type": "code",
      "execution_count": null,
      "id": "30d87ffc-1818-4ed5-af4b-91d9d4ea757c",
      "metadata": {
        "id": "30d87ffc-1818-4ed5-af4b-91d9d4ea757c",
        "outputId": "4bedebf5-f8d3-4121-fdb3-ce23efa5bed2"
      },
      "outputs": [
        {
          "name": "stdout",
          "output_type": "stream",
          "text": [
            "Clasificador KNN de 3 vecinos\n",
            "(34,)\n",
            "(34,)\n",
            "Entrenando con 178 muestras y probando con 34 muestras\n",
            "Testing Accuracy = 100.0%\n",
            "Matriz de Confusión:\n",
            "[[11  0  0]\n",
            " [ 0 12  0]\n",
            " [ 0  0 11]]\n",
            "KNN - 3 vecinos\n",
            "              precision    recall  f1-score   support\n",
            "\n",
            "         sax       1.00      1.00      1.00        11\n",
            "     trumpet       1.00      1.00      1.00        12\n",
            "      violin       1.00      1.00      1.00        11\n",
            "\n",
            "    accuracy                           1.00        34\n",
            "   macro avg       1.00      1.00      1.00        34\n",
            "weighted avg       1.00      1.00      1.00        34\n",
            "\n"
          ]
        }
      ],
      "source": [
        "knn_results = ClassifierKNN(X_train_mfcc, Y_train, X_test_mfcc, Y_test, 3)"
      ]
    },
    {
      "cell_type": "markdown",
      "id": "2fd716c0-deb9-40c8-8939-910bfe735e29",
      "metadata": {
        "id": "2fd716c0-deb9-40c8-8939-910bfe735e29"
      },
      "source": [
        "### SVM - Parámetros por defecto"
      ]
    },
    {
      "cell_type": "code",
      "execution_count": null,
      "id": "367cc151-689e-4d32-b191-122ac20d733b",
      "metadata": {
        "id": "367cc151-689e-4d32-b191-122ac20d733b",
        "outputId": "d85b4fe2-c76b-471e-cb6c-ea4aace5acc4"
      },
      "outputs": [
        {
          "name": "stdout",
          "output_type": "stream",
          "text": [
            "Clasificador SVM\n",
            "Entrenando con 178 muestras y probando con 34 muestras\n",
            "Testing Accuracy = 100.0%\n",
            "Matriz de Confusión:\n",
            "[[11  0  0]\n",
            " [ 0 12  0]\n",
            " [ 0  0 11]]\n",
            "SVM\n",
            "              precision    recall  f1-score   support\n",
            "\n",
            "         sax       1.00      1.00      1.00        11\n",
            "     trumpet       1.00      1.00      1.00        12\n",
            "      violin       1.00      1.00      1.00        11\n",
            "\n",
            "    accuracy                           1.00        34\n",
            "   macro avg       1.00      1.00      1.00        34\n",
            "weighted avg       1.00      1.00      1.00        34\n",
            "\n"
          ]
        }
      ],
      "source": [
        "svm_results = ClassifierSVM(X_train_mfcc, Y_train, X_test_mfcc, Y_test)"
      ]
    },
    {
      "cell_type": "markdown",
      "id": "3c9a3f98-45e3-4fae-b674-1ff61f436fd6",
      "metadata": {
        "id": "3c9a3f98-45e3-4fae-b674-1ff61f436fd6"
      },
      "source": [
        "# Pregunta 7\n",
        "### Clasificando Estilos Musicales\n",
        "En la carpeta 'Genres' hay sonidos de distintos géneros musicales.\n",
        "\n",
        "Utilizando los descriptores que considere pertinentes y su clasificador preferido, clasifique dichos audios.\n",
        "\n",
        "* Para cada estilo utilice el 80% de las muestras para entrenamiento y el 20% para testeo.\n",
        "\n",
        "* Entregue la matriz de confusión y la accuracy.\n",
        "\n",
        "Comente resultados de la matriz de confusión. ¿Para qué géneros funciona mejor?"
      ]
    },
    {
      "cell_type": "code",
      "execution_count": null,
      "id": "64038bc7-34c3-420c-b7b9-4508d5d724fd",
      "metadata": {
        "id": "64038bc7-34c3-420c-b7b9-4508d5d724fd"
      },
      "outputs": [],
      "source": [
        "X_classical_pre = [wavfile.read(data_path) for data_path in glob('Genres/classical/*.wav')]\n",
        "X_disco_pre = [wavfile.read(data_path) for data_path in glob('Genres/disco/*.wav')]\n",
        "X_jazz_pre = [wavfile.read(data_path) for data_path in glob('Genres/jazz/*.wav')]\n",
        "X_metal_pre = [wavfile.read(data_path) for data_path in glob('Genres/metal/*.wav')]\n",
        "X_reggae_pre = [wavfile.read(data_path) for data_path in glob('Genres/reggae/*.wav')]"
      ]
    },
    {
      "cell_type": "markdown",
      "id": "ab4d8c3a-f768-4966-a67b-92dffee7312c",
      "metadata": {
        "id": "ab4d8c3a-f768-4966-a67b-92dffee7312c"
      },
      "source": [
        "Como descriptor de frecuencia voy a volver a utilizar centroide espectral, además de agregar MFCC para le pregunta 3"
      ]
    },
    {
      "cell_type": "code",
      "execution_count": null,
      "id": "80569940-edfc-4529-8b03-edb5282e0a2a",
      "metadata": {
        "id": "80569940-edfc-4529-8b03-edb5282e0a2a"
      },
      "outputs": [],
      "source": [
        "X = [x[1].astype(float) for x in np.vstack((X_classical_pre, X_disco_pre, X_jazz_pre, X_metal_pre, X_reggae_pre))]\n",
        "\n",
        "max_length = np.max([array.shape[0] for array in [x[1] for x in X_classical_pre + X_disco_pre + X_jazz_pre + X_metal_pre + X_reggae_pre]])\n",
        "\n",
        "X  = np.vstack([mfcc(np.pad(x, (0,max_length-x.shape[0])).astype(float), sr = 44100).reshape(1,-1) for x in X])\n",
        "Y = np.array(['classical']*len(X_classical_pre) + ['disco']*len(X_disco_pre) + ['jazz']*len(X_jazz_pre) + \\\n",
        "                                            ['metal']*len(X_metal_pre) + ['reggae']*len(X_reggae_pre))\n"
      ]
    },
    {
      "cell_type": "code",
      "execution_count": null,
      "id": "f9a68e30-7dc8-4da3-a1c8-489e43b5ca06",
      "metadata": {
        "id": "f9a68e30-7dc8-4da3-a1c8-489e43b5ca06"
      },
      "outputs": [],
      "source": [
        "x_train, x_test, y_train, y_test = train_test_split(X, Y, test_size = 0.2, random_state = 15)"
      ]
    },
    {
      "cell_type": "markdown",
      "id": "a510e2ea-9086-4c2c-b63a-490a306911c4",
      "metadata": {
        "id": "a510e2ea-9086-4c2c-b63a-490a306911c4"
      },
      "source": [
        "### MFCC"
      ]
    },
    {
      "cell_type": "markdown",
      "id": "5342f1de-af67-43ef-9e89-afd770fd6f93",
      "metadata": {
        "id": "5342f1de-af67-43ef-9e89-afd770fd6f93",
        "tags": []
      },
      "source": [
        "### KNN - 3 vecinos"
      ]
    },
    {
      "cell_type": "code",
      "execution_count": null,
      "id": "049acbbe-da51-4c21-94bc-3fa1d5665a50",
      "metadata": {
        "id": "049acbbe-da51-4c21-94bc-3fa1d5665a50",
        "outputId": "494bd71d-3cde-498d-a3d1-37e2f7c94c11"
      },
      "outputs": [
        {
          "name": "stdout",
          "output_type": "stream",
          "text": [
            "Clasificador KNN de 3 vecinos\n",
            "(32,)\n",
            "(32,)\n",
            "Entrenando con 128 muestras y probando con 32 muestras\n",
            "Testing Accuracy = 68.75%\n",
            "Matriz de Confusión:\n",
            "[[6 0 0 0 0]\n",
            " [0 3 0 2 0]\n",
            " [2 0 7 0 0]\n",
            " [0 0 0 6 0]\n",
            " [0 0 6 0 0]]\n",
            "KNN - 3 vecinos\n",
            "              precision    recall  f1-score   support\n",
            "\n",
            "   classical       0.75      1.00      0.86         6\n",
            "       disco       1.00      0.60      0.75         5\n",
            "        jazz       0.54      0.78      0.64         9\n",
            "       metal       0.75      1.00      0.86         6\n",
            "      reggae       0.00      0.00      0.00         6\n",
            "\n",
            "    accuracy                           0.69        32\n",
            "   macro avg       0.61      0.68      0.62        32\n",
            "weighted avg       0.59      0.69      0.62        32\n",
            "\n"
          ]
        }
      ],
      "source": [
        "# knn = KNeighborsClassifier(n_neighbors=3).fit(x_train, y_train)\n",
        "knn_results = ClassifierKNN(x_train, y_train, x_test, y_test, 3)"
      ]
    }
  ],
  "metadata": {
    "colab": {
      "provenance": [],
      "toc_visible": true,
      "include_colab_link": true
    },
    "interpreter": {
      "hash": "e7ddcd07d5de8a7050295daed82cc7fbfe24885480ced4dbcd0664268325b99a"
    },
    "kernelspec": {
      "display_name": "Python 3.7.8 64-bit",
      "language": "python",
      "name": "python3"
    },
    "language_info": {
      "codemirror_mode": {
        "name": "ipython",
        "version": 3
      },
      "file_extension": ".py",
      "mimetype": "text/x-python",
      "name": "python",
      "nbconvert_exporter": "python",
      "pygments_lexer": "ipython3",
      "version": "3.7.8"
    }
  },
  "nbformat": 4,
  "nbformat_minor": 5
}