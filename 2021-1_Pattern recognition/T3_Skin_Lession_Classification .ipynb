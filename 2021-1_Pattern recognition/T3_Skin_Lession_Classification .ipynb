{
  "nbformat": 4,
  "nbformat_minor": 0,
  "metadata": {
    "colab": {
      "provenance": [],
      "toc_visible": true,
      "include_colab_link": true
    },
    "kernelspec": {
      "display_name": "Python 3",
      "language": "python",
      "name": "python3"
    },
    "language_info": {
      "codemirror_mode": {
        "name": "ipython",
        "version": 3
      },
      "file_extension": ".py",
      "mimetype": "text/x-python",
      "name": "python",
      "nbconvert_exporter": "python",
      "pygments_lexer": "ipython3",
      "version": "3.8.5"
    }
  },
  "cells": [
    {
      "cell_type": "markdown",
      "metadata": {
        "id": "view-in-github",
        "colab_type": "text"
      },
      "source": [
        "<a href=\"https://colab.research.google.com/github/CFVV/MSc-assignments/blob/main/T3_Skin_Lession_Classification%20.ipynb\" target=\"_parent\"><img src=\"https://colab.research.google.com/assets/colab-badge.svg\" alt=\"Open In Colab\"/></a>"
      ]
    },
    {
      "cell_type": "markdown",
      "metadata": {
        "id": "ldHBGHWGon-Y"
      },
      "source": [
        "# Proyecto SLC: Skin Lession Classification (clasificación de lesiones de piel / lunares)\n",
        "[Curso de Reconocimiento de Patrones](https://github.com/domingomery/patrones/)\n",
        "\n",
        "Departamento de Ciencia de la Computación\n",
        "\n",
        "Pontificia Universidad Catolica de Chile\n",
        "\n",
        "Integrantes:\n",
        "\n",
        "- Ignacio Astorga\n",
        "- Camila Vera\n",
        "- Javiera Inostroza - 16206797\n",
        "- Samuel Zúñiga - 16637747\n",
        "- Martín Ocqueteau - 15636453\n",
        "\n",
        "\n",
        "---\n",
        "\n",
        "\n",
        "En el proyecto se busca diseñar un reconocedor de 7 tipos distintos de lesiones. Estas 7 clases corresponden a:\n",
        "\n",
        "- Clase 0: 'akiec' - actinic keratosis\n",
        "\n",
        "- Clase 1: 'bcc' - basal cell carcinoma\n",
        "\n",
        "- Clase 2: 'bkl' - benign keratosis\n",
        "\n",
        "- Clase 3: 'df' - dermatofibroma\n",
        "\n",
        "- Clase 4: 'mel' - melanoma\n",
        "\n",
        "- Clase 5: 'nv' - melanocytic nevus\n",
        "\n",
        "- Clase 6: 'vasc' - vascular lesion\n",
        "\n"
      ]
    },
    {
      "cell_type": "markdown",
      "metadata": {
        "id": "R5C53BYjpNl7"
      },
      "source": [
        "# Setup inicial\n"
      ]
    },
    {
      "cell_type": "code",
      "metadata": {
        "id": "WnI1EwLlthnu"
      },
      "source": [
        "from IPython.display import clear_output"
      ],
      "execution_count": null,
      "outputs": []
    },
    {
      "cell_type": "markdown",
      "metadata": {
        "id": "KRRQcZTFtkjw"
      },
      "source": [
        "Descarga de PyXvis"
      ]
    },
    {
      "cell_type": "code",
      "metadata": {
        "colab": {
          "base_uri": "https://localhost:8080/"
        },
        "id": "E6bzajRftFkp",
        "outputId": "7cc8af07-98a3-408a-d2a8-e69460f496b6"
      },
      "source": [
        "#!wget https://www.dropbox.com/s/54jfodpv1h4d0kl/pyxvis.zip\n",
        "#!unzip pyxvis.zip\n",
        "#!rm pyxvis.zip\n",
        "clear_output()\n",
        "print('PyXvis library downloaded.')"
      ],
      "execution_count": null,
      "outputs": [
        {
          "output_type": "stream",
          "text": [
            "PyXvis library downloaded.\n"
          ],
          "name": "stdout"
        }
      ]
    },
    {
      "cell_type": "markdown",
      "metadata": {
        "id": "pFb25-Whl4sn"
      },
      "source": [
        "Instalación de PyBalu y PyXvis"
      ]
    },
    {
      "cell_type": "code",
      "metadata": {
        "colab": {
          "base_uri": "https://localhost:8080/"
        },
        "id": "OGxkh8uol2e3",
        "outputId": "92192146-a414-494a-edcc-0f587e39e1f9"
      },
      "source": [
        "from IPython.display import clear_output\n",
        "!pip install scipy==1.2\n",
        "!pip3 install pybalu==0.2.5\n",
        "!pip install ./pyxvis\n",
        "clear_output()\n",
        "print('PyBalu library installed.')\n",
        "print('PyXvis library installed.')"
      ],
      "execution_count": null,
      "outputs": [
        {
          "output_type": "stream",
          "text": [
            "PyBalu library installed.\n",
            "PyXvis library installed.\n"
          ],
          "name": "stdout"
        }
      ]
    },
    {
      "cell_type": "markdown",
      "metadata": {
        "id": "z8vv7TODnGll"
      },
      "source": [
        "Librerías para extracción de imágenes, selección de características. [Me faltan agregar más librerías aquí]"
      ]
    },
    {
      "cell_type": "code",
      "metadata": {
        "id": "BgWN1zwvmy25"
      },
      "source": [
        "import numpy as np\n",
        "import matplotlib.pyplot as plt\n",
        "#from   google.colab.patches import cv2_imshow\n",
        "import os, fnmatch\n",
        "import cv2\n",
        "from   tqdm.auto import tqdm\n",
        "import numpy as np\n",
        "from skimage.measure import label"
      ],
      "execution_count": null,
      "outputs": []
    },
    {
      "cell_type": "code",
      "metadata": {
        "id": "UmFpZcKXrFb6"
      },
      "source": [
        "from pyxvis.features.extraction import extract_features"
      ],
      "execution_count": null,
      "outputs": []
    },
    {
      "cell_type": "markdown",
      "metadata": {
        "id": "sOcwbiQYYPag"
      },
      "source": [
        "## Base de datos\n",
        "\n",
        "Se utilizará la siguiente base de datos de lunares, la cual se divide en:\n",
        "\n",
        "\n",
        "* `train`: 4200 imágenes a color y 4200 imágenes binarias de segmentación (600 por cada clase).\n",
        "\n",
        "* `test`: 350 imágenes a color y 350 imágenes binarias de segmentación (50 por clase).\n",
        "\n",
        "* `metadata`: Metadata registrada por personal médico por imagen.\n"
      ]
    },
    {
      "cell_type": "code",
      "metadata": {
        "colab": {
          "base_uri": "https://localhost:8080/"
        },
        "id": "rj35mA-BlG_1",
        "outputId": "db29cb52-96e2-4488-d836-b163307ccc2d"
      },
      "source": [
        "!wget https://www.dropbox.com/s/rdjxr5u0p4thc8j/lunares7p.zip\n",
        "!unzip lunares7p.zip > unzip.txt\n",
        "clear_output()\n",
        "print('Base de datos cargada')"
      ],
      "execution_count": null,
      "outputs": [
        {
          "output_type": "stream",
          "text": [
            "Base de datos cargada\n"
          ],
          "name": "stdout"
        }
      ]
    },
    {
      "cell_type": "markdown",
      "metadata": {
        "id": "7Sbr34ZOc9G1"
      },
      "source": [
        "Lectura de imágenes"
      ]
    },
    {
      "cell_type": "code",
      "metadata": {
        "id": "yJCNi97Zc6WP"
      },
      "source": [
        "import matplotlib.pyplot as plt\n",
        "import torch\n",
        "import torchvision\n",
        "from   torchvision import transforms\n",
        "from   torchvision.datasets import ImageFolder\n",
        "from   torch.utils.data.dataloader import DataLoader\n",
        "from   torch.utils.data import random_split\n",
        "from   sklearn.metrics import confusion_matrix, accuracy_score"
      ],
      "execution_count": null,
      "outputs": []
    },
    {
      "cell_type": "markdown",
      "metadata": {
        "id": "r0M7pQDjdSMS"
      },
      "source": [
        "Se definen los directorios y se cargan las imágenes"
      ]
    },
    {
      "cell_type": "code",
      "metadata": {
        "colab": {
          "base_uri": "https://localhost:8080/"
        },
        "id": "VFbxXujsdJwl",
        "outputId": "12e3b627-929d-4772-e2ac-b157bd878f39"
      },
      "source": [
        "train_dir = \"lunares7p/train/\"\n",
        "test_dir  = \"lunares7p/test/\"\n",
        "\n",
        "train_set = ImageFolder(train_dir,transform = transforms.Compose([\n",
        "    transforms.Resize((256,256)),transforms.RandomHorizontalFlip(),transforms.ToTensor()]))\n",
        "\n",
        "test_set = ImageFolder(test_dir,transforms.Compose([\n",
        "    transforms.Resize((256,256)),transforms.ToTensor()]))\n",
        "\n",
        "img,_ = train_set[0]\n",
        "print('Size image: '+ str(img.shape))\n",
        "print('   Classes: ', train_set.classes)"
      ],
      "execution_count": null,
      "outputs": [
        {
          "output_type": "stream",
          "text": [
            "Size image: torch.Size([3, 256, 256])\n",
            "   Classes:  ['images', 'segmentation']\n"
          ],
          "name": "stdout"
        }
      ]
    },
    {
      "cell_type": "markdown",
      "metadata": {
        "id": "_SvvH6KMea1H"
      },
      "source": [
        "Se definen los conjuntos de entrenamiento y de prueba"
      ]
    },
    {
      "cell_type": "code",
      "metadata": {
        "id": "FGo3BOUDdM19"
      },
      "source": [
        "Xtrain = list()\n",
        "Xtest = list()\n",
        "ytrain = list()\n",
        "ytest = list()"
      ],
      "execution_count": null,
      "outputs": []
    },
    {
      "cell_type": "code",
      "metadata": {
        "id": "8bcXINazdqPs"
      },
      "source": [
        "for i in range(len(train_set)):\n",
        "    if i in range(0, 600) or i in range(4200, 4800):\n",
        "        class_ = 0\n",
        "    elif i in range(600, 1200) or i in range(4800, 5400):\n",
        "        class_ = 1\n",
        "    elif i in range(1200, 1800) or i in range(5400, 6000):\n",
        "        class_ = 2\n",
        "    elif i in range(1800, 2400) or i in range(6000, 6600):\n",
        "        class_ = 3\n",
        "    elif i in range(2400, 3000) or i in range(6600, 7200):\n",
        "        class_ = 4\n",
        "    elif i in range(3000, 3600) or i in range(7200, 7800):\n",
        "        class_ = 5\n",
        "    elif i in range(3600, 4200) or i in range(7800, 8400):\n",
        "        class_ = 6\n",
        "\n",
        "    x = train_set.samples[i][0]\n",
        "    img = plt.imread(x)\n",
        "    Xtrain.append(img)\n",
        "    ytrain.append(class_)"
      ],
      "execution_count": null,
      "outputs": []
    },
    {
      "cell_type": "code",
      "metadata": {
        "id": "Dt1UIBcxdwmk"
      },
      "source": [
        "for i in range(len(test_set)):\n",
        "    if i in range(0, 50) or i in range(350, 400):\n",
        "        class_ = 0\n",
        "    elif i in range(50, 100) or i in range(400, 450):\n",
        "        class_ = 1\n",
        "    elif i in range(100, 150) or i in range(450, 500):\n",
        "        class_ = 2\n",
        "    elif i in range(150, 200) or i in range(500, 550):\n",
        "        class_ = 3\n",
        "    elif i in range(200, 250) or i in range(550, 600):\n",
        "        class_ = 4\n",
        "    elif i in range(250, 300) or i in range(600, 650):\n",
        "        class_ = 5\n",
        "    elif i in range(300, 350) or i in range(650, 700):\n",
        "        class_ = 6\n",
        "\n",
        "  # class_ = (i % 350) // 50  # Creo que esto es equivalente\n",
        "\n",
        "    x = test_set.samples[i][0]\n",
        "    img = plt.imread(x)\n",
        "    Xtest.append(img)\n",
        "    ytest.append(class_)"
      ],
      "execution_count": null,
      "outputs": []
    },
    {
      "cell_type": "markdown",
      "metadata": {
        "id": "my1XL1Brewn2"
      },
      "source": [
        "Se separan los conjuntos de training y testing en imágenes y segmentaciones"
      ]
    },
    {
      "cell_type": "code",
      "metadata": {
        "id": "gBiXTBMNd20r"
      },
      "source": [
        "Xtrain_img = Xtrain[:4200]\n",
        "Xtrain_seg = Xtrain[4200:]\n",
        "Xtest_img = Xtest[:350]\n",
        "Xtest_seg = Xtest[350:]\n",
        "\n",
        "ytrain_img = ytrain[:4200]\n",
        "ytrain_seg = ytrain[4200:]\n",
        "ytest_img = ytest[:350]\n",
        "ytest_seg = ytest[350:]"
      ],
      "execution_count": null,
      "outputs": []
    },
    {
      "cell_type": "markdown",
      "metadata": {
        "id": "dYCCyCrTYVYQ"
      },
      "source": [
        "## Funciones necesarias"
      ]
    },
    {
      "cell_type": "code",
      "metadata": {
        "id": "wgGPMxirNw0W",
        "tags": []
      },
      "source": [
        "# Clasificación usando KNN con n_vecinos\n",
        "def ClassifierKNN(Xtrain,ytrain,Xtest,ytest,n_vecinos=3,echo ='on'):\n",
        "    knn = KNeighborsClassifier(n_neighbors=n_vecinos)\n",
        "    knn.fit(Xtrain, ytrain)\n",
        "    ypred        = knn.predict(Xtest)\n",
        "    acc          = accuracy_score(ytest,ypred)\n",
        "    C = confusion_matrix(ytest,ypred)\n",
        "    if echo == 'on':\n",
        "        print('Entrenando con '+str(Xtrain.shape[0])+' muestras y probando con '+str(Xtest.shape[0])+' muestras')\n",
        "        print('Los datos tienen '+str(Xtrain.shape[1])+' features')\n",
        "\n",
        "    acc_st = \"{:.2f}\".format(acc*100)\n",
        "\n",
        "    print('Testing Accuracy = '+acc_st+'%')\n",
        "    print()\n",
        "    #print('Matriz de Confusión:')\n",
        "    #print(C)\n",
        "    heatmap(C, annot=True, cbar=None, cmap=\"Blues\")\n",
        "    plt.title(\"Confusion Matrix\"), plt.tight_layout()\n",
        "    plt.ylabel(\"True Class\"), plt.xlabel(\"Predicted Class\")\n",
        "    plt.show()\n",
        "    return acc,C\n",
        "\n",
        "\n"
      ],
      "execution_count": null,
      "outputs": []
    },
    {
      "cell_type": "code",
      "metadata": {
        "id": "OXQrfg9wtwp3"
      },
      "source": [
        "def dirfiles(img_path,img_ext):\n",
        "    img_names = fnmatch.filter(sorted(os.listdir(img_path)),img_ext)\n",
        "    return img_names"
      ],
      "execution_count": null,
      "outputs": []
    },
    {
      "cell_type": "code",
      "metadata": {
        "id": "FXCCmWdWtwp3"
      },
      "source": [
        "def GetChannels(img):\n",
        "  # Retorna la imágen en escala de grises, rojo, verde y azúl.\n",
        "    rgb_weights = [0.2989, 0.5870, 0.1140]\n",
        "    gray_image = np.dot(img[...,:3], rgb_weights)\n",
        "    red_image = img[:,:,0]\n",
        "    green_image = img[:,:,1]\n",
        "    blue_image = img[:,:,2]\n",
        "    return (gray_image, red_image, green_image, blue_image)"
      ],
      "execution_count": null,
      "outputs": []
    },
    {
      "cell_type": "markdown",
      "metadata": {
        "id": "nZO457KLMr4G"
      },
      "source": [
        "# Extracción de características básicas de intensidad\n",
        "\n",
        "(https://colab.research.google.com/drive/1PrBuK3vniTbpuKKdoCUrAqBYBhFI7T0r?usp=sharing#scrollTo=-aIm8OBNjJaM)"
      ]
    },
    {
      "cell_type": "code",
      "metadata": {
        "id": "3qIdssaCtDns"
      },
      "source": [
        "from pyxvis.processing.images import gradlog\n",
        "from skimage.measure import label"
      ],
      "execution_count": null,
      "outputs": []
    },
    {
      "cell_type": "code",
      "metadata": {
        "colab": {
          "base_uri": "https://localhost:8080/",
          "height": 258
        },
        "id": "4FvS7aQFtABq",
        "outputId": "9b1a0204-256a-4569-956b-bf9f078f3178"
      },
      "source": [
        "for img in Xtrain_img:\n",
        "    rgb_weights = [0.2989, 0.5870, 0.1140]\n",
        "    img = np.dot(img[...,:3], rgb_weights)\n",
        "    print(img.shape)\n",
        "    (N,M) = img.shape\n",
        "    e      = gradlog(img,1.25,4/250)\n",
        "    L      = label(~e)         # labeling of objects\n",
        "    n      = np.max(L)         # number of detected objects\n",
        "\n",
        "    K1     = np.zeros((N,M), dtype=bool)\n",
        "    K2     = np.zeros((N,M), dtype=bool)\n",
        "\n",
        "    # Analysis of each segmented object\n",
        "    for i in range(n):\n",
        "        R = L == i                                # binary image of object i\n",
        "        f = extract_features('basicgeo', bw=R*1)  # feature extraction for object i\n",
        "        area = f[4]\n",
        "\n",
        "        # recognition of potential defects according to the size\n",
        "        if area > 10 and area < 40:\n",
        "            K1 = np.bitwise_or(K1,R)\n",
        "            i0 = int(round(f[0]))\n",
        "            j0 = int(round(f[1]))\n",
        "            h  = int(round(f[2]/2))\n",
        "            w  = int(round(f[3]/2))\n",
        "            i1 = max(i0-h,0)\n",
        "            j1 = max(j0-w,0)\n",
        "            i2 = min(i0+h,N-1)\n",
        "            j2 = min(j0+w,M-1)\n",
        "            I  = img[i1:i2,j1:j2]\n",
        "            x  = extract_features('clp', img=I)\n",
        "            if x[5]>0.4:\n",
        "                K2 = np.bitwise_or(K2,R)\n",
        "  fig, ax = plt.subplots(1, 4, figsize=(16, 8))\n",
        "  ax[0].imshow(img, cmap='gray')\n",
        "  ax[0].set_title('Original image')\n",
        "  ax[0].axis('off')\n",
        "  ax[1].imshow(e, cmap='gray')\n",
        "  ax[1].set_title('Edges')\n",
        "  ax[1].axis('off')\n",
        "  ax[2].imshow(K1, cmap='gray')\n",
        "  ax[2].set_title('Potential defects')\n",
        "  ax[2].axis('off')\n",
        "  ax[3].imshow(K2, cmap='gray')\n",
        "  ax[3].set_title('Detected defects')\n",
        "  ax[3].axis('off')\n",
        "  plt.show()\n",
        "  break"
      ],
      "execution_count": null,
      "outputs": [
        {
          "output_type": "stream",
          "text": [
            "(256, 256)\n"
          ],
          "name": "stdout"
        },
        {
          "output_type": "display_data",
          "data": {
            "image/png": "[encoded data removed]",
            "text/plain": [
              "<Figure size 1152x576 with 4 Axes>"
            ]
          },
          "metadata": {
            "tags": [],
            "needs_background": "light"
          }
        }
      ]
    },
    {
      "cell_type": "markdown",
      "metadata": {
        "id": "JLVwmBtPstQu"
      },
      "source": [
        "# Extracción de características de textura"
      ]
    },
    {
      "cell_type": "markdown",
      "metadata": {
        "id": "CPsypwMetvA5"
      },
      "source": [
        "Se extraen las texturas de Haralick y las características LBP del canal canal rojo de las imágenes y su escala de grises."
      ]
    },
    {
      "cell_type": "code",
      "metadata": {
        "id": "EBDI-nzUq_En"
      },
      "source": [
        "from   pybalu.feature_extraction import lbp_features, hog_features, haralick_features, gabor_features"
      ],
      "execution_count": null,
      "outputs": []
    },
    {
      "cell_type": "markdown",
      "metadata": {
        "id": "dzZfpYKSt-nl"
      },
      "source": [
        "Para el train set:"
      ]
    },
    {
      "cell_type": "code",
      "metadata": {
        "id": "kWwtWemNju6M"
      },
      "source": [
        "K = 7\n",
        "N = 600\n",
        "\n",
        "Mlbp = 6*6*59\n",
        "Mhar = 28\n",
        "# Mgab = 67\n",
        "\n",
        "# TRAIN\n",
        "Xlbp_gray_train = np.zeros((K*N, Mlbp))\n",
        "Xhar_gray_train = np.zeros((K*N, Mhar))\n",
        "\n",
        "Xlbp_red_train = np.zeros((K*N, Mlbp))\n",
        "Xhar_red_train = np.zeros((K*N, Mhar))\n",
        "\n",
        "# Xgab_gray_train = np.zeros((KN_train, Mgab))\n",
        "# Xgab_red_train = np.zeros((KN_train, Mgab))\n"
      ],
      "execution_count": null,
      "outputs": []
    },
    {
      "cell_type": "markdown",
      "metadata": {
        "tags": [],
        "id": "glqsMmsBtwp5"
      },
      "source": [
        "# GABOR"
      ]
    },
    {
      "cell_type": "code",
      "metadata": {
        "id": "cBXNZWX7twp5"
      },
      "source": [
        "Camila/Documentos/Magister/ProyectoPatrones/lunares7p/train/images/class_0\n",
        "Camila/Documentos/Magister/ProyectoPatrones/lunares7p/train/images/class_0"
      ],
      "execution_count": null,
      "outputs": []
    },
    {
      "cell_type": "code",
      "metadata": {
        "id": "s-H2UZrItwp5",
        "outputId": "633bb0d6-015a-4ff3-db87-9b4b6efbafc9"
      },
      "source": [
        "pwd"
      ],
      "execution_count": null,
      "outputs": [
        {
          "output_type": "execute_result",
          "data": {
            "text/plain": [
              "'/media/cami/CamiHDD/Camila/Documentos/Magister/ProyectoPatrones'"
            ]
          },
          "metadata": {
            "tags": []
          },
          "execution_count": 34
        }
      ]
    },
    {
      "cell_type": "code",
      "metadata": {
        "id": "pIo3zXUYtwp5",
        "outputId": "eb4a7964-8703-44df-8d8c-c92ab4a9778b"
      },
      "source": [
        "fpath = 'train/images/class_'+str(j)+'/'\n",
        "fpath"
      ],
      "execution_count": null,
      "outputs": [
        {
          "output_type": "execute_result",
          "data": {
            "text/plain": [
              "'train/images/class_0/'"
            ]
          },
          "metadata": {
            "tags": []
          },
          "execution_count": 31
        }
      ]
    },
    {
      "cell_type": "code",
      "metadata": {
        "colab": {
          "referenced_widgets": [
            "9f0805466c7e4034862ab03a16841f50",
            "7ca3357fefa44696857dd8b11791e4ac",
            "8fb3fef773914e53af91ad976b9fcf38",
            "59c4b687a31b425fa0cc63c7b90fdd96",
            "1c480e8f6b3f4e659e2199f25c798d12",
            "8bd1127ffe3147f7a736d38eaba8d442",
            "f556afc0ed1d47089b831e1725871955"
          ]
        },
        "id": "PAYiVz0otwp6",
        "outputId": "f1fce11d-bfad-49ac-f5d9-25f59d040f76"
      },
      "source": [
        "# Extracción de características del Training\n",
        "K = 7 # 7 clases\n",
        "N = 600 # imagenes por clase\n",
        "\n",
        "Mgab = 39          # NUMERO DE ELEMENTOS DEL VECTOR DE gabor\n",
        "Xgab_red_train_6  = np.zeros((K*N,Mgab))    # K*N muestras (filas), y Mhog características (columnas)\n",
        "Xgab_gray_train_6 = np.zeros((K*N, Mgab))\n",
        "\n",
        "y = np.zeros((K*N),'int')           # ground truth (clasificacion ideal)\n",
        "\n",
        "t = 0\n",
        "print('Cargando imagenes y extrayendo características...')\n",
        "\n",
        "for j in range(K):            # para cada clase\n",
        "    fpath = 'lunares7p/train/images/class_'+str(j)+'/'\n",
        "    print('... de '+fpath)\n",
        "    img_list = dirfiles(fpath,'*.jpg')\n",
        "    print(j)\n",
        "\n",
        "    for i in tqdm(range(N)):  # para cada imagen de la clase\n",
        "        ### Lectura de la imagen\n",
        "        img_path = fpath + img_list[i]\n",
        "        img      = plt.imread(img_path)\n",
        "        RGB_img  = cv2.cvtColor(img, cv2.COLOR_BGR2RGB)\n",
        "        img_red  = RGB_img[:,:,1]\n",
        "        gray, red, green, blue = GetChannels(img)\n",
        "\n",
        "        ### Extracción de características\n",
        "        # Gabor con 4 rotaciones y 4 escalas\n",
        "        Xgab_red_train_6[t,:] = gabor_features(img_red, rotations=6, dilations=6)            # <= EXTRAE GABOR\n",
        "        # Gabor con 4 rotaciones y 4 escalas\n",
        "        Xgab_gray_train_6[t,:] = gabor_features(gray, rotations=6, dilations=6)            # <= EXTRAE GABOR\n",
        "\n",
        "        y[t] = j # la muestra t pertenece a la clase j\n",
        "        t = t+1"
      ],
      "execution_count": null,
      "outputs": [
        {
          "output_type": "stream",
          "text": [
            "Cargando imagenes y extrayendo características...\n",
            "... de lunares7p/train/images/class_0/\n",
            "0\n"
          ],
          "name": "stdout"
        },
        {
          "output_type": "display_data",
          "data": {
            "application/vnd.jupyter.widget-view+json": {
              "model_id": "9f0805466c7e4034862ab03a16841f50",
              "version_major": 2,
              "version_minor": 0
            },
            "text/plain": [
              "HBox(children=(HTML(value=''), FloatProgress(value=0.0, max=600.0), HTML(value='')))"
            ]
          },
          "metadata": {
            "tags": []
          }
        },
        {
          "output_type": "stream",
          "text": [
            "\n",
            "... de lunares7p/train/images/class_1/\n",
            "1\n"
          ],
          "name": "stdout"
        },
        {
          "output_type": "display_data",
          "data": {
            "application/vnd.jupyter.widget-view+json": {
              "model_id": "7ca3357fefa44696857dd8b11791e4ac",
              "version_major": 2,
              "version_minor": 0
            },
            "text/plain": [
              "HBox(children=(HTML(value=''), FloatProgress(value=0.0, max=600.0), HTML(value='')))"
            ]
          },
          "metadata": {
            "tags": []
          }
        },
        {
          "output_type": "stream",
          "text": [
            "\n",
            "... de lunares7p/train/images/class_2/\n",
            "2\n"
          ],
          "name": "stdout"
        },
        {
          "output_type": "display_data",
          "data": {
            "application/vnd.jupyter.widget-view+json": {
              "model_id": "8fb3fef773914e53af91ad976b9fcf38",
              "version_major": 2,
              "version_minor": 0
            },
            "text/plain": [
              "HBox(children=(HTML(value=''), FloatProgress(value=0.0, max=600.0), HTML(value='')))"
            ]
          },
          "metadata": {
            "tags": []
          }
        },
        {
          "output_type": "stream",
          "text": [
            "\n",
            "... de lunares7p/train/images/class_3/\n",
            "3\n"
          ],
          "name": "stdout"
        },
        {
          "output_type": "display_data",
          "data": {
            "application/vnd.jupyter.widget-view+json": {
              "model_id": "59c4b687a31b425fa0cc63c7b90fdd96",
              "version_major": 2,
              "version_minor": 0
            },
            "text/plain": [
              "HBox(children=(HTML(value=''), FloatProgress(value=0.0, max=600.0), HTML(value='')))"
            ]
          },
          "metadata": {
            "tags": []
          }
        },
        {
          "output_type": "stream",
          "text": [
            "\n",
            "... de lunares7p/train/images/class_4/\n",
            "4\n"
          ],
          "name": "stdout"
        },
        {
          "output_type": "display_data",
          "data": {
            "application/vnd.jupyter.widget-view+json": {
              "model_id": "1c480e8f6b3f4e659e2199f25c798d12",
              "version_major": 2,
              "version_minor": 0
            },
            "text/plain": [
              "HBox(children=(HTML(value=''), FloatProgress(value=0.0, max=600.0), HTML(value='')))"
            ]
          },
          "metadata": {
            "tags": []
          }
        },
        {
          "output_type": "stream",
          "text": [
            "\n",
            "... de lunares7p/train/images/class_5/\n",
            "5\n"
          ],
          "name": "stdout"
        },
        {
          "output_type": "display_data",
          "data": {
            "application/vnd.jupyter.widget-view+json": {
              "model_id": "8bd1127ffe3147f7a736d38eaba8d442",
              "version_major": 2,
              "version_minor": 0
            },
            "text/plain": [
              "HBox(children=(HTML(value=''), FloatProgress(value=0.0, max=600.0), HTML(value='')))"
            ]
          },
          "metadata": {
            "tags": []
          }
        },
        {
          "output_type": "stream",
          "text": [
            "\n",
            "... de lunares7p/train/images/class_6/\n",
            "6\n"
          ],
          "name": "stdout"
        },
        {
          "output_type": "display_data",
          "data": {
            "application/vnd.jupyter.widget-view+json": {
              "model_id": "f556afc0ed1d47089b831e1725871955",
              "version_major": 2,
              "version_minor": 0
            },
            "text/plain": [
              "HBox(children=(HTML(value=''), FloatProgress(value=0.0, max=600.0), HTML(value='')))"
            ]
          },
          "metadata": {
            "tags": []
          }
        },
        {
          "output_type": "stream",
          "text": [
            "\n"
          ],
          "name": "stdout"
        }
      ]
    },
    {
      "cell_type": "code",
      "metadata": {
        "id": "-8Jmlvv1twp6"
      },
      "source": [
        "np.save('Xgab_red_train_6.npy', Xgab_red_train_6) ## Correr solo si es necesario sobrescribir la matriz"
      ],
      "execution_count": null,
      "outputs": []
    },
    {
      "cell_type": "code",
      "metadata": {
        "id": "KrcuIf8ctwp6"
      },
      "source": [
        "np.save('Xgab_gray_train_6.npy', Xgab_gray_train_6) ## Correr solo si es necesario sobrescribir la matriz"
      ],
      "execution_count": null,
      "outputs": []
    },
    {
      "cell_type": "code",
      "metadata": {
        "colab": {
          "referenced_widgets": [
            "46c47812f80c4bb1a2347bb435487dfe",
            "a7b19c71b4194b52ad20a023838fa02a",
            "a02d6834848649e09b166b395efe3e4d",
            "bb6211800bb9439eba71779dc522805b",
            "a5699e3b9494493682a18927dcabf7b7",
            "fdb05c0a32f94858b6dc18cec970eeb6",
            "07ce529cfc284df0aeee456dd21b9e7f"
          ]
        },
        "id": "YTXOzTx8twp6",
        "outputId": "0ab6f74a-3ad6-486c-9da7-7437fc0833f0"
      },
      "source": [
        "# Extracción de características del Training\n",
        "K = 7 # 7 clases\n",
        "N = 50 # imagenes por clase\n",
        "\n",
        "Mgab = 39          # NUMERO DE ELEMENTOS DEL VECTOR DE gabor\n",
        "Xgab_red_test_6  = np.zeros((K*N,Mgab))    # K*N muestras (filas), y Mhog características (columnas)\n",
        "Xgab_gray_test_6 = np.zeros((K*N, Mgab))\n",
        "\n",
        "y = np.zeros((K*N),'int')           # ground truth (clasificacion ideal)\n",
        "\n",
        "t = 0\n",
        "print('Cargando imagenes y extrayendo características...')\n",
        "\n",
        "for j in range(K):            # para cada clase\n",
        "    fpath = 'lunares7p/test/images/class_'+str(j)+'/'\n",
        "    print('... de '+fpath)\n",
        "    img_list = dirfiles(fpath,'*.jpg')\n",
        "    print(j)\n",
        "\n",
        "    for i in tqdm(range(N)):  # para cada imagen de la clase\n",
        "        ### Lectura de la imagen\n",
        "        img_path = fpath + img_list[i]\n",
        "        img      = plt.imread(img_path)\n",
        "        RGB_img  = cv2.cvtColor(img, cv2.COLOR_BGR2RGB)\n",
        "        img_red  = RGB_img[:,:,1]\n",
        "        gray, red, green, blue = GetChannels(img)\n",
        "\n",
        "        ### Extracción de características\n",
        "        # Gabor con 4 rotaciones y 4 escalas\n",
        "        Xgab_red_test_6[t,:] = gabor_features(img_red, rotations=6, dilations=6)            # <= EXTRAE GABOR\n",
        "        # Gabor con 4 rotaciones y 4 escalas\n",
        "        Xgab_gray_test_6[t,:] = gabor_features(gray, rotations=6, dilations=6)            # <= EXTRAE GABOR\n",
        "\n",
        "        y[t] = j # la muestra t pertenece a la clase j\n",
        "        t = t+1"
      ],
      "execution_count": null,
      "outputs": [
        {
          "output_type": "stream",
          "text": [
            "Cargando imagenes y extrayendo características...\n",
            "... de lunares7p/test/images/class_0/\n",
            "0\n"
          ],
          "name": "stdout"
        },
        {
          "output_type": "display_data",
          "data": {
            "application/vnd.jupyter.widget-view+json": {
              "model_id": "46c47812f80c4bb1a2347bb435487dfe",
              "version_major": 2,
              "version_minor": 0
            },
            "text/plain": [
              "HBox(children=(HTML(value=''), FloatProgress(value=0.0, max=50.0), HTML(value='')))"
            ]
          },
          "metadata": {
            "tags": []
          }
        },
        {
          "output_type": "stream",
          "text": [
            "\n",
            "... de lunares7p/test/images/class_1/\n",
            "1\n"
          ],
          "name": "stdout"
        },
        {
          "output_type": "display_data",
          "data": {
            "application/vnd.jupyter.widget-view+json": {
              "model_id": "a7b19c71b4194b52ad20a023838fa02a",
              "version_major": 2,
              "version_minor": 0
            },
            "text/plain": [
              "HBox(children=(HTML(value=''), FloatProgress(value=0.0, max=50.0), HTML(value='')))"
            ]
          },
          "metadata": {
            "tags": []
          }
        },
        {
          "output_type": "stream",
          "text": [
            "\n",
            "... de lunares7p/test/images/class_2/\n",
            "2\n"
          ],
          "name": "stdout"
        },
        {
          "output_type": "display_data",
          "data": {
            "application/vnd.jupyter.widget-view+json": {
              "model_id": "a02d6834848649e09b166b395efe3e4d",
              "version_major": 2,
              "version_minor": 0
            },
            "text/plain": [
              "HBox(children=(HTML(value=''), FloatProgress(value=0.0, max=50.0), HTML(value='')))"
            ]
          },
          "metadata": {
            "tags": []
          }
        },
        {
          "output_type": "stream",
          "text": [
            "\n",
            "... de lunares7p/test/images/class_3/\n",
            "3\n"
          ],
          "name": "stdout"
        },
        {
          "output_type": "display_data",
          "data": {
            "application/vnd.jupyter.widget-view+json": {
              "model_id": "bb6211800bb9439eba71779dc522805b",
              "version_major": 2,
              "version_minor": 0
            },
            "text/plain": [
              "HBox(children=(HTML(value=''), FloatProgress(value=0.0, max=50.0), HTML(value='')))"
            ]
          },
          "metadata": {
            "tags": []
          }
        },
        {
          "output_type": "stream",
          "text": [
            "\n",
            "... de lunares7p/test/images/class_4/\n",
            "4\n"
          ],
          "name": "stdout"
        },
        {
          "output_type": "display_data",
          "data": {
            "application/vnd.jupyter.widget-view+json": {
              "model_id": "a5699e3b9494493682a18927dcabf7b7",
              "version_major": 2,
              "version_minor": 0
            },
            "text/plain": [
              "HBox(children=(HTML(value=''), FloatProgress(value=0.0, max=50.0), HTML(value='')))"
            ]
          },
          "metadata": {
            "tags": []
          }
        },
        {
          "output_type": "stream",
          "text": [
            "\n",
            "... de lunares7p/test/images/class_5/\n",
            "5\n"
          ],
          "name": "stdout"
        },
        {
          "output_type": "display_data",
          "data": {
            "application/vnd.jupyter.widget-view+json": {
              "model_id": "fdb05c0a32f94858b6dc18cec970eeb6",
              "version_major": 2,
              "version_minor": 0
            },
            "text/plain": [
              "HBox(children=(HTML(value=''), FloatProgress(value=0.0, max=50.0), HTML(value='')))"
            ]
          },
          "metadata": {
            "tags": []
          }
        },
        {
          "output_type": "stream",
          "text": [
            "\n",
            "... de lunares7p/test/images/class_6/\n",
            "6\n"
          ],
          "name": "stdout"
        },
        {
          "output_type": "display_data",
          "data": {
            "application/vnd.jupyter.widget-view+json": {
              "model_id": "07ce529cfc284df0aeee456dd21b9e7f",
              "version_major": 2,
              "version_minor": 0
            },
            "text/plain": [
              "HBox(children=(HTML(value=''), FloatProgress(value=0.0, max=50.0), HTML(value='')))"
            ]
          },
          "metadata": {
            "tags": []
          }
        },
        {
          "output_type": "stream",
          "text": [
            "\n"
          ],
          "name": "stdout"
        }
      ]
    },
    {
      "cell_type": "code",
      "metadata": {
        "id": "kn3p-hZwtwp7"
      },
      "source": [
        "np.save('Xgab_red_test_6.npy', Xgab_red_test_6) ## Correr solo si es necesario sobrescribir la matriz"
      ],
      "execution_count": null,
      "outputs": []
    },
    {
      "cell_type": "code",
      "metadata": {
        "id": "zrDXyWOgtwp7"
      },
      "source": [
        "np.save('Xgab_gray_test_6.npy', Xgab_gray_test_6) ## Correr solo si es necesario sobrescribir la matriz"
      ],
      "execution_count": null,
      "outputs": []
    },
    {
      "cell_type": "markdown",
      "metadata": {
        "id": "RBbUn1sotwp7"
      },
      "source": [
        "## Concatenación train"
      ]
    },
    {
      "cell_type": "code",
      "metadata": {
        "id": "DUaGMO0Ptwp7",
        "outputId": "727ac457-b8de-4b0d-9a16-0effa5948761"
      },
      "source": [
        "import numpy as np\n",
        "import pandas as pd\n",
        "import cv2\n",
        "import PIL\n",
        "import os, fnmatch\n",
        "import scipy\n",
        "import matplotlib.pyplot as plt\n",
        "import seaborn as sns\n",
        "#from google.colab.patches import cv2_imshow\n",
        "from scipy.ndimage.morphology import binary_fill_holes\n",
        "from sklearn.metrics import confusion_matrix, accuracy_score\n",
        "from sklearn.neighbors import KNeighborsClassifier\n",
        "from sklearn.ensemble  import RandomForestClassifier\n",
        "from sklearn.svm import SVC\n",
        "from tqdm.auto import tqdm\n",
        "from   pybalu.feature_selection import sfs\n",
        "from pybalu.feature_extraction import lbp_features, haralick_features, gabor_features,hog_features\n",
        "from pybalu.feature_transformation import normalize, pca\n",
        "from pybalu.feature_selection import sfs,clean\n",
        "from pybalu.feature_analysis import jfisher\n",
        "from pybalu.feature_extraction import fourier_des_features, hugeo_features, flusser_features, gupta_features,basic_geo_features\n",
        "from mlxtend.feature_selection import SequentialFeatureSelector as mlxsfs\n",
        "from sklearn.cross_decomposition import PLSRegression\n",
        "print('Librerías cargadas.')"
      ],
      "execution_count": null,
      "outputs": [
        {
          "output_type": "stream",
          "text": [
            "Librerías cargadas.\n"
          ],
          "name": "stdout"
        }
      ]
    },
    {
      "cell_type": "code",
      "metadata": {
        "id": "qJ1KjQYutwp7"
      },
      "source": [
        "Xgab_red_train_6 = np.load(\"Xgab_red_train_6.npy\")\n",
        "Xlbp_red_train =  np.load(\"Xlbp_red_train.npy\")\n",
        "X_Concat_train = np.concatenate((Xgab_red_train_6,Xlbp_red_train),axis =1)"
      ],
      "execution_count": null,
      "outputs": []
    },
    {
      "cell_type": "code",
      "metadata": {
        "id": "YUnuF06Ytwp7",
        "outputId": "34d1bb13-c622-4287-d758-fc06ff936516"
      },
      "source": [
        "X_Concat_train.shape"
      ],
      "execution_count": null,
      "outputs": [
        {
          "output_type": "execute_result",
          "data": {
            "text/plain": [
              "(4200, 2163)"
            ]
          },
          "metadata": {
            "tags": []
          },
          "execution_count": 7
        }
      ]
    },
    {
      "cell_type": "code",
      "metadata": {
        "id": "Jvspx13xtwp8"
      },
      "source": [
        "Xgab_red_test_6 = np.load(\"Xgab_red_test_6.npy\")\n",
        "Xlbp_red_test =  np.load(\"Xlbp_red_test.npy\")\n",
        "X_Concat_test = np.concatenate((Xgab_red_test_6,Xlbp_red_test),axis =1)"
      ],
      "execution_count": null,
      "outputs": []
    },
    {
      "cell_type": "code",
      "metadata": {
        "id": "yQkxzj1Mtwp8",
        "outputId": "9ede92d9-b2ea-4f80-d830-fa1089b8fb90"
      },
      "source": [
        "X_Concat_test.shape"
      ],
      "execution_count": null,
      "outputs": [
        {
          "output_type": "execute_result",
          "data": {
            "text/plain": [
              "(350, 2163)"
            ]
          },
          "metadata": {
            "tags": []
          },
          "execution_count": 9
        }
      ]
    },
    {
      "cell_type": "markdown",
      "metadata": {
        "id": "7JTeV5pUtwp8"
      },
      "source": [
        "normalizacion"
      ]
    },
    {
      "cell_type": "code",
      "metadata": {
        "id": "I5csqsH0twp8"
      },
      "source": [
        "Xtrain_norm, a, b = normalize(X_Concat_train)\n",
        "Xtest_norm        = X_Concat_test * a + b"
      ],
      "execution_count": null,
      "outputs": []
    },
    {
      "cell_type": "markdown",
      "metadata": {
        "id": "8xcj9XbKtwp8"
      },
      "source": [
        "datos train y test"
      ]
    },
    {
      "cell_type": "code",
      "metadata": {
        "id": "pweiUr2ytwp8",
        "outputId": "bf15681b-3f5e-48e2-9a9d-414009b2b4d2"
      },
      "source": [
        "ytrain = np.load(\"ytrain_img.npy\")\n",
        "print(\"ytrain:\", ytrain.shape)\n",
        "ytest = np.load(\"ytest_img.npy\")\n",
        "print(\"ytest:\", ytest.shape)\n"
      ],
      "execution_count": null,
      "outputs": [
        {
          "output_type": "stream",
          "text": [
            "ytrain: (4200,)\n",
            "ytest: (350,)\n"
          ],
          "name": "stdout"
        }
      ]
    },
    {
      "cell_type": "code",
      "metadata": {
        "id": "CLT9tzShtwp8",
        "outputId": "a5d68331-1913-4160-bea1-561d95458832"
      },
      "source": [
        "#Xtrain\n",
        "print(\"Xtrain_norm:\", Xtrain_norm.shape)\n",
        "\n",
        "#Xtest\n",
        "print(\"Xtest_norm:\", Xtest_norm.shape)\n",
        "\n"
      ],
      "execution_count": null,
      "outputs": [
        {
          "output_type": "stream",
          "text": [
            "Xtrain_norm: (4200, 2163)\n",
            "Xtest_norm: (350, 2163)\n"
          ],
          "name": "stdout"
        }
      ]
    },
    {
      "cell_type": "markdown",
      "metadata": {
        "id": "Ngm8BxRWtwp9"
      },
      "source": [
        "### CLASIFICACION TRAIN"
      ]
    },
    {
      "cell_type": "code",
      "metadata": {
        "id": "mInFrdzStwp9"
      },
      "source": [
        "def performance(ygt,ypred):\n",
        "    # ygt - ground truth (ideal class), ypred - prediction\n",
        "    acc = accuracy_score(ygt,ypred)\n",
        "    acc_st = \"{:.2f}\".format(acc*100)\n",
        "    print('Accuracy = '+str(acc_st))\n",
        "    C   = confusion_matrix(ygt,ypred)\n",
        "    print('Confusion Matrix:')\n",
        "    print(C)\n",
        "    return acc,C"
      ],
      "execution_count": null,
      "outputs": []
    },
    {
      "cell_type": "markdown",
      "metadata": {
        "id": "4Wa2qGv8twp9"
      },
      "source": [
        "## KNN"
      ]
    },
    {
      "cell_type": "code",
      "metadata": {
        "id": "J-dwIbWatwp9",
        "outputId": "9402db75-a508-4ee4-ccf0-6d6e75500b49"
      },
      "source": [
        "# 1. Definición del Clasificador\n",
        "knn_lbp_gab = KNeighborsClassifier(n_neighbors = 3)\n",
        "\n",
        "# 2. Entrenamiento (Xtrain, ytrain)\n",
        "knn_lbp_gab.fit(Xtrain_norm, ytrain)\n",
        "\n",
        "# 3. Predicción en el val (Xtest)\n",
        "ypred = knn_lbp_gab.predict(Xtrain_norm)\n",
        "\n",
        "# 4. Accuracy\n",
        "acc,C = performance(ytrain,ypred)"
      ],
      "execution_count": null,
      "outputs": [
        {
          "output_type": "stream",
          "text": [
            "Accuracy = 80.90\n",
            "Confusion Matrix:\n",
            "[[553   3  23  12   8   1   0]\n",
            " [114 421  24  12  15   8   6]\n",
            " [ 68  51 424   7  29  16   5]\n",
            " [  1   1   1 594   0   0   3]\n",
            " [ 52  46  35  17 436  10   4]\n",
            " [ 14  28  33  27  27 468   3]\n",
            " [ 15  25  10  19  15  14 502]]\n"
          ],
          "name": "stdout"
        }
      ]
    },
    {
      "cell_type": "markdown",
      "metadata": {
        "id": "0steUGh0twp9"
      },
      "source": [
        "### CLASIFICACION TEST"
      ]
    },
    {
      "cell_type": "code",
      "metadata": {
        "id": "jwPiXWtxtwp9",
        "outputId": "4c7b72fb-eab7-4a33-d219-0d9e134970e5"
      },
      "source": [
        "n = 150\n",
        "acc_knn = np.zeros((n,))\n",
        "acc_max = 0\n",
        "for j in range(n):\n",
        "    k = j+1\n",
        "    clf = KNeighborsClassifier(n_neighbors=k)\n",
        "    clf.fit(Xtrain_norm, ytrain)\n",
        "    ypred        = clf.predict(Xtest_norm)\n",
        "    acc_knn[j]   = accuracy_score(ypred,ytest)\n",
        "    if acc_knn[j]>acc_max:\n",
        "        acc_max = acc_knn[j]\n",
        "        kmax = k\n",
        "    print(str(k)+' > '+str(acc_knn[j])+'*** max')\n",
        "\n",
        "plt.plot(range(1,n+1),acc_knn)\n",
        "plt.ylabel('acc')\n",
        "plt.xlabel('n_vecinos')"
      ],
      "execution_count": null,
      "outputs": [
        {
          "output_type": "stream",
          "text": [
            "1 > 0.40285714285714286*** max\n",
            "2 > 0.34*** max\n",
            "3 > 0.3314285714285714*** max\n",
            "4 > 0.34285714285714286*** max\n",
            "5 > 0.3514285714285714*** max\n",
            "6 > 0.35714285714285715*** max\n",
            "7 > 0.36857142857142855*** max\n",
            "8 > 0.35428571428571426*** max\n",
            "9 > 0.35714285714285715*** max\n",
            "10 > 0.35714285714285715*** max\n",
            "11 > 0.35428571428571426*** max\n",
            "12 > 0.34*** max\n",
            "13 > 0.34*** max\n",
            "14 > 0.35428571428571426*** max\n",
            "15 > 0.3514285714285714*** max\n",
            "16 > 0.3314285714285714*** max\n",
            "17 > 0.34*** max\n",
            "18 > 0.3628571428571429*** max\n",
            "19 > 0.35428571428571426*** max\n",
            "20 > 0.35714285714285715*** max\n",
            "21 > 0.3514285714285714*** max\n",
            "22 > 0.37142857142857144*** max\n",
            "23 > 0.36*** max\n",
            "24 > 0.36857142857142855*** max\n",
            "25 > 0.36857142857142855*** max\n",
            "26 > 0.3657142857142857*** max\n",
            "27 > 0.3514285714285714*** max\n",
            "28 > 0.35714285714285715*** max\n",
            "29 > 0.36*** max\n",
            "30 > 0.35428571428571426*** max\n",
            "31 > 0.3485714285714286*** max\n",
            "32 > 0.3514285714285714*** max\n",
            "33 > 0.36*** max\n",
            "34 > 0.3657142857142857*** max\n",
            "35 > 0.3485714285714286*** max\n",
            "36 > 0.3485714285714286*** max\n",
            "37 > 0.35714285714285715*** max\n",
            "38 > 0.34285714285714286*** max\n"
          ],
          "name": "stdout"
        },
        {
          "output_type": "error",
          "ename": "KeyboardInterrupt",
          "evalue": "",
          "traceback": [
            "\u001b[0;31m---------------------------------------------------------------------------\u001b[0m",
            "\u001b[0;31mKeyboardInterrupt\u001b[0m                         Traceback (most recent call last)",
            "\u001b[0;32m<ipython-input-28-7408c82846a9>\u001b[0m in \u001b[0;36m<module>\u001b[0;34m\u001b[0m\n\u001b[1;32m      6\u001b[0m     \u001b[0mclf\u001b[0m \u001b[0;34m=\u001b[0m \u001b[0mKNeighborsClassifier\u001b[0m\u001b[0;34m(\u001b[0m\u001b[0mn_neighbors\u001b[0m\u001b[0;34m=\u001b[0m\u001b[0mk\u001b[0m\u001b[0;34m)\u001b[0m\u001b[0;34m\u001b[0m\u001b[0;34m\u001b[0m\u001b[0m\n\u001b[1;32m      7\u001b[0m     \u001b[0mclf\u001b[0m\u001b[0;34m.\u001b[0m\u001b[0mfit\u001b[0m\u001b[0;34m(\u001b[0m\u001b[0mXtrain_norm\u001b[0m\u001b[0;34m,\u001b[0m \u001b[0mytrain\u001b[0m\u001b[0;34m)\u001b[0m\u001b[0;34m\u001b[0m\u001b[0;34m\u001b[0m\u001b[0m\n\u001b[0;32m----> 8\u001b[0;31m     \u001b[0mypred\u001b[0m        \u001b[0;34m=\u001b[0m \u001b[0mclf\u001b[0m\u001b[0;34m.\u001b[0m\u001b[0mpredict\u001b[0m\u001b[0;34m(\u001b[0m\u001b[0mXtest_norm\u001b[0m\u001b[0;34m)\u001b[0m\u001b[0;34m\u001b[0m\u001b[0;34m\u001b[0m\u001b[0m\n\u001b[0m\u001b[1;32m      9\u001b[0m     \u001b[0macc_knn\u001b[0m\u001b[0;34m[\u001b[0m\u001b[0mj\u001b[0m\u001b[0;34m]\u001b[0m   \u001b[0;34m=\u001b[0m \u001b[0maccuracy_score\u001b[0m\u001b[0;34m(\u001b[0m\u001b[0mypred\u001b[0m\u001b[0;34m,\u001b[0m\u001b[0mytest\u001b[0m\u001b[0;34m)\u001b[0m\u001b[0;34m\u001b[0m\u001b[0;34m\u001b[0m\u001b[0m\n\u001b[1;32m     10\u001b[0m     \u001b[0;32mif\u001b[0m \u001b[0macc_knn\u001b[0m\u001b[0;34m[\u001b[0m\u001b[0mj\u001b[0m\u001b[0;34m]\u001b[0m\u001b[0;34m>\u001b[0m\u001b[0macc_max\u001b[0m\u001b[0;34m:\u001b[0m\u001b[0;34m\u001b[0m\u001b[0;34m\u001b[0m\u001b[0m\n",
            "\u001b[0;32m~/anaconda3/lib/python3.8/site-packages/sklearn/neighbors/_classification.py\u001b[0m in \u001b[0;36mpredict\u001b[0;34m(self, X)\u001b[0m\n\u001b[1;32m    173\u001b[0m         \u001b[0mX\u001b[0m \u001b[0;34m=\u001b[0m \u001b[0mcheck_array\u001b[0m\u001b[0;34m(\u001b[0m\u001b[0mX\u001b[0m\u001b[0;34m,\u001b[0m \u001b[0maccept_sparse\u001b[0m\u001b[0;34m=\u001b[0m\u001b[0;34m'csr'\u001b[0m\u001b[0;34m)\u001b[0m\u001b[0;34m\u001b[0m\u001b[0;34m\u001b[0m\u001b[0m\n\u001b[1;32m    174\u001b[0m \u001b[0;34m\u001b[0m\u001b[0m\n\u001b[0;32m--> 175\u001b[0;31m         \u001b[0mneigh_dist\u001b[0m\u001b[0;34m,\u001b[0m \u001b[0mneigh_ind\u001b[0m \u001b[0;34m=\u001b[0m \u001b[0mself\u001b[0m\u001b[0;34m.\u001b[0m\u001b[0mkneighbors\u001b[0m\u001b[0;34m(\u001b[0m\u001b[0mX\u001b[0m\u001b[0;34m)\u001b[0m\u001b[0;34m\u001b[0m\u001b[0;34m\u001b[0m\u001b[0m\n\u001b[0m\u001b[1;32m    176\u001b[0m         \u001b[0mclasses_\u001b[0m \u001b[0;34m=\u001b[0m \u001b[0mself\u001b[0m\u001b[0;34m.\u001b[0m\u001b[0mclasses_\u001b[0m\u001b[0;34m\u001b[0m\u001b[0;34m\u001b[0m\u001b[0m\n\u001b[1;32m    177\u001b[0m         \u001b[0m_y\u001b[0m \u001b[0;34m=\u001b[0m \u001b[0mself\u001b[0m\u001b[0;34m.\u001b[0m\u001b[0m_y\u001b[0m\u001b[0;34m\u001b[0m\u001b[0;34m\u001b[0m\u001b[0m\n",
            "\u001b[0;32m~/anaconda3/lib/python3.8/site-packages/sklearn/neighbors/_base.py\u001b[0m in \u001b[0;36mkneighbors\u001b[0;34m(self, X, n_neighbors, return_distance)\u001b[0m\n\u001b[1;32m    660\u001b[0m                 \u001b[0mdelayed_query\u001b[0m \u001b[0;34m=\u001b[0m \u001b[0mdelayed\u001b[0m\u001b[0;34m(\u001b[0m\u001b[0m_tree_query_parallel_helper\u001b[0m\u001b[0;34m)\u001b[0m\u001b[0;34m\u001b[0m\u001b[0;34m\u001b[0m\u001b[0m\n\u001b[1;32m    661\u001b[0m                 \u001b[0mparallel_kwargs\u001b[0m \u001b[0;34m=\u001b[0m \u001b[0;34m{\u001b[0m\u001b[0;34m\"prefer\"\u001b[0m\u001b[0;34m:\u001b[0m \u001b[0;34m\"threads\"\u001b[0m\u001b[0;34m}\u001b[0m\u001b[0;34m\u001b[0m\u001b[0;34m\u001b[0m\u001b[0m\n\u001b[0;32m--> 662\u001b[0;31m             chunked_results = Parallel(n_jobs, **parallel_kwargs)(\n\u001b[0m\u001b[1;32m    663\u001b[0m                 delayed_query(\n\u001b[1;32m    664\u001b[0m                     self._tree, X[s], n_neighbors, return_distance)\n",
            "\u001b[0;32m~/anaconda3/lib/python3.8/site-packages/joblib/parallel.py\u001b[0m in \u001b[0;36m__call__\u001b[0;34m(self, iterable)\u001b[0m\n\u001b[1;32m   1046\u001b[0m             \u001b[0;31m# remaining jobs.\u001b[0m\u001b[0;34m\u001b[0m\u001b[0;34m\u001b[0m\u001b[0;34m\u001b[0m\u001b[0m\n\u001b[1;32m   1047\u001b[0m             \u001b[0mself\u001b[0m\u001b[0;34m.\u001b[0m\u001b[0m_iterating\u001b[0m \u001b[0;34m=\u001b[0m \u001b[0;32mFalse\u001b[0m\u001b[0;34m\u001b[0m\u001b[0;34m\u001b[0m\u001b[0m\n\u001b[0;32m-> 1048\u001b[0;31m             \u001b[0;32mif\u001b[0m \u001b[0mself\u001b[0m\u001b[0;34m.\u001b[0m\u001b[0mdispatch_one_batch\u001b[0m\u001b[0;34m(\u001b[0m\u001b[0miterator\u001b[0m\u001b[0;34m)\u001b[0m\u001b[0;34m:\u001b[0m\u001b[0;34m\u001b[0m\u001b[0;34m\u001b[0m\u001b[0m\n\u001b[0m\u001b[1;32m   1049\u001b[0m                 \u001b[0mself\u001b[0m\u001b[0;34m.\u001b[0m\u001b[0m_iterating\u001b[0m \u001b[0;34m=\u001b[0m \u001b[0mself\u001b[0m\u001b[0;34m.\u001b[0m\u001b[0m_original_iterator\u001b[0m \u001b[0;32mis\u001b[0m \u001b[0;32mnot\u001b[0m \u001b[0;32mNone\u001b[0m\u001b[0;34m\u001b[0m\u001b[0;34m\u001b[0m\u001b[0m\n\u001b[1;32m   1050\u001b[0m \u001b[0;34m\u001b[0m\u001b[0m\n",
            "\u001b[0;32m~/anaconda3/lib/python3.8/site-packages/joblib/parallel.py\u001b[0m in \u001b[0;36mdispatch_one_batch\u001b[0;34m(self, iterator)\u001b[0m\n\u001b[1;32m    864\u001b[0m                 \u001b[0;32mreturn\u001b[0m \u001b[0;32mFalse\u001b[0m\u001b[0;34m\u001b[0m\u001b[0;34m\u001b[0m\u001b[0m\n\u001b[1;32m    865\u001b[0m             \u001b[0;32melse\u001b[0m\u001b[0;34m:\u001b[0m\u001b[0;34m\u001b[0m\u001b[0;34m\u001b[0m\u001b[0m\n\u001b[0;32m--> 866\u001b[0;31m                 \u001b[0mself\u001b[0m\u001b[0;34m.\u001b[0m\u001b[0m_dispatch\u001b[0m\u001b[0;34m(\u001b[0m\u001b[0mtasks\u001b[0m\u001b[0;34m)\u001b[0m\u001b[0;34m\u001b[0m\u001b[0;34m\u001b[0m\u001b[0m\n\u001b[0m\u001b[1;32m    867\u001b[0m                 \u001b[0;32mreturn\u001b[0m \u001b[0;32mTrue\u001b[0m\u001b[0;34m\u001b[0m\u001b[0;34m\u001b[0m\u001b[0m\n\u001b[1;32m    868\u001b[0m \u001b[0;34m\u001b[0m\u001b[0m\n",
            "\u001b[0;32m~/anaconda3/lib/python3.8/site-packages/joblib/parallel.py\u001b[0m in \u001b[0;36m_dispatch\u001b[0;34m(self, batch)\u001b[0m\n\u001b[1;32m    782\u001b[0m         \u001b[0;32mwith\u001b[0m \u001b[0mself\u001b[0m\u001b[0;34m.\u001b[0m\u001b[0m_lock\u001b[0m\u001b[0;34m:\u001b[0m\u001b[0;34m\u001b[0m\u001b[0;34m\u001b[0m\u001b[0m\n\u001b[1;32m    783\u001b[0m             \u001b[0mjob_idx\u001b[0m \u001b[0;34m=\u001b[0m \u001b[0mlen\u001b[0m\u001b[0;34m(\u001b[0m\u001b[0mself\u001b[0m\u001b[0;34m.\u001b[0m\u001b[0m_jobs\u001b[0m\u001b[0;34m)\u001b[0m\u001b[0;34m\u001b[0m\u001b[0;34m\u001b[0m\u001b[0m\n\u001b[0;32m--> 784\u001b[0;31m             \u001b[0mjob\u001b[0m \u001b[0;34m=\u001b[0m \u001b[0mself\u001b[0m\u001b[0;34m.\u001b[0m\u001b[0m_backend\u001b[0m\u001b[0;34m.\u001b[0m\u001b[0mapply_async\u001b[0m\u001b[0;34m(\u001b[0m\u001b[0mbatch\u001b[0m\u001b[0;34m,\u001b[0m \u001b[0mcallback\u001b[0m\u001b[0;34m=\u001b[0m\u001b[0mcb\u001b[0m\u001b[0;34m)\u001b[0m\u001b[0;34m\u001b[0m\u001b[0;34m\u001b[0m\u001b[0m\n\u001b[0m\u001b[1;32m    785\u001b[0m             \u001b[0;31m# A job can complete so quickly than its callback is\u001b[0m\u001b[0;34m\u001b[0m\u001b[0;34m\u001b[0m\u001b[0;34m\u001b[0m\u001b[0m\n\u001b[1;32m    786\u001b[0m             \u001b[0;31m# called before we get here, causing self._jobs to\u001b[0m\u001b[0;34m\u001b[0m\u001b[0;34m\u001b[0m\u001b[0;34m\u001b[0m\u001b[0m\n",
            "\u001b[0;32m~/anaconda3/lib/python3.8/site-packages/joblib/_parallel_backends.py\u001b[0m in \u001b[0;36mapply_async\u001b[0;34m(self, func, callback)\u001b[0m\n\u001b[1;32m    206\u001b[0m     \u001b[0;32mdef\u001b[0m \u001b[0mapply_async\u001b[0m\u001b[0;34m(\u001b[0m\u001b[0mself\u001b[0m\u001b[0;34m,\u001b[0m \u001b[0mfunc\u001b[0m\u001b[0;34m,\u001b[0m \u001b[0mcallback\u001b[0m\u001b[0;34m=\u001b[0m\u001b[0;32mNone\u001b[0m\u001b[0;34m)\u001b[0m\u001b[0;34m:\u001b[0m\u001b[0;34m\u001b[0m\u001b[0;34m\u001b[0m\u001b[0m\n\u001b[1;32m    207\u001b[0m         \u001b[0;34m\"\"\"Schedule a func to be run\"\"\"\u001b[0m\u001b[0;34m\u001b[0m\u001b[0;34m\u001b[0m\u001b[0m\n\u001b[0;32m--> 208\u001b[0;31m         \u001b[0mresult\u001b[0m \u001b[0;34m=\u001b[0m \u001b[0mImmediateResult\u001b[0m\u001b[0;34m(\u001b[0m\u001b[0mfunc\u001b[0m\u001b[0;34m)\u001b[0m\u001b[0;34m\u001b[0m\u001b[0;34m\u001b[0m\u001b[0m\n\u001b[0m\u001b[1;32m    209\u001b[0m         \u001b[0;32mif\u001b[0m \u001b[0mcallback\u001b[0m\u001b[0;34m:\u001b[0m\u001b[0;34m\u001b[0m\u001b[0;34m\u001b[0m\u001b[0m\n\u001b[1;32m    210\u001b[0m             \u001b[0mcallback\u001b[0m\u001b[0;34m(\u001b[0m\u001b[0mresult\u001b[0m\u001b[0;34m)\u001b[0m\u001b[0;34m\u001b[0m\u001b[0;34m\u001b[0m\u001b[0m\n",
            "\u001b[0;32m~/anaconda3/lib/python3.8/site-packages/joblib/_parallel_backends.py\u001b[0m in \u001b[0;36m__init__\u001b[0;34m(self, batch)\u001b[0m\n\u001b[1;32m    570\u001b[0m         \u001b[0;31m# Don't delay the application, to avoid keeping the input\u001b[0m\u001b[0;34m\u001b[0m\u001b[0;34m\u001b[0m\u001b[0;34m\u001b[0m\u001b[0m\n\u001b[1;32m    571\u001b[0m         \u001b[0;31m# arguments in memory\u001b[0m\u001b[0;34m\u001b[0m\u001b[0;34m\u001b[0m\u001b[0;34m\u001b[0m\u001b[0m\n\u001b[0;32m--> 572\u001b[0;31m         \u001b[0mself\u001b[0m\u001b[0;34m.\u001b[0m\u001b[0mresults\u001b[0m \u001b[0;34m=\u001b[0m \u001b[0mbatch\u001b[0m\u001b[0;34m(\u001b[0m\u001b[0;34m)\u001b[0m\u001b[0;34m\u001b[0m\u001b[0;34m\u001b[0m\u001b[0m\n\u001b[0m\u001b[1;32m    573\u001b[0m \u001b[0;34m\u001b[0m\u001b[0m\n\u001b[1;32m    574\u001b[0m     \u001b[0;32mdef\u001b[0m \u001b[0mget\u001b[0m\u001b[0;34m(\u001b[0m\u001b[0mself\u001b[0m\u001b[0;34m)\u001b[0m\u001b[0;34m:\u001b[0m\u001b[0;34m\u001b[0m\u001b[0;34m\u001b[0m\u001b[0m\n",
            "\u001b[0;32m~/anaconda3/lib/python3.8/site-packages/joblib/parallel.py\u001b[0m in \u001b[0;36m__call__\u001b[0;34m(self)\u001b[0m\n\u001b[1;32m    260\u001b[0m         \u001b[0;31m# change the default number of processes to -1\u001b[0m\u001b[0;34m\u001b[0m\u001b[0;34m\u001b[0m\u001b[0;34m\u001b[0m\u001b[0m\n\u001b[1;32m    261\u001b[0m         \u001b[0;32mwith\u001b[0m \u001b[0mparallel_backend\u001b[0m\u001b[0;34m(\u001b[0m\u001b[0mself\u001b[0m\u001b[0;34m.\u001b[0m\u001b[0m_backend\u001b[0m\u001b[0;34m,\u001b[0m \u001b[0mn_jobs\u001b[0m\u001b[0;34m=\u001b[0m\u001b[0mself\u001b[0m\u001b[0;34m.\u001b[0m\u001b[0m_n_jobs\u001b[0m\u001b[0;34m)\u001b[0m\u001b[0;34m:\u001b[0m\u001b[0;34m\u001b[0m\u001b[0;34m\u001b[0m\u001b[0m\n\u001b[0;32m--> 262\u001b[0;31m             return [func(*args, **kwargs)\n\u001b[0m\u001b[1;32m    263\u001b[0m                     for func, args, kwargs in self.items]\n\u001b[1;32m    264\u001b[0m \u001b[0;34m\u001b[0m\u001b[0m\n",
            "\u001b[0;32m~/anaconda3/lib/python3.8/site-packages/joblib/parallel.py\u001b[0m in \u001b[0;36m<listcomp>\u001b[0;34m(.0)\u001b[0m\n\u001b[1;32m    260\u001b[0m         \u001b[0;31m# change the default number of processes to -1\u001b[0m\u001b[0;34m\u001b[0m\u001b[0;34m\u001b[0m\u001b[0;34m\u001b[0m\u001b[0m\n\u001b[1;32m    261\u001b[0m         \u001b[0;32mwith\u001b[0m \u001b[0mparallel_backend\u001b[0m\u001b[0;34m(\u001b[0m\u001b[0mself\u001b[0m\u001b[0;34m.\u001b[0m\u001b[0m_backend\u001b[0m\u001b[0;34m,\u001b[0m \u001b[0mn_jobs\u001b[0m\u001b[0;34m=\u001b[0m\u001b[0mself\u001b[0m\u001b[0;34m.\u001b[0m\u001b[0m_n_jobs\u001b[0m\u001b[0;34m)\u001b[0m\u001b[0;34m:\u001b[0m\u001b[0;34m\u001b[0m\u001b[0;34m\u001b[0m\u001b[0m\n\u001b[0;32m--> 262\u001b[0;31m             return [func(*args, **kwargs)\n\u001b[0m\u001b[1;32m    263\u001b[0m                     for func, args, kwargs in self.items]\n\u001b[1;32m    264\u001b[0m \u001b[0;34m\u001b[0m\u001b[0m\n",
            "\u001b[0;32m~/anaconda3/lib/python3.8/site-packages/sklearn/neighbors/_base.py\u001b[0m in \u001b[0;36m_tree_query_parallel_helper\u001b[0;34m(tree, *args, **kwargs)\u001b[0m\n\u001b[1;32m    490\u001b[0m     \u001b[0munder\u001b[0m \u001b[0mPyPy\u001b[0m\u001b[0;34m.\u001b[0m\u001b[0;34m\u001b[0m\u001b[0;34m\u001b[0m\u001b[0m\n\u001b[1;32m    491\u001b[0m     \"\"\"\n\u001b[0;32m--> 492\u001b[0;31m     \u001b[0;32mreturn\u001b[0m \u001b[0mtree\u001b[0m\u001b[0;34m.\u001b[0m\u001b[0mquery\u001b[0m\u001b[0;34m(\u001b[0m\u001b[0;34m*\u001b[0m\u001b[0margs\u001b[0m\u001b[0;34m,\u001b[0m \u001b[0;34m**\u001b[0m\u001b[0mkwargs\u001b[0m\u001b[0;34m)\u001b[0m\u001b[0;34m\u001b[0m\u001b[0;34m\u001b[0m\u001b[0m\n\u001b[0m\u001b[1;32m    493\u001b[0m \u001b[0;34m\u001b[0m\u001b[0m\n\u001b[1;32m    494\u001b[0m \u001b[0;34m\u001b[0m\u001b[0m\n",
            "\u001b[0;31mKeyboardInterrupt\u001b[0m: "
          ]
        }
      ]
    },
    {
      "cell_type": "code",
      "metadata": {
        "id": "eCkgxP5ttwp-",
        "outputId": "4dddb839-920f-42d7-ceaa-12d67cc6bdb3"
      },
      "source": [
        "# 1. Definición del Clasificador\n",
        "knn_lbp_gab = KNeighborsClassifier(n_neighbors =14)  #k=7 ->36.9\n",
        "\n",
        "# 2. Entrenamiento (Xtrain, ytrain)\n",
        "knn_lbp_gab.fit(Xtrain_norm, ytrain)\n",
        "\n",
        "# 3. Predicción en el val (Xtest/val)\n",
        "ypred = knn_lbp_gab.predict(Xtest_norm)\n",
        "\n",
        "# 4. Accuracy\n",
        "acc,C = performance(ytest,ypred)"
      ],
      "execution_count": null,
      "outputs": [
        {
          "output_type": "stream",
          "text": [
            "Accuracy = 35.43\n",
            "Confusion Matrix:\n",
            "[[34  6  4  3  3  0  0]\n",
            " [18 11  8  6  6  1  0]\n",
            " [12  8 14  4  7  4  1]\n",
            " [ 9  7  7 16  8  3  0]\n",
            " [11  3  9  7 13  6  1]\n",
            " [ 1  5  2 11  4 24  3]\n",
            " [ 2  9  4  3 11  9 12]]\n"
          ],
          "name": "stdout"
        }
      ]
    },
    {
      "cell_type": "markdown",
      "metadata": {
        "id": "jTpQLx-ftwp-"
      },
      "source": [
        "## RANDOM FOREST"
      ]
    },
    {
      "cell_type": "markdown",
      "metadata": {
        "id": "71GfqJ1Mtwp-"
      },
      "source": [
        "Train"
      ]
    },
    {
      "cell_type": "code",
      "metadata": {
        "id": "zuITr-Gxtwp-",
        "outputId": "95343ed8-06c9-467a-cb84-78726e048687"
      },
      "source": [
        "# 1. Definición del Clasificador\n",
        "rf_lbp_gab = RandomForestClassifier(max_depth=16)\n",
        "\n",
        "# 2. Entrenamiento (Xtrain, ytrain)\n",
        "rf_lbp_gab.fit(Xtrain_norm, ytrain)\n",
        "\n",
        "# 3. Predicción en el val (Xtest)\n",
        "ypred = rf_lbp_gab.predict(Xtrain_norm)\n",
        "\n",
        "# 4. Accuracy\n",
        "acc,C = performance(ytrain,ypred)"
      ],
      "execution_count": null,
      "outputs": [
        {
          "output_type": "stream",
          "text": [
            "Accuracy = 100.00\n",
            "Confusion Matrix:\n",
            "[[600   0   0   0   0   0   0]\n",
            " [  0 600   0   0   0   0   0]\n",
            " [  0   0 600   0   0   0   0]\n",
            " [  0   0   0 600   0   0   0]\n",
            " [  0   0   0   0 600   0   0]\n",
            " [  0   0   0   0   0 600   0]\n",
            " [  0   0   0   0   0   0 600]]\n"
          ],
          "name": "stdout"
        }
      ]
    },
    {
      "cell_type": "markdown",
      "metadata": {
        "id": "n8VWhMpAtwp-"
      },
      "source": [
        "Test"
      ]
    },
    {
      "cell_type": "code",
      "metadata": {
        "id": "j66qlSbbtwp_",
        "outputId": "09025fc2-3675-47de-b11a-90200a16cba9"
      },
      "source": [
        "# 1. Definición del Clasificador\n",
        "rf_lbp_gab = RandomForestClassifier(max_depth=17)\n",
        "\n",
        "# 2. Entrenamiento (Xtrain, ytrain)\n",
        "rf_lbp_gab.fit(Xtrain_norm, ytrain)\n",
        "\n",
        "# 3. Predicción en el val (Xtest/val)\n",
        "ypred = rf_lbp_gab.predict(Xtest_norm)\n",
        "\n",
        "# 4. Accuracy\n",
        "acc,C = performance(ytest,ypred)"
      ],
      "execution_count": null,
      "outputs": [
        {
          "output_type": "stream",
          "text": [
            "Accuracy = 39.43\n",
            "Confusion Matrix:\n",
            "[[28  6  8  5  3  0  0]\n",
            " [ 9 23  5  8  3  1  1]\n",
            " [ 6  7 13  7  8  6  3]\n",
            " [ 5  6  9 16  4  9  1]\n",
            " [ 7  5 11  1 16  7  3]\n",
            " [ 0  8  1  4  6 23  8]\n",
            " [ 0  7  3  3  5 13 19]]\n"
          ],
          "name": "stdout"
        }
      ]
    },
    {
      "cell_type": "code",
      "metadata": {
        "id": "spJB4R9Ptwp_"
      },
      "source": [],
      "execution_count": null,
      "outputs": []
    }
  ]
}
